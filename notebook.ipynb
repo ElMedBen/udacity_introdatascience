{
 "cells": [
  {
   "cell_type": "markdown",
   "id": "established-license",
   "metadata": {},
   "source": [
    "# Intro to datascience\n",
    "\n",
    "The purpose of this project is to apply the CRISP-DM process to study listings data. As a quick recap, CRISP-DM is based on 6 important points : \n",
    "\n",
    "* 1.Business Understanding\n",
    "* 2.Data Understanding\n",
    "* 3.Prepare Data\n",
    "* 4.Model Data\n",
    "* 5.Results\n",
    "* 6.Deploy\n",
    "\n",
    "We will try to evaluate the given data and to fill in each step of the CRISP-DM to practice our skills and to learn more about data science ."
   ]
  },
  {
   "cell_type": "code",
   "execution_count": 1,
   "id": "magnetic-interface",
   "metadata": {},
   "outputs": [],
   "source": [
    "#importing relevant libraries that will be needed during this study\n",
    "\n",
    "import pandas as pd\n",
    "import numpy as np\n",
    "import matplotlib.pyplot as plt\n",
    "%matplotlib inline\n",
    "import seaborn as sb\n",
    "import math\n",
    "import statsmodels.api as sm;\n",
    "from statsmodels.stats.outliers_influence import variance_inflation_factor\n",
    "\n",
    "from scipy import stats\n",
    "\n",
    "from sklearn.linear_model import LinearRegression\n",
    "from sklearn.model_selection import train_test_split\n",
    "from sklearn.metrics import r2_score, mean_squared_error, mean_absolute_error\n"
   ]
  },
  {
   "cell_type": "markdown",
   "id": "lyric-horizon",
   "metadata": {},
   "source": [
    "# Business understanding"
   ]
  },
  {
   "cell_type": "markdown",
   "id": "identified-vietnam",
   "metadata": {},
   "source": [
    "AirBnB stand for \"Air Bed and Breakfast\". It is an American company that operates an online marketplace for lodging, primarily homestays for vacation rentals, and tourism activities. Based in San Francisco, California, the platform is accessible via website and mobile app.\n",
    "\n",
    "\n",
    "![image info](https://upload.wikimedia.org/wikipedia/commons/thumb/6/69/Airbnb_Logo_B%C3%A9lo.svg/1024px-Airbnb_Logo_B%C3%A9lo.svg.png)\n",
    "\n",
    "\n",
    "Airbnb provides a platform for hosts to accommodate guests with short-term lodging and tourism-related activities. Guests can search for lodging using filters such as lodging type, dates, location, and price, and can search for specific types of homes, such as bed and breakfasts, unique homes, and vacation homes. [wikipedia](https://en.wikipedia.org/wiki/Airbnb#Overview)\n",
    "\n",
    "The provided services always equates to tones of data gathered during evry process of booking a listed place. The created dataset contains data related to pricings, locations, reviews, amenities details ....\n",
    "\n",
    "**Our objective in this study is simple, build a model based on the listings caracteristics to evaluate the price. We can think of caracteristics like number of bedroms, bathroms, neightborhood ...**"
   ]
  },
  {
   "cell_type": "markdown",
   "id": "informal-imperial",
   "metadata": {},
   "source": [
    "# Data Understanding"
   ]
  },
  {
   "cell_type": "markdown",
   "id": "retained-board",
   "metadata": {},
   "source": [
    "## Description \n",
    "\n",
    "The data that will be studied is related to seatle.\n",
    "\n",
    "Since 2008, guests and hosts have used Airbnb to travel in a more unique, personalized way. As part of the Airbnb Inside initiative, this dataset describes the listing activity of homestays in Seattle, WA.\n",
    "\n",
    "The following Airbnb activity is included in this Seattle dataset:\n",
    "* **Listings, including full descriptions and average review score**\n",
    "* **Reviews, including unique id for each reviewer and detailed comments**\n",
    "* **Calendar, including listing id and the price and availability for that day**\n",
    "\n",
    "This dataset is part of Airbnb Inside, and the original source can be found [here](http://insideairbnb.com/get-the-data.html)."
   ]
  },
  {
   "cell_type": "markdown",
   "id": "hybrid-occupation",
   "metadata": {},
   "source": [
    "## Assessment : listings\n"
   ]
  },
  {
   "cell_type": "code",
   "execution_count": 2,
   "id": "civil-carnival",
   "metadata": {},
   "outputs": [],
   "source": [
    "#data importing\n",
    "listings=pd.read_csv('listings.csv')"
   ]
  },
  {
   "cell_type": "code",
   "execution_count": 3,
   "id": "daily-mount",
   "metadata": {},
   "outputs": [
    {
     "data": {
      "text/html": [
       "<div>\n",
       "<style scoped>\n",
       "    .dataframe tbody tr th:only-of-type {\n",
       "        vertical-align: middle;\n",
       "    }\n",
       "\n",
       "    .dataframe tbody tr th {\n",
       "        vertical-align: top;\n",
       "    }\n",
       "\n",
       "    .dataframe thead th {\n",
       "        text-align: right;\n",
       "    }\n",
       "</style>\n",
       "<table border=\"1\" class=\"dataframe\">\n",
       "  <thead>\n",
       "    <tr style=\"text-align: right;\">\n",
       "      <th></th>\n",
       "      <th>id</th>\n",
       "      <th>listing_url</th>\n",
       "      <th>scrape_id</th>\n",
       "      <th>last_scraped</th>\n",
       "      <th>name</th>\n",
       "      <th>summary</th>\n",
       "      <th>space</th>\n",
       "      <th>description</th>\n",
       "      <th>experiences_offered</th>\n",
       "      <th>neighborhood_overview</th>\n",
       "      <th>...</th>\n",
       "      <th>review_scores_value</th>\n",
       "      <th>requires_license</th>\n",
       "      <th>license</th>\n",
       "      <th>jurisdiction_names</th>\n",
       "      <th>instant_bookable</th>\n",
       "      <th>cancellation_policy</th>\n",
       "      <th>require_guest_profile_picture</th>\n",
       "      <th>require_guest_phone_verification</th>\n",
       "      <th>calculated_host_listings_count</th>\n",
       "      <th>reviews_per_month</th>\n",
       "    </tr>\n",
       "  </thead>\n",
       "  <tbody>\n",
       "    <tr>\n",
       "      <th>0</th>\n",
       "      <td>241032</td>\n",
       "      <td>https://www.airbnb.com/rooms/241032</td>\n",
       "      <td>20160104002432</td>\n",
       "      <td>2016-01-04</td>\n",
       "      <td>Stylish Queen Anne Apartment</td>\n",
       "      <td>NaN</td>\n",
       "      <td>Make your self at home in this charming one-be...</td>\n",
       "      <td>Make your self at home in this charming one-be...</td>\n",
       "      <td>none</td>\n",
       "      <td>NaN</td>\n",
       "      <td>...</td>\n",
       "      <td>10.0</td>\n",
       "      <td>f</td>\n",
       "      <td>NaN</td>\n",
       "      <td>WASHINGTON</td>\n",
       "      <td>f</td>\n",
       "      <td>moderate</td>\n",
       "      <td>f</td>\n",
       "      <td>f</td>\n",
       "      <td>2</td>\n",
       "      <td>4.07</td>\n",
       "    </tr>\n",
       "    <tr>\n",
       "      <th>1</th>\n",
       "      <td>953595</td>\n",
       "      <td>https://www.airbnb.com/rooms/953595</td>\n",
       "      <td>20160104002432</td>\n",
       "      <td>2016-01-04</td>\n",
       "      <td>Bright &amp; Airy Queen Anne Apartment</td>\n",
       "      <td>Chemically sensitive? We've removed the irrita...</td>\n",
       "      <td>Beautiful, hypoallergenic apartment in an extr...</td>\n",
       "      <td>Chemically sensitive? We've removed the irrita...</td>\n",
       "      <td>none</td>\n",
       "      <td>Queen Anne is a wonderful, truly functional vi...</td>\n",
       "      <td>...</td>\n",
       "      <td>10.0</td>\n",
       "      <td>f</td>\n",
       "      <td>NaN</td>\n",
       "      <td>WASHINGTON</td>\n",
       "      <td>f</td>\n",
       "      <td>strict</td>\n",
       "      <td>t</td>\n",
       "      <td>t</td>\n",
       "      <td>6</td>\n",
       "      <td>1.48</td>\n",
       "    </tr>\n",
       "    <tr>\n",
       "      <th>2</th>\n",
       "      <td>3308979</td>\n",
       "      <td>https://www.airbnb.com/rooms/3308979</td>\n",
       "      <td>20160104002432</td>\n",
       "      <td>2016-01-04</td>\n",
       "      <td>New Modern House-Amazing water view</td>\n",
       "      <td>New modern house built in 2013.  Spectacular s...</td>\n",
       "      <td>Our house is modern, light and fresh with a wa...</td>\n",
       "      <td>New modern house built in 2013.  Spectacular s...</td>\n",
       "      <td>none</td>\n",
       "      <td>Upper Queen Anne is a charming neighborhood fu...</td>\n",
       "      <td>...</td>\n",
       "      <td>10.0</td>\n",
       "      <td>f</td>\n",
       "      <td>NaN</td>\n",
       "      <td>WASHINGTON</td>\n",
       "      <td>f</td>\n",
       "      <td>strict</td>\n",
       "      <td>f</td>\n",
       "      <td>f</td>\n",
       "      <td>2</td>\n",
       "      <td>1.15</td>\n",
       "    </tr>\n",
       "    <tr>\n",
       "      <th>3</th>\n",
       "      <td>7421966</td>\n",
       "      <td>https://www.airbnb.com/rooms/7421966</td>\n",
       "      <td>20160104002432</td>\n",
       "      <td>2016-01-04</td>\n",
       "      <td>Queen Anne Chateau</td>\n",
       "      <td>A charming apartment that sits atop Queen Anne...</td>\n",
       "      <td>NaN</td>\n",
       "      <td>A charming apartment that sits atop Queen Anne...</td>\n",
       "      <td>none</td>\n",
       "      <td>NaN</td>\n",
       "      <td>...</td>\n",
       "      <td>NaN</td>\n",
       "      <td>f</td>\n",
       "      <td>NaN</td>\n",
       "      <td>WASHINGTON</td>\n",
       "      <td>f</td>\n",
       "      <td>flexible</td>\n",
       "      <td>f</td>\n",
       "      <td>f</td>\n",
       "      <td>1</td>\n",
       "      <td>NaN</td>\n",
       "    </tr>\n",
       "    <tr>\n",
       "      <th>4</th>\n",
       "      <td>278830</td>\n",
       "      <td>https://www.airbnb.com/rooms/278830</td>\n",
       "      <td>20160104002432</td>\n",
       "      <td>2016-01-04</td>\n",
       "      <td>Charming craftsman 3 bdm house</td>\n",
       "      <td>Cozy family craftman house in beautiful neighb...</td>\n",
       "      <td>Cozy family craftman house in beautiful neighb...</td>\n",
       "      <td>Cozy family craftman house in beautiful neighb...</td>\n",
       "      <td>none</td>\n",
       "      <td>We are in the beautiful neighborhood of Queen ...</td>\n",
       "      <td>...</td>\n",
       "      <td>9.0</td>\n",
       "      <td>f</td>\n",
       "      <td>NaN</td>\n",
       "      <td>WASHINGTON</td>\n",
       "      <td>f</td>\n",
       "      <td>strict</td>\n",
       "      <td>f</td>\n",
       "      <td>f</td>\n",
       "      <td>1</td>\n",
       "      <td>0.89</td>\n",
       "    </tr>\n",
       "  </tbody>\n",
       "</table>\n",
       "<p>5 rows × 92 columns</p>\n",
       "</div>"
      ],
      "text/plain": [
       "        id                           listing_url       scrape_id last_scraped  \\\n",
       "0   241032   https://www.airbnb.com/rooms/241032  20160104002432   2016-01-04   \n",
       "1   953595   https://www.airbnb.com/rooms/953595  20160104002432   2016-01-04   \n",
       "2  3308979  https://www.airbnb.com/rooms/3308979  20160104002432   2016-01-04   \n",
       "3  7421966  https://www.airbnb.com/rooms/7421966  20160104002432   2016-01-04   \n",
       "4   278830   https://www.airbnb.com/rooms/278830  20160104002432   2016-01-04   \n",
       "\n",
       "                                  name  \\\n",
       "0         Stylish Queen Anne Apartment   \n",
       "1   Bright & Airy Queen Anne Apartment   \n",
       "2  New Modern House-Amazing water view   \n",
       "3                   Queen Anne Chateau   \n",
       "4       Charming craftsman 3 bdm house   \n",
       "\n",
       "                                             summary  \\\n",
       "0                                                NaN   \n",
       "1  Chemically sensitive? We've removed the irrita...   \n",
       "2  New modern house built in 2013.  Spectacular s...   \n",
       "3  A charming apartment that sits atop Queen Anne...   \n",
       "4  Cozy family craftman house in beautiful neighb...   \n",
       "\n",
       "                                               space  \\\n",
       "0  Make your self at home in this charming one-be...   \n",
       "1  Beautiful, hypoallergenic apartment in an extr...   \n",
       "2  Our house is modern, light and fresh with a wa...   \n",
       "3                                                NaN   \n",
       "4  Cozy family craftman house in beautiful neighb...   \n",
       "\n",
       "                                         description experiences_offered  \\\n",
       "0  Make your self at home in this charming one-be...                none   \n",
       "1  Chemically sensitive? We've removed the irrita...                none   \n",
       "2  New modern house built in 2013.  Spectacular s...                none   \n",
       "3  A charming apartment that sits atop Queen Anne...                none   \n",
       "4  Cozy family craftman house in beautiful neighb...                none   \n",
       "\n",
       "                               neighborhood_overview  ... review_scores_value  \\\n",
       "0                                                NaN  ...                10.0   \n",
       "1  Queen Anne is a wonderful, truly functional vi...  ...                10.0   \n",
       "2  Upper Queen Anne is a charming neighborhood fu...  ...                10.0   \n",
       "3                                                NaN  ...                 NaN   \n",
       "4  We are in the beautiful neighborhood of Queen ...  ...                 9.0   \n",
       "\n",
       "  requires_license license jurisdiction_names instant_bookable  \\\n",
       "0                f     NaN         WASHINGTON                f   \n",
       "1                f     NaN         WASHINGTON                f   \n",
       "2                f     NaN         WASHINGTON                f   \n",
       "3                f     NaN         WASHINGTON                f   \n",
       "4                f     NaN         WASHINGTON                f   \n",
       "\n",
       "  cancellation_policy  require_guest_profile_picture  \\\n",
       "0            moderate                              f   \n",
       "1              strict                              t   \n",
       "2              strict                              f   \n",
       "3            flexible                              f   \n",
       "4              strict                              f   \n",
       "\n",
       "  require_guest_phone_verification calculated_host_listings_count  \\\n",
       "0                                f                              2   \n",
       "1                                t                              6   \n",
       "2                                f                              2   \n",
       "3                                f                              1   \n",
       "4                                f                              1   \n",
       "\n",
       "  reviews_per_month  \n",
       "0              4.07  \n",
       "1              1.48  \n",
       "2              1.15  \n",
       "3               NaN  \n",
       "4              0.89  \n",
       "\n",
       "[5 rows x 92 columns]"
      ]
     },
     "execution_count": 3,
     "metadata": {},
     "output_type": "execute_result"
    }
   ],
   "source": [
    "#lets check the first lines of the table\n",
    "\n",
    "listings.head()"
   ]
  },
  {
   "cell_type": "markdown",
   "id": "urban-engineer",
   "metadata": {},
   "source": [
    "The table contains 92 columns and we already can see that they all contain different types of data , randing from links, timestamps, dates, numerical values and plain text . Lets use the info method.."
   ]
  },
  {
   "cell_type": "code",
   "execution_count": 4,
   "id": "egyptian-bandwidth",
   "metadata": {},
   "outputs": [
    {
     "name": "stdout",
     "output_type": "stream",
     "text": [
      "<class 'pandas.core.frame.DataFrame'>\n",
      "RangeIndex: 3818 entries, 0 to 3817\n",
      "Data columns (total 92 columns):\n",
      " #   Column                            Non-Null Count  Dtype  \n",
      "---  ------                            --------------  -----  \n",
      " 0   id                                3818 non-null   int64  \n",
      " 1   listing_url                       3818 non-null   object \n",
      " 2   scrape_id                         3818 non-null   int64  \n",
      " 3   last_scraped                      3818 non-null   object \n",
      " 4   name                              3818 non-null   object \n",
      " 5   summary                           3641 non-null   object \n",
      " 6   space                             3249 non-null   object \n",
      " 7   description                       3818 non-null   object \n",
      " 8   experiences_offered               3818 non-null   object \n",
      " 9   neighborhood_overview             2786 non-null   object \n",
      " 10  notes                             2212 non-null   object \n",
      " 11  transit                           2884 non-null   object \n",
      " 12  thumbnail_url                     3498 non-null   object \n",
      " 13  medium_url                        3498 non-null   object \n",
      " 14  picture_url                       3818 non-null   object \n",
      " 15  xl_picture_url                    3498 non-null   object \n",
      " 16  host_id                           3818 non-null   int64  \n",
      " 17  host_url                          3818 non-null   object \n",
      " 18  host_name                         3816 non-null   object \n",
      " 19  host_since                        3816 non-null   object \n",
      " 20  host_location                     3810 non-null   object \n",
      " 21  host_about                        2959 non-null   object \n",
      " 22  host_response_time                3295 non-null   object \n",
      " 23  host_response_rate                3295 non-null   object \n",
      " 24  host_acceptance_rate              3045 non-null   object \n",
      " 25  host_is_superhost                 3816 non-null   object \n",
      " 26  host_thumbnail_url                3816 non-null   object \n",
      " 27  host_picture_url                  3816 non-null   object \n",
      " 28  host_neighbourhood                3518 non-null   object \n",
      " 29  host_listings_count               3816 non-null   float64\n",
      " 30  host_total_listings_count         3816 non-null   float64\n",
      " 31  host_verifications                3818 non-null   object \n",
      " 32  host_has_profile_pic              3816 non-null   object \n",
      " 33  host_identity_verified            3816 non-null   object \n",
      " 34  street                            3818 non-null   object \n",
      " 35  neighbourhood                     3402 non-null   object \n",
      " 36  neighbourhood_cleansed            3818 non-null   object \n",
      " 37  neighbourhood_group_cleansed      3818 non-null   object \n",
      " 38  city                              3818 non-null   object \n",
      " 39  state                             3818 non-null   object \n",
      " 40  zipcode                           3811 non-null   object \n",
      " 41  market                            3818 non-null   object \n",
      " 42  smart_location                    3818 non-null   object \n",
      " 43  country_code                      3818 non-null   object \n",
      " 44  country                           3818 non-null   object \n",
      " 45  latitude                          3818 non-null   float64\n",
      " 46  longitude                         3818 non-null   float64\n",
      " 47  is_location_exact                 3818 non-null   object \n",
      " 48  property_type                     3817 non-null   object \n",
      " 49  room_type                         3818 non-null   object \n",
      " 50  accommodates                      3818 non-null   int64  \n",
      " 51  bathrooms                         3802 non-null   float64\n",
      " 52  bedrooms                          3812 non-null   float64\n",
      " 53  beds                              3817 non-null   float64\n",
      " 54  bed_type                          3818 non-null   object \n",
      " 55  amenities                         3818 non-null   object \n",
      " 56  square_feet                       97 non-null     float64\n",
      " 57  price                             3818 non-null   object \n",
      " 58  weekly_price                      2009 non-null   object \n",
      " 59  monthly_price                     1517 non-null   object \n",
      " 60  security_deposit                  1866 non-null   object \n",
      " 61  cleaning_fee                      2788 non-null   object \n",
      " 62  guests_included                   3818 non-null   int64  \n",
      " 63  extra_people                      3818 non-null   object \n",
      " 64  minimum_nights                    3818 non-null   int64  \n",
      " 65  maximum_nights                    3818 non-null   int64  \n",
      " 66  calendar_updated                  3818 non-null   object \n",
      " 67  has_availability                  3818 non-null   object \n",
      " 68  availability_30                   3818 non-null   int64  \n",
      " 69  availability_60                   3818 non-null   int64  \n",
      " 70  availability_90                   3818 non-null   int64  \n",
      " 71  availability_365                  3818 non-null   int64  \n",
      " 72  calendar_last_scraped             3818 non-null   object \n",
      " 73  number_of_reviews                 3818 non-null   int64  \n",
      " 74  first_review                      3191 non-null   object \n",
      " 75  last_review                       3191 non-null   object \n",
      " 76  review_scores_rating              3171 non-null   float64\n",
      " 77  review_scores_accuracy            3160 non-null   float64\n",
      " 78  review_scores_cleanliness         3165 non-null   float64\n",
      " 79  review_scores_checkin             3160 non-null   float64\n",
      " 80  review_scores_communication       3167 non-null   float64\n",
      " 81  review_scores_location            3163 non-null   float64\n",
      " 82  review_scores_value               3162 non-null   float64\n",
      " 83  requires_license                  3818 non-null   object \n",
      " 84  license                           0 non-null      float64\n",
      " 85  jurisdiction_names                3818 non-null   object \n",
      " 86  instant_bookable                  3818 non-null   object \n",
      " 87  cancellation_policy               3818 non-null   object \n",
      " 88  require_guest_profile_picture     3818 non-null   object \n",
      " 89  require_guest_phone_verification  3818 non-null   object \n",
      " 90  calculated_host_listings_count    3818 non-null   int64  \n",
      " 91  reviews_per_month                 3191 non-null   float64\n",
      "dtypes: float64(17), int64(13), object(62)\n",
      "memory usage: 2.7+ MB\n"
     ]
    }
   ],
   "source": [
    "#info method on df \n",
    "\n",
    "listings.info()"
   ]
  },
  {
   "cell_type": "markdown",
   "id": "matched-short",
   "metadata": {},
   "source": [
    "92 columns and 3818 entries. We have foalt , int and object types and several columns apear to contain nulls"
   ]
  },
  {
   "cell_type": "markdown",
   "id": "demographic-philip",
   "metadata": {},
   "source": [
    "## Assessment : calendar\n"
   ]
  },
  {
   "cell_type": "code",
   "execution_count": 5,
   "id": "treated-worry",
   "metadata": {},
   "outputs": [],
   "source": [
    "#importing calendar data\n",
    "calendar=pd.read_csv('calendar.csv')"
   ]
  },
  {
   "cell_type": "code",
   "execution_count": 6,
   "id": "thermal-algorithm",
   "metadata": {},
   "outputs": [
    {
     "data": {
      "text/html": [
       "<div>\n",
       "<style scoped>\n",
       "    .dataframe tbody tr th:only-of-type {\n",
       "        vertical-align: middle;\n",
       "    }\n",
       "\n",
       "    .dataframe tbody tr th {\n",
       "        vertical-align: top;\n",
       "    }\n",
       "\n",
       "    .dataframe thead th {\n",
       "        text-align: right;\n",
       "    }\n",
       "</style>\n",
       "<table border=\"1\" class=\"dataframe\">\n",
       "  <thead>\n",
       "    <tr style=\"text-align: right;\">\n",
       "      <th></th>\n",
       "      <th>listing_id</th>\n",
       "      <th>date</th>\n",
       "      <th>available</th>\n",
       "      <th>price</th>\n",
       "    </tr>\n",
       "  </thead>\n",
       "  <tbody>\n",
       "    <tr>\n",
       "      <th>0</th>\n",
       "      <td>241032</td>\n",
       "      <td>2016-01-04</td>\n",
       "      <td>t</td>\n",
       "      <td>$85.00</td>\n",
       "    </tr>\n",
       "    <tr>\n",
       "      <th>1</th>\n",
       "      <td>241032</td>\n",
       "      <td>2016-01-05</td>\n",
       "      <td>t</td>\n",
       "      <td>$85.00</td>\n",
       "    </tr>\n",
       "    <tr>\n",
       "      <th>2</th>\n",
       "      <td>241032</td>\n",
       "      <td>2016-01-06</td>\n",
       "      <td>f</td>\n",
       "      <td>NaN</td>\n",
       "    </tr>\n",
       "    <tr>\n",
       "      <th>3</th>\n",
       "      <td>241032</td>\n",
       "      <td>2016-01-07</td>\n",
       "      <td>f</td>\n",
       "      <td>NaN</td>\n",
       "    </tr>\n",
       "    <tr>\n",
       "      <th>4</th>\n",
       "      <td>241032</td>\n",
       "      <td>2016-01-08</td>\n",
       "      <td>f</td>\n",
       "      <td>NaN</td>\n",
       "    </tr>\n",
       "  </tbody>\n",
       "</table>\n",
       "</div>"
      ],
      "text/plain": [
       "   listing_id        date available   price\n",
       "0      241032  2016-01-04         t  $85.00\n",
       "1      241032  2016-01-05         t  $85.00\n",
       "2      241032  2016-01-06         f     NaN\n",
       "3      241032  2016-01-07         f     NaN\n",
       "4      241032  2016-01-08         f     NaN"
      ]
     },
     "execution_count": 6,
     "metadata": {},
     "output_type": "execute_result"
    }
   ],
   "source": [
    "#checking the calendar dataframe using head\n",
    "calendar.head()"
   ]
  },
  {
   "cell_type": "markdown",
   "id": "express-pride",
   "metadata": {},
   "source": [
    "Visibly, the table contains only 4 columns. date column contains date formated values.\n",
    "\n",
    "In term of the table's content, we can see that calendar dataframe decribe for each listing , the availability, the price if available and the date of listing"
   ]
  },
  {
   "cell_type": "code",
   "execution_count": 7,
   "id": "twelve-witch",
   "metadata": {},
   "outputs": [
    {
     "name": "stdout",
     "output_type": "stream",
     "text": [
      "<class 'pandas.core.frame.DataFrame'>\n",
      "RangeIndex: 1393570 entries, 0 to 1393569\n",
      "Data columns (total 4 columns):\n",
      " #   Column      Non-Null Count    Dtype \n",
      "---  ------      --------------    ----- \n",
      " 0   listing_id  1393570 non-null  int64 \n",
      " 1   date        1393570 non-null  object\n",
      " 2   available   1393570 non-null  object\n",
      " 3   price       934542 non-null   object\n",
      "dtypes: int64(1), object(3)\n",
      "memory usage: 42.5+ MB\n"
     ]
    }
   ],
   "source": [
    "#geting more info from the dataframe using info\n",
    "calendar.info()"
   ]
  },
  {
   "cell_type": "markdown",
   "id": "aquatic-wedding",
   "metadata": {},
   "source": [
    "We have a total of 1393570 entriers . Price column contains null values and only the listing_id column is numerical type , while the others are all object type"
   ]
  },
  {
   "cell_type": "markdown",
   "id": "contained-album",
   "metadata": {},
   "source": [
    "## Assessment : reviews\n"
   ]
  },
  {
   "cell_type": "code",
   "execution_count": 8,
   "id": "proprietary-voluntary",
   "metadata": {},
   "outputs": [],
   "source": [
    "#importing calendar data\n",
    "reviews=pd.read_csv('reviews.csv')"
   ]
  },
  {
   "cell_type": "code",
   "execution_count": 9,
   "id": "adapted-marker",
   "metadata": {},
   "outputs": [
    {
     "data": {
      "text/html": [
       "<div>\n",
       "<style scoped>\n",
       "    .dataframe tbody tr th:only-of-type {\n",
       "        vertical-align: middle;\n",
       "    }\n",
       "\n",
       "    .dataframe tbody tr th {\n",
       "        vertical-align: top;\n",
       "    }\n",
       "\n",
       "    .dataframe thead th {\n",
       "        text-align: right;\n",
       "    }\n",
       "</style>\n",
       "<table border=\"1\" class=\"dataframe\">\n",
       "  <thead>\n",
       "    <tr style=\"text-align: right;\">\n",
       "      <th></th>\n",
       "      <th>listing_id</th>\n",
       "      <th>id</th>\n",
       "      <th>date</th>\n",
       "      <th>reviewer_id</th>\n",
       "      <th>reviewer_name</th>\n",
       "      <th>comments</th>\n",
       "    </tr>\n",
       "  </thead>\n",
       "  <tbody>\n",
       "    <tr>\n",
       "      <th>0</th>\n",
       "      <td>7202016</td>\n",
       "      <td>38917982</td>\n",
       "      <td>2015-07-19</td>\n",
       "      <td>28943674</td>\n",
       "      <td>Bianca</td>\n",
       "      <td>Cute and cozy place. Perfect location to every...</td>\n",
       "    </tr>\n",
       "    <tr>\n",
       "      <th>1</th>\n",
       "      <td>7202016</td>\n",
       "      <td>39087409</td>\n",
       "      <td>2015-07-20</td>\n",
       "      <td>32440555</td>\n",
       "      <td>Frank</td>\n",
       "      <td>Kelly has a great room in a very central locat...</td>\n",
       "    </tr>\n",
       "    <tr>\n",
       "      <th>2</th>\n",
       "      <td>7202016</td>\n",
       "      <td>39820030</td>\n",
       "      <td>2015-07-26</td>\n",
       "      <td>37722850</td>\n",
       "      <td>Ian</td>\n",
       "      <td>Very spacious apartment, and in a great neighb...</td>\n",
       "    </tr>\n",
       "    <tr>\n",
       "      <th>3</th>\n",
       "      <td>7202016</td>\n",
       "      <td>40813543</td>\n",
       "      <td>2015-08-02</td>\n",
       "      <td>33671805</td>\n",
       "      <td>George</td>\n",
       "      <td>Close to Seattle Center and all it has to offe...</td>\n",
       "    </tr>\n",
       "    <tr>\n",
       "      <th>4</th>\n",
       "      <td>7202016</td>\n",
       "      <td>41986501</td>\n",
       "      <td>2015-08-10</td>\n",
       "      <td>34959538</td>\n",
       "      <td>Ming</td>\n",
       "      <td>Kelly was a great host and very accommodating ...</td>\n",
       "    </tr>\n",
       "  </tbody>\n",
       "</table>\n",
       "</div>"
      ],
      "text/plain": [
       "   listing_id        id        date  reviewer_id reviewer_name  \\\n",
       "0     7202016  38917982  2015-07-19     28943674        Bianca   \n",
       "1     7202016  39087409  2015-07-20     32440555         Frank   \n",
       "2     7202016  39820030  2015-07-26     37722850           Ian   \n",
       "3     7202016  40813543  2015-08-02     33671805        George   \n",
       "4     7202016  41986501  2015-08-10     34959538          Ming   \n",
       "\n",
       "                                            comments  \n",
       "0  Cute and cozy place. Perfect location to every...  \n",
       "1  Kelly has a great room in a very central locat...  \n",
       "2  Very spacious apartment, and in a great neighb...  \n",
       "3  Close to Seattle Center and all it has to offe...  \n",
       "4  Kelly was a great host and very accommodating ...  "
      ]
     },
     "execution_count": 9,
     "metadata": {},
     "output_type": "execute_result"
    }
   ],
   "source": [
    "#checking the calendar dataframe using head\n",
    "reviews.head()"
   ]
  },
  {
   "cell_type": "markdown",
   "id": "stuck-lesson",
   "metadata": {},
   "source": [
    "Visibly, the table contains 6 column. \n",
    "\n",
    "In term of content, we can see that the reviews table contains a listing_id that can be used to join data with calendar dataframe, a specific id for each review, the date of review, in addotion the reviewers'id, name and comments"
   ]
  },
  {
   "cell_type": "code",
   "execution_count": 10,
   "id": "modified-pride",
   "metadata": {},
   "outputs": [
    {
     "name": "stdout",
     "output_type": "stream",
     "text": [
      "<class 'pandas.core.frame.DataFrame'>\n",
      "RangeIndex: 84849 entries, 0 to 84848\n",
      "Data columns (total 6 columns):\n",
      " #   Column         Non-Null Count  Dtype \n",
      "---  ------         --------------  ----- \n",
      " 0   listing_id     84849 non-null  int64 \n",
      " 1   id             84849 non-null  int64 \n",
      " 2   date           84849 non-null  object\n",
      " 3   reviewer_id    84849 non-null  int64 \n",
      " 4   reviewer_name  84849 non-null  object\n",
      " 5   comments       84831 non-null  object\n",
      "dtypes: int64(3), object(3)\n",
      "memory usage: 3.9+ MB\n"
     ]
    }
   ],
   "source": [
    "#geting more info from the dataframe using info\n",
    "reviews.info()"
   ]
  },
  {
   "cell_type": "markdown",
   "id": "stainless-telephone",
   "metadata": {},
   "source": [
    "We have a total of 84849 entriers .only the comments column contain nulls. We have also a total of 3 numerical type column and 3 counted as object type"
   ]
  },
  {
   "cell_type": "markdown",
   "id": "promotional-refund",
   "metadata": {},
   "source": [
    "# Data Preparation"
   ]
  },
  {
   "cell_type": "markdown",
   "id": "blocked-sweet",
   "metadata": {},
   "source": [
    "Data preparation is mostly about fixing the issues, cleaning, tidying untidy data and select relevent data that will be key for modeling and deploying steps.\n",
    "\n",
    "The preliminary assessement helped to get closer to the data and to evaluate the errors within the dataset\n",
    "\n",
    "NOW, we will proceed by following these steps :\n",
    "\n",
    "* **Select relevent data from each dataframe**\n",
    "* **define quality issues within dataset**\n",
    "* **Correct the issues by using a Clean/test methodology**\n",
    "* **EDA on cleaned data to further study the content for feature engineering**\n",
    "* **Feature engineering**\n",
    "* **Output the final clean dataset that will be studying in the next section**"
   ]
  },
  {
   "cell_type": "markdown",
   "id": "casual-capture",
   "metadata": {},
   "source": [
    "## 1 Select relevent data from each dataframe"
   ]
  },
  {
   "cell_type": "markdown",
   "id": "encouraging-audio",
   "metadata": {},
   "source": [
    "Since our study focus mainly on pricing modeling using listings's caracteristics. All of these infos can be found in the listing table to we will be focusing on that for the current study"
   ]
  },
  {
   "cell_type": "code",
   "execution_count": 11,
   "id": "dense-invasion",
   "metadata": {},
   "outputs": [],
   "source": [
    "select_cols=['bathrooms','bedrooms','beds','guests_included','price','property_type','room_type','bed_type','neighbourhood']"
   ]
  },
  {
   "cell_type": "code",
   "execution_count": 12,
   "id": "associate-cleaning",
   "metadata": {},
   "outputs": [],
   "source": [
    "sub_listings=listings[select_cols]"
   ]
  },
  {
   "cell_type": "markdown",
   "id": "received-heath",
   "metadata": {},
   "source": [
    "## 2 Define the issues within dataset"
   ]
  },
  {
   "cell_type": "markdown",
   "id": "operational-copper",
   "metadata": {},
   "source": [
    "Since we have few columns we will check each column . To avoid repeating our self we will write a simple function to evaluate each column "
   ]
  },
  {
   "cell_type": "code",
   "execution_count": 13,
   "id": "alpine-garage",
   "metadata": {},
   "outputs": [],
   "source": [
    "def col_eval(df,column):\n",
    "    \n",
    "    \n",
    "    \"\"\"\n",
    "    Simple function to evaluate quality of columns\n",
    "    \n",
    "    args : dataframe, column \n",
    "    \n",
    "    output : number nan values, number of values in columns, number of unique values \n",
    "            type of values, show a sample from the colmn, sorted valye count\n",
    "    \"\"\"\n",
    "    \n",
    "    print('Number of Nan values is',\n",
    "          df[column].isna().sum(),\n",
    "          '\\nNumber of values in the column is ',\n",
    "          len(df[column]),\n",
    "          '\\nNumber of unique values in the column is',\n",
    "          df[column].nunique(),\n",
    "          '\\ntype of values in the column is',\n",
    "          df[column].dtypes,\n",
    "          '\\nSample value from column is',\n",
    "          df[column].sample(1).values[0],\n",
    "          '\\n\\nThe sorted value count is\\n\\n',\n",
    "          df[column].value_counts().sort_values()\n",
    "          \n",
    "    )\n"
   ]
  },
  {
   "cell_type": "markdown",
   "id": "thorough-examination",
   "metadata": {},
   "source": [
    "### Define issues in column : bathrooms"
   ]
  },
  {
   "cell_type": "markdown",
   "id": "computational-insulation",
   "metadata": {},
   "source": [
    "Presence of 16 nulls within the column"
   ]
  },
  {
   "cell_type": "code",
   "execution_count": 14,
   "id": "egyptian-effect",
   "metadata": {},
   "outputs": [
    {
     "name": "stdout",
     "output_type": "stream",
     "text": [
      "Number of Nan values is 16 \n",
      "Number of values in the column is  3818 \n",
      "Number of unique values in the column is 12 \n",
      "type of values in the column is float64 \n",
      "Sample value from column is 1.0 \n",
      "\n",
      "The sorted value count is\n",
      "\n",
      " 5.0       2\n",
      "8.0       2\n",
      "4.5       3\n",
      "0.0       8\n",
      "4.0       8\n",
      "0.5      31\n",
      "3.5      57\n",
      "3.0      64\n",
      "2.5     124\n",
      "1.5     248\n",
      "2.0     373\n",
      "1.0    2882\n",
      "Name: bathrooms, dtype: int64\n"
     ]
    }
   ],
   "source": [
    "col_eval(sub_listings,'bathrooms')"
   ]
  },
  {
   "cell_type": "markdown",
   "id": "olympic-transfer",
   "metadata": {},
   "source": [
    "### Define issues in column : bedrooms"
   ]
  },
  {
   "cell_type": "markdown",
   "id": "alternative-wilderness",
   "metadata": {},
   "source": [
    "Presence of 6 nulls within the column"
   ]
  },
  {
   "cell_type": "code",
   "execution_count": 15,
   "id": "excessive-tennessee",
   "metadata": {},
   "outputs": [
    {
     "name": "stdout",
     "output_type": "stream",
     "text": [
      "Number of Nan values is 6 \n",
      "Number of values in the column is  3818 \n",
      "Number of unique values in the column is 8 \n",
      "type of values in the column is float64 \n",
      "Sample value from column is 2.0 \n",
      "\n",
      "The sorted value count is\n",
      "\n",
      " 7.0       1\n",
      "6.0       6\n",
      "5.0      24\n",
      "4.0      69\n",
      "3.0     283\n",
      "0.0     372\n",
      "2.0     640\n",
      "1.0    2417\n",
      "Name: bedrooms, dtype: int64\n"
     ]
    }
   ],
   "source": [
    "col_eval(sub_listings,'bedrooms')"
   ]
  },
  {
   "cell_type": "markdown",
   "id": "proved-excellence",
   "metadata": {},
   "source": [
    "### Define issues in column : beds"
   ]
  },
  {
   "cell_type": "markdown",
   "id": "monthly-guest",
   "metadata": {},
   "source": [
    "Presence of 1 nulls within the column"
   ]
  },
  {
   "cell_type": "code",
   "execution_count": 16,
   "id": "structural-stations",
   "metadata": {
    "scrolled": true
   },
   "outputs": [
    {
     "name": "stdout",
     "output_type": "stream",
     "text": [
      "Number of Nan values is 1 \n",
      "Number of values in the column is  3818 \n",
      "Number of unique values in the column is 11 \n",
      "type of values in the column is float64 \n",
      "Sample value from column is 2.0 \n",
      "\n",
      "The sorted value count is\n",
      "\n",
      " 15.0       1\n",
      "10.0       2\n",
      "8.0        4\n",
      "9.0        4\n",
      "7.0       14\n",
      "6.0       21\n",
      "5.0       73\n",
      "4.0      152\n",
      "3.0      433\n",
      "2.0      912\n",
      "1.0     2201\n",
      "Name: beds, dtype: int64\n"
     ]
    }
   ],
   "source": [
    "col_eval(sub_listings,'beds')"
   ]
  },
  {
   "cell_type": "markdown",
   "id": "potential-turner",
   "metadata": {},
   "source": [
    "### Define issues in column : price"
   ]
  },
  {
   "cell_type": "markdown",
   "id": "norwegian-brook",
   "metadata": {},
   "source": [
    "No nulls to report but we notice that prices are joined with a \\$ sign and listed of object. we will also need to remove comas "
   ]
  },
  {
   "cell_type": "code",
   "execution_count": 17,
   "id": "induced-manner",
   "metadata": {},
   "outputs": [
    {
     "name": "stdout",
     "output_type": "stream",
     "text": [
      "Number of Nan values is 0 \n",
      "Number of values in the column is  3818 \n",
      "Number of unique values in the column is 273 \n",
      "type of values in the column is object \n",
      "Sample value from column is $70.00 \n",
      "\n",
      "The sorted value count is\n",
      "\n",
      " $212.00      1\n",
      "$465.00      1\n",
      "$525.00      1\n",
      "$172.00      1\n",
      "$153.00      1\n",
      "          ... \n",
      "$99.00     110\n",
      "$95.00     110\n",
      "$75.00     118\n",
      "$100.00    159\n",
      "$150.00    162\n",
      "Name: price, Length: 273, dtype: int64\n"
     ]
    }
   ],
   "source": [
    "col_eval(sub_listings,'price')"
   ]
  },
  {
   "cell_type": "markdown",
   "id": "outstanding-exception",
   "metadata": {},
   "source": [
    "### Define issues in column : property_type"
   ]
  },
  {
   "cell_type": "markdown",
   "id": "medium-brunei",
   "metadata": {},
   "source": [
    "One null entry should be treated"
   ]
  },
  {
   "cell_type": "code",
   "execution_count": 18,
   "id": "cleared-python",
   "metadata": {},
   "outputs": [
    {
     "name": "stdout",
     "output_type": "stream",
     "text": [
      "Number of Nan values is 1 \n",
      "Number of values in the column is  3818 \n",
      "Number of unique values in the column is 16 \n",
      "type of values in the column is object \n",
      "Sample value from column is Apartment \n",
      "\n",
      "The sorted value count is\n",
      "\n",
      " Yurt                  1\n",
      "Chalet                2\n",
      "Dorm                  2\n",
      "Treehouse             3\n",
      "Tent                  5\n",
      "Boat                  8\n",
      "Camper/RV            13\n",
      "Bungalow             13\n",
      "Cabin                21\n",
      "Other                22\n",
      "Bed & Breakfast      37\n",
      "Loft                 40\n",
      "Condominium          91\n",
      "Townhouse           118\n",
      "Apartment          1708\n",
      "House              1733\n",
      "Name: property_type, dtype: int64\n"
     ]
    }
   ],
   "source": [
    "col_eval(sub_listings,'property_type')"
   ]
  },
  {
   "cell_type": "markdown",
   "id": "intended-massachusetts",
   "metadata": {},
   "source": [
    "### Define issues in column : neighbourhood"
   ]
  },
  {
   "cell_type": "markdown",
   "id": "correct-groove",
   "metadata": {},
   "source": [
    "A total of 416 null values"
   ]
  },
  {
   "cell_type": "code",
   "execution_count": 19,
   "id": "pleasant-reconstruction",
   "metadata": {},
   "outputs": [
    {
     "name": "stdout",
     "output_type": "stream",
     "text": [
      "Number of Nan values is 416 \n",
      "Number of values in the column is  3818 \n",
      "Number of unique values in the column is 81 \n",
      "type of values in the column is object \n",
      "Sample value from column is Belltown \n",
      "\n",
      "The sorted value count is\n",
      "\n",
      " Fairmount Park          1\n",
      "North College Park      1\n",
      "Roxhill                 1\n",
      "South Beacon Hill       2\n",
      "Pike Market             2\n",
      "                     ... \n",
      "Queen Anne            187\n",
      "Minor                 192\n",
      "Belltown              204\n",
      "Ballard               213\n",
      "Capitol Hill          351\n",
      "Name: neighbourhood, Length: 81, dtype: int64\n"
     ]
    }
   ],
   "source": [
    "col_eval(sub_listings,'neighbourhood')"
   ]
  },
  {
   "cell_type": "code",
   "execution_count": 20,
   "id": "documentary-mercy",
   "metadata": {},
   "outputs": [
    {
     "data": {
      "text/plain": [
       "440"
      ]
     },
     "execution_count": 20,
     "metadata": {},
     "output_type": "execute_result"
    }
   ],
   "source": [
    "sub_listings.isna().sum().sum()"
   ]
  },
  {
   "cell_type": "markdown",
   "id": "bulgarian-subcommittee",
   "metadata": {},
   "source": [
    "## 3 Correct the quality issues by using a Clean/test methodology"
   ]
  },
  {
   "cell_type": "markdown",
   "id": "written-angle",
   "metadata": {},
   "source": [
    "The defined issues can be summerized as followed :\n",
    "\n",
    "* **A total of 440 nulls in the whol subseted dataset. We can simply proceed by removing the null containing entries since the overall number is small**\n",
    "* **Price should be cleaned by removing the dollar sign. For this we will simply use the replace method to remove the dollar sign**\n",
    "* **price column type should be changed to numerical**"
   ]
  },
  {
   "cell_type": "markdown",
   "id": "surprising-friday",
   "metadata": {},
   "source": [
    "### removing nulls"
   ]
  },
  {
   "cell_type": "code",
   "execution_count": 21,
   "id": "located-evolution",
   "metadata": {
    "scrolled": true
   },
   "outputs": [
    {
     "name": "stderr",
     "output_type": "stream",
     "text": [
      "D:\\WORK\\PYTHON\\envs\\PYTHON36\\lib\\site-packages\\ipykernel_launcher.py:3: SettingWithCopyWarning: \n",
      "A value is trying to be set on a copy of a slice from a DataFrame\n",
      "\n",
      "See the caveats in the documentation: https://pandas.pydata.org/pandas-docs/stable/user_guide/indexing.html#returning-a-view-versus-a-copy\n",
      "  This is separate from the ipykernel package so we can avoid doing imports until\n"
     ]
    }
   ],
   "source": [
    "#cleaning\n",
    "\n",
    "sub_listings.dropna(inplace=True)"
   ]
  },
  {
   "cell_type": "code",
   "execution_count": 22,
   "id": "subsequent-begin",
   "metadata": {
    "scrolled": true
   },
   "outputs": [
    {
     "data": {
      "text/plain": [
       "0"
      ]
     },
     "execution_count": 22,
     "metadata": {},
     "output_type": "execute_result"
    }
   ],
   "source": [
    "#testig\n",
    "\n",
    "sub_listings.isna().sum().sum()"
   ]
  },
  {
   "cell_type": "markdown",
   "id": "suitable-pendant",
   "metadata": {},
   "source": [
    "### replacing dollarsign in price"
   ]
  },
  {
   "cell_type": "code",
   "execution_count": 23,
   "id": "compact-relationship",
   "metadata": {},
   "outputs": [
    {
     "name": "stderr",
     "output_type": "stream",
     "text": [
      "D:\\WORK\\PYTHON\\envs\\PYTHON36\\lib\\site-packages\\ipykernel_launcher.py:3: SettingWithCopyWarning: \n",
      "A value is trying to be set on a copy of a slice from a DataFrame.\n",
      "Try using .loc[row_indexer,col_indexer] = value instead\n",
      "\n",
      "See the caveats in the documentation: https://pandas.pydata.org/pandas-docs/stable/user_guide/indexing.html#returning-a-view-versus-a-copy\n",
      "  This is separate from the ipykernel package so we can avoid doing imports until\n",
      "D:\\WORK\\PYTHON\\envs\\PYTHON36\\lib\\site-packages\\ipykernel_launcher.py:5: SettingWithCopyWarning: \n",
      "A value is trying to be set on a copy of a slice from a DataFrame.\n",
      "Try using .loc[row_indexer,col_indexer] = value instead\n",
      "\n",
      "See the caveats in the documentation: https://pandas.pydata.org/pandas-docs/stable/user_guide/indexing.html#returning-a-view-versus-a-copy\n",
      "  \"\"\"\n"
     ]
    }
   ],
   "source": [
    "#cleaning\n",
    "\n",
    "sub_listings['price']=sub_listings['price'].apply(lambda x: x.replace('$',''))\n",
    "\n",
    "sub_listings['price']=sub_listings['price'].apply(lambda x: x.replace(',',''))"
   ]
  },
  {
   "cell_type": "code",
   "execution_count": 24,
   "id": "opened-circus",
   "metadata": {},
   "outputs": [],
   "source": [
    "#testing"
   ]
  },
  {
   "cell_type": "code",
   "execution_count": 25,
   "id": "proof-registration",
   "metadata": {
    "scrolled": true
   },
   "outputs": [
    {
     "data": {
      "text/plain": [
       "0        85.00\n",
       "1       150.00\n",
       "2       975.00\n",
       "3       100.00\n",
       "4       450.00\n",
       "         ...  \n",
       "3811     65.00\n",
       "3812     95.00\n",
       "3813    359.00\n",
       "3814     79.00\n",
       "3817     87.00\n",
       "Name: price, Length: 3379, dtype: object"
      ]
     },
     "execution_count": 25,
     "metadata": {},
     "output_type": "execute_result"
    }
   ],
   "source": [
    "sub_listings['price']"
   ]
  },
  {
   "cell_type": "markdown",
   "id": "painful-access",
   "metadata": {},
   "source": [
    "### change type of price column"
   ]
  },
  {
   "cell_type": "code",
   "execution_count": 26,
   "id": "incredible-andorra",
   "metadata": {},
   "outputs": [
    {
     "name": "stderr",
     "output_type": "stream",
     "text": [
      "D:\\WORK\\PYTHON\\envs\\PYTHON36\\lib\\site-packages\\ipykernel_launcher.py:3: SettingWithCopyWarning: \n",
      "A value is trying to be set on a copy of a slice from a DataFrame.\n",
      "Try using .loc[row_indexer,col_indexer] = value instead\n",
      "\n",
      "See the caveats in the documentation: https://pandas.pydata.org/pandas-docs/stable/user_guide/indexing.html#returning-a-view-versus-a-copy\n",
      "  This is separate from the ipykernel package so we can avoid doing imports until\n"
     ]
    }
   ],
   "source": [
    "#cleaning\n",
    "\n",
    "sub_listings['price']=sub_listings['price'].astype('float')"
   ]
  },
  {
   "cell_type": "code",
   "execution_count": 27,
   "id": "ordinary-healthcare",
   "metadata": {},
   "outputs": [],
   "source": [
    "#testing"
   ]
  },
  {
   "cell_type": "code",
   "execution_count": 28,
   "id": "outdoor-entity",
   "metadata": {},
   "outputs": [
    {
     "data": {
      "text/plain": [
       "dtype('float64')"
      ]
     },
     "execution_count": 28,
     "metadata": {},
     "output_type": "execute_result"
    }
   ],
   "source": [
    "sub_listings['price'].dtypes"
   ]
  },
  {
   "cell_type": "markdown",
   "id": "suspended-writing",
   "metadata": {},
   "source": [
    "## 4 EDA on data to further assess the content of cleaned data"
   ]
  },
  {
   "cell_type": "markdown",
   "id": "competitive-escape",
   "metadata": {},
   "source": [
    "We will check each of our cleaned columns to further analyse how histograms behave, to identify quantitativly what type of data we are dealing with and to check if we have any anomaly or outliers that should be adressed\n",
    "\n",
    "Again, to limit the repetitions, we will write two functions. The numerical type data will plot a box plot a histogram and a simple statistical summary.\n",
    "\n",
    "The categorical data will be analysed using count plots and a simple summary statictis"
   ]
  },
  {
   "cell_type": "code",
   "execution_count": 29,
   "id": "protected-layer",
   "metadata": {},
   "outputs": [],
   "source": [
    "def category_data_plots(data, attribute,wideness='wide',ascending=True):\n",
    "    \n",
    "    \"\"\"\n",
    "    Function that give a countplot for a given object type column and show a small sumary statistic table\n",
    "    \n",
    "    args : data: dataframe, attribute : column name, wideness: wide or long default is wide, asencing : default is true\n",
    "    \n",
    "    return count plot and summary stat table\n",
    "    \n",
    "    \"\"\"\n",
    "\n",
    "        \n",
    "    \n",
    "    totalbeds=sub_listings[attribute].value_counts().sum()\n",
    "\n",
    "    values_table=((sub_listings.groupby(attribute).count().iloc[:,1]/totalbeds)*100).sort_values(ascending=ascending)\n",
    "\n",
    "    index_values=list(values_table.index)    \n",
    "    \n",
    "    \n",
    "    \n",
    "    \n",
    "    if wideness=='long':\n",
    "        \n",
    "        shape=(8, 15)\n",
    "        \n",
    "        fig=plt.figure(figsize=shape)\n",
    "        \n",
    "        plt.barh(index_values,values_table)\n",
    "    else:\n",
    "        shape=(15,8)    \n",
    "        \n",
    "        fig=plt.figure(figsize=shape)\n",
    "        \n",
    "        plt.bar(index_values,values_table)\n",
    "    \n",
    "\n",
    "\n",
    "       \n",
    "            \n",
    "    print('Stat table attribute: \\n',data[attribute].describe())\n",
    "    \n",
    "    print('\\n count for each value : \\n',data[attribute].value_counts())\n",
    "    \n",
    "    print('\\n The most comon value is : ', list(stats.mode(data[attribute])[0])[0])\n"
   ]
  },
  {
   "cell_type": "code",
   "execution_count": 30,
   "id": "comparative-northern",
   "metadata": {},
   "outputs": [],
   "source": [
    "def numeric_data_plots(data, attribute, binsv=10):\n",
    "\n",
    "    \"\"\"\n",
    "    Function that give a histogram and a boxplot for a given numerical type column and show a small sumary statistic table\n",
    "    \n",
    "    args : data: dataframe, attribute : column name, binsv=: number of bins for histogram, default is 10\n",
    "    \n",
    "    return histogram, boxplot and a summary stat table\n",
    "    \n",
    "    \"\"\"\n",
    "    \n",
    "    \n",
    "    fig = plt.figure(figsize=(20, 5))\n",
    "    \n",
    "    \n",
    "    gridsize=(1,2)\n",
    "    \n",
    "    \n",
    "\n",
    "    \n",
    "    ax1 = plt.subplot2grid(gridsize, (0, 0),colspan=1, rowspan=1)\n",
    "    \n",
    "    ax1.title.set_text(f'histogram plot of {attribute}')\n",
    "    \n",
    "    \n",
    "    sb.histplot(data['{}'.format(attribute)], ax=ax1,bins=binsv);\n",
    "\n",
    "\n",
    "        \n",
    "    ax2 = plt.subplot2grid(gridsize, (0, 1),colspan=1, rowspan=1)\n",
    "    \n",
    "    ax2.title.set_text(f'boxplot of {attribute}')\n",
    "    \n",
    "    \n",
    "    sb.boxplot(x=data['{}'.format(attribute)], ax=ax2);\n",
    "    \n",
    "    print(data[attribute].describe())\n",
    "    \n",
    "    print('\\n The most comon value is : ', list(stats.mode(data[attribute])[0])[0])"
   ]
  },
  {
   "cell_type": "markdown",
   "id": "increased-dimension",
   "metadata": {},
   "source": [
    "### EDA on column : price"
   ]
  },
  {
   "cell_type": "markdown",
   "id": "round-navigation",
   "metadata": {},
   "source": [
    "The plots show that the price data is highly skewed to the right. We can clearly see that 25% of the listings have a price above 150. The maximum value is 1000 and the minimum is 20 which give us a range of 980. This difference needs to be adressed later on either by removing outlier or transforming data."
   ]
  },
  {
   "cell_type": "code",
   "execution_count": 31,
   "id": "specific-horror",
   "metadata": {},
   "outputs": [
    {
     "name": "stdout",
     "output_type": "stream",
     "text": [
      "count    3379.000000\n",
      "mean      129.366972\n",
      "std        91.416122\n",
      "min        20.000000\n",
      "25%        75.000000\n",
      "50%       100.000000\n",
      "75%       150.000000\n",
      "max      1000.000000\n",
      "Name: price, dtype: float64\n",
      "\n",
      " The most comon value is :  150.0\n"
     ]
    },
    {
     "data": {
      "image/png": "[encoded data removed]",
      "text/plain": [
       "<Figure size 1440x360 with 2 Axes>"
      ]
     },
     "metadata": {
      "needs_background": "light"
     },
     "output_type": "display_data"
    }
   ],
   "source": [
    "numeric_data_plots(sub_listings,'price',20)"
   ]
  },
  {
   "cell_type": "markdown",
   "id": "closing-digit",
   "metadata": {},
   "source": [
    "### EDA on column : beds"
   ]
  },
  {
   "cell_type": "markdown",
   "id": "opening-going",
   "metadata": {},
   "source": [
    "we have 75% of listings with number of beds less or equal to two, with a minimum of 1 bed and a maximum of 15\n",
    "\n",
    "The dataset is skewed to the right and that is linked to the presence of some listings with very high count of beds (from 4 to 15 !! )"
   ]
  },
  {
   "cell_type": "code",
   "execution_count": 32,
   "id": "solved-broadway",
   "metadata": {},
   "outputs": [
    {
     "name": "stdout",
     "output_type": "stream",
     "text": [
      "count    3379.000000\n",
      "mean        1.754365\n",
      "std         1.152664\n",
      "min         1.000000\n",
      "25%         1.000000\n",
      "50%         1.000000\n",
      "75%         2.000000\n",
      "max        15.000000\n",
      "Name: beds, dtype: float64\n",
      "\n",
      " The most comon value is :  1.0\n"
     ]
    },
    {
     "data": {
      "image/png": "[encoded data removed]",
      "text/plain": [
       "<Figure size 1440x360 with 2 Axes>"
      ]
     },
     "metadata": {
      "needs_background": "light"
     },
     "output_type": "display_data"
    }
   ],
   "source": [
    "numeric_data_plots(sub_listings,'beds')"
   ]
  },
  {
   "cell_type": "markdown",
   "id": "controlled-collective",
   "metadata": {},
   "source": [
    "### EDA on column : bathrooms"
   ]
  },
  {
   "cell_type": "markdown",
   "id": "paperback-coordinate",
   "metadata": {},
   "source": [
    "Some values of bathroom counts are containing decimal values (2.5 bathrooms) which is not logic. We will deal with it later by flooring values to the closed integer\n",
    "\n",
    "As for descriptive statistics, we have a maximum 8 bathromms and a minimum of 0 . The median number of bathrooms is 1"
   ]
  },
  {
   "cell_type": "code",
   "execution_count": 33,
   "id": "stable-worcester",
   "metadata": {},
   "outputs": [
    {
     "name": "stdout",
     "output_type": "stream",
     "text": [
      "count    3379.000000\n",
      "mean        1.266499\n",
      "std         0.600293\n",
      "min         0.000000\n",
      "25%         1.000000\n",
      "50%         1.000000\n",
      "75%         1.000000\n",
      "max         8.000000\n",
      "Name: bathrooms, dtype: float64\n",
      "\n",
      " The most comon value is :  1.0\n"
     ]
    },
    {
     "data": {
      "image/png": "[encoded data removed]",
      "text/plain": [
       "<Figure size 1440x360 with 2 Axes>"
      ]
     },
     "metadata": {
      "needs_background": "light"
     },
     "output_type": "display_data"
    }
   ],
   "source": [
    "numeric_data_plots(sub_listings,'bathrooms')"
   ]
  },
  {
   "cell_type": "markdown",
   "id": "three-transmission",
   "metadata": {},
   "source": [
    "### EDA on column : bedrooms"
   ]
  },
  {
   "cell_type": "markdown",
   "id": "institutional-impossible",
   "metadata": {},
   "source": [
    "We have a minimm of 0 bedrooms and a maximum of 6 . The median value is 1 bedroom per listing."
   ]
  },
  {
   "cell_type": "code",
   "execution_count": 34,
   "id": "superior-concentration",
   "metadata": {},
   "outputs": [
    {
     "name": "stdout",
     "output_type": "stream",
     "text": [
      "count    3379.000000\n",
      "mean        1.320805\n",
      "std         0.887424\n",
      "min         0.000000\n",
      "25%         1.000000\n",
      "50%         1.000000\n",
      "75%         2.000000\n",
      "max         6.000000\n",
      "Name: bedrooms, dtype: float64\n",
      "\n",
      " The most comon value is :  1.0\n"
     ]
    },
    {
     "data": {
      "image/png": "[encoded data removed]",
      "text/plain": [
       "<Figure size 1440x360 with 2 Axes>"
      ]
     },
     "metadata": {
      "needs_background": "light"
     },
     "output_type": "display_data"
    }
   ],
   "source": [
    "numeric_data_plots(sub_listings,'bedrooms')"
   ]
  },
  {
   "cell_type": "markdown",
   "id": "distant-danger",
   "metadata": {},
   "source": [
    "### EDA on column : room_type"
   ]
  },
  {
   "cell_type": "markdown",
   "id": "adjusted-presence",
   "metadata": {},
   "source": [
    "Entire  home/appt are the most listed, followed by private rooms and shared rooms . "
   ]
  },
  {
   "cell_type": "code",
   "execution_count": 35,
   "id": "white-experiment",
   "metadata": {},
   "outputs": [
    {
     "name": "stderr",
     "output_type": "stream",
     "text": [
      "D:\\WORK\\PYTHON\\envs\\PYTHON36\\lib\\site-packages\\ipykernel_launcher.py:1: SettingWithCopyWarning: \n",
      "A value is trying to be set on a copy of a slice from a DataFrame.\n",
      "Try using .loc[row_indexer,col_indexer] = value instead\n",
      "\n",
      "See the caveats in the documentation: https://pandas.pydata.org/pandas-docs/stable/user_guide/indexing.html#returning-a-view-versus-a-copy\n",
      "  \"\"\"Entry point for launching an IPython kernel.\n"
     ]
    }
   ],
   "source": [
    "sub_listings['room_type']=sub_listings['room_type'].astype('category')"
   ]
  },
  {
   "cell_type": "code",
   "execution_count": 36,
   "id": "arranged-airline",
   "metadata": {},
   "outputs": [
    {
     "name": "stdout",
     "output_type": "stream",
     "text": [
      "Stat table attribute: \n",
      " count                3379\n",
      "unique                  3\n",
      "top       Entire home/apt\n",
      "freq                 2268\n",
      "Name: room_type, dtype: object\n",
      "\n",
      " count for each value : \n",
      " Entire home/apt    2268\n",
      "Private room       1013\n",
      "Shared room          98\n",
      "Name: room_type, dtype: int64\n",
      "\n",
      " The most comon value is :  Entire home/apt\n"
     ]
    },
    {
     "data": {
      "image/png": "[encoded data removed]",
      "text/plain": [
       "<Figure size 1080x576 with 1 Axes>"
      ]
     },
     "metadata": {
      "needs_background": "light"
     },
     "output_type": "display_data"
    }
   ],
   "source": [
    "category_data_plots(sub_listings,'room_type')"
   ]
  },
  {
   "cell_type": "markdown",
   "id": "fiscal-superintendent",
   "metadata": {},
   "source": [
    "### EDA on column : bed_type"
   ]
  },
  {
   "cell_type": "markdown",
   "id": "later-difficulty",
   "metadata": {},
   "source": [
    "Real bed listings are the most available with a large margin"
   ]
  },
  {
   "cell_type": "code",
   "execution_count": 37,
   "id": "sorted-portal",
   "metadata": {},
   "outputs": [
    {
     "name": "stderr",
     "output_type": "stream",
     "text": [
      "D:\\WORK\\PYTHON\\envs\\PYTHON36\\lib\\site-packages\\ipykernel_launcher.py:1: SettingWithCopyWarning: \n",
      "A value is trying to be set on a copy of a slice from a DataFrame.\n",
      "Try using .loc[row_indexer,col_indexer] = value instead\n",
      "\n",
      "See the caveats in the documentation: https://pandas.pydata.org/pandas-docs/stable/user_guide/indexing.html#returning-a-view-versus-a-copy\n",
      "  \"\"\"Entry point for launching an IPython kernel.\n"
     ]
    }
   ],
   "source": [
    "sub_listings['bed_type']=sub_listings['bed_type'].astype('category')"
   ]
  },
  {
   "cell_type": "code",
   "execution_count": 38,
   "id": "tested-renaissance",
   "metadata": {},
   "outputs": [
    {
     "name": "stdout",
     "output_type": "stream",
     "text": [
      "Stat table attribute: \n",
      " count         3379\n",
      "unique           5\n",
      "top       Real Bed\n",
      "freq          3234\n",
      "Name: bed_type, dtype: object\n",
      "\n",
      " count for each value : \n",
      " Real Bed         3234\n",
      "Futon              69\n",
      "Pull-out Sofa      42\n",
      "Airbed             23\n",
      "Couch              11\n",
      "Name: bed_type, dtype: int64\n",
      "\n",
      " The most comon value is :  Real Bed\n"
     ]
    },
    {
     "data": {
      "image/png": "[encoded data removed]",
      "text/plain": [
       "<Figure size 1080x576 with 1 Axes>"
      ]
     },
     "metadata": {
      "needs_background": "light"
     },
     "output_type": "display_data"
    }
   ],
   "source": [
    "category_data_plots(sub_listings,'bed_type')"
   ]
  },
  {
   "cell_type": "markdown",
   "id": "aging-vertex",
   "metadata": {},
   "source": [
    "### EDA on column : property_type"
   ]
  },
  {
   "cell_type": "markdown",
   "id": "automatic-ceiling",
   "metadata": {},
   "source": [
    "Homes and appartements are the two top most used listings. Yurt and Chalet are two least counted."
   ]
  },
  {
   "cell_type": "code",
   "execution_count": 39,
   "id": "quiet-embassy",
   "metadata": {},
   "outputs": [
    {
     "name": "stderr",
     "output_type": "stream",
     "text": [
      "D:\\WORK\\PYTHON\\envs\\PYTHON36\\lib\\site-packages\\ipykernel_launcher.py:1: SettingWithCopyWarning: \n",
      "A value is trying to be set on a copy of a slice from a DataFrame.\n",
      "Try using .loc[row_indexer,col_indexer] = value instead\n",
      "\n",
      "See the caveats in the documentation: https://pandas.pydata.org/pandas-docs/stable/user_guide/indexing.html#returning-a-view-versus-a-copy\n",
      "  \"\"\"Entry point for launching an IPython kernel.\n"
     ]
    }
   ],
   "source": [
    "sub_listings['property_type']=sub_listings['property_type'].astype('category')"
   ]
  },
  {
   "cell_type": "code",
   "execution_count": 40,
   "id": "starting-sociology",
   "metadata": {},
   "outputs": [
    {
     "name": "stdout",
     "output_type": "stream",
     "text": [
      "Stat table attribute: \n",
      " count      3379\n",
      "unique       16\n",
      "top       House\n",
      "freq       1546\n",
      "Name: property_type, dtype: object\n",
      "\n",
      " count for each value : \n",
      " House              1546\n",
      "Apartment          1502\n",
      "Townhouse           106\n",
      "Condominium          83\n",
      "Bed & Breakfast      35\n",
      "Loft                 34\n",
      "Cabin                20\n",
      "Other                15\n",
      "Bungalow             12\n",
      "Camper/RV             9\n",
      "Boat                  6\n",
      "Tent                  5\n",
      "Treehouse             2\n",
      "Dorm                  2\n",
      "Yurt                  1\n",
      "Chalet                1\n",
      "Name: property_type, dtype: int64\n",
      "\n",
      " The most comon value is :  House\n"
     ]
    },
    {
     "data": {
      "image/png": "[encoded data removed]",
      "text/plain": [
       "<Figure size 1080x576 with 1 Axes>"
      ]
     },
     "metadata": {
      "needs_background": "light"
     },
     "output_type": "display_data"
    }
   ],
   "source": [
    "category_data_plots(sub_listings,'property_type')"
   ]
  },
  {
   "cell_type": "markdown",
   "id": "fatal-assignment",
   "metadata": {},
   "source": [
    "### EDA on column : guests_included"
   ]
  },
  {
   "cell_type": "markdown",
   "id": "talented-making",
   "metadata": {},
   "source": [
    "The obtained histogram is skewed to the right, indicating large values that moves the mean to the right.\n",
    "\n",
    "We have a maximum of 15 guests possible, a minimum of 0 guests and a median of 1 guest"
   ]
  },
  {
   "cell_type": "code",
   "execution_count": 41,
   "id": "perfect-rouge",
   "metadata": {},
   "outputs": [
    {
     "name": "stdout",
     "output_type": "stream",
     "text": [
      "count    3379.000000\n",
      "mean        1.709973\n",
      "std         1.330715\n",
      "min         0.000000\n",
      "25%         1.000000\n",
      "50%         1.000000\n",
      "75%         2.000000\n",
      "max        15.000000\n",
      "Name: guests_included, dtype: float64\n",
      "\n",
      " The most comon value is :  1\n"
     ]
    },
    {
     "data": {
      "image/png": "[encoded data removed]",
      "text/plain": [
       "<Figure size 1440x360 with 2 Axes>"
      ]
     },
     "metadata": {
      "needs_background": "light"
     },
     "output_type": "display_data"
    }
   ],
   "source": [
    "numeric_data_plots(sub_listings,'guests_included')"
   ]
  },
  {
   "cell_type": "markdown",
   "id": "reserved-organic",
   "metadata": {},
   "source": [
    "### EDA on column : neighbourhood"
   ]
  },
  {
   "cell_type": "markdown",
   "id": "musical-safety",
   "metadata": {},
   "source": [
    "Capotiol hill is the most represented neighbourhood , followed by ballard. The least represented is roxhill"
   ]
  },
  {
   "cell_type": "code",
   "execution_count": 42,
   "id": "wanted-money",
   "metadata": {},
   "outputs": [
    {
     "name": "stderr",
     "output_type": "stream",
     "text": [
      "D:\\WORK\\PYTHON\\envs\\PYTHON36\\lib\\site-packages\\ipykernel_launcher.py:1: SettingWithCopyWarning: \n",
      "A value is trying to be set on a copy of a slice from a DataFrame.\n",
      "Try using .loc[row_indexer,col_indexer] = value instead\n",
      "\n",
      "See the caveats in the documentation: https://pandas.pydata.org/pandas-docs/stable/user_guide/indexing.html#returning-a-view-versus-a-copy\n",
      "  \"\"\"Entry point for launching an IPython kernel.\n"
     ]
    }
   ],
   "source": [
    "sub_listings['neighbourhood']=sub_listings['neighbourhood'].astype('category')"
   ]
  },
  {
   "cell_type": "code",
   "execution_count": 43,
   "id": "mexican-bridge",
   "metadata": {},
   "outputs": [
    {
     "name": "stdout",
     "output_type": "stream",
     "text": [
      "Stat table attribute: \n",
      " count             3379\n",
      "unique              80\n",
      "top       Capitol Hill\n",
      "freq               347\n",
      "Name: neighbourhood, dtype: object\n",
      "\n",
      " count for each value : \n",
      " Capitol Hill         347\n",
      "Ballard              213\n",
      "Belltown             199\n",
      "Minor                192\n",
      "Queen Anne           187\n",
      "                    ... \n",
      "South Beacon Hill      2\n",
      "South Park             2\n",
      "Pike Market            2\n",
      "Fairmount Park         1\n",
      "Roxhill                1\n",
      "Name: neighbourhood, Length: 80, dtype: int64\n",
      "\n",
      " The most comon value is :  Capitol Hill\n"
     ]
    },
    {
     "data": {
      "image/png": "[encoded data removed]",
      "text/plain": [
       "<Figure size 576x1080 with 1 Axes>"
      ]
     },
     "metadata": {
      "needs_background": "light"
     },
     "output_type": "display_data"
    }
   ],
   "source": [
    "category_data_plots(sub_listings,'neighbourhood','long')"
   ]
  },
  {
   "cell_type": "markdown",
   "id": "regulated-marks",
   "metadata": {},
   "source": [
    "A quick conclusion obtained from these data , the most present number within the dataset for each feature are : \n",
    "* **price : 150**\n",
    "* **bathrooms : 1**\n",
    "* **bedrooms: 1**\n",
    "* **room_type : entire home/appt**\n",
    "* **bed_type: real bed**\n",
    "* **proprety type: house**\n",
    "* **guests included: 1**\n",
    "* **neighborhood: capitol hill**"
   ]
  },
  {
   "cell_type": "markdown",
   "id": "afraid-perception",
   "metadata": {},
   "source": [
    "## 5 Feature engineering"
   ]
  },
  {
   "cell_type": "markdown",
   "id": "respective-forest",
   "metadata": {},
   "source": [
    "In this part, we will take into account the results of EDA analysis and we will transform/prepare our features, prior to modeling and implementing:\n",
    "\n",
    "\n",
    "* To avoid overfitting, we will remove outliers from highly skewd price data. For that reason, we put down a function that provide a filtred datafram, for a given column and some limits on the IQR.\n",
    "* The bathroom column contains values that needs to be floord ( no meaning to 1.5 bathroms)\n",
    "* The categorical data needs to be one hot encoded. This will help to make the data usable during modeling.\n",
    "* Base line definition"
   ]
  },
  {
   "cell_type": "code",
   "execution_count": 44,
   "id": "explicit-reputation",
   "metadata": {},
   "outputs": [],
   "source": [
    "#writing down the subseting function by iqr for outliers\n",
    "\n",
    "def subset_by_iqr(df, column, whisker_width=1.5):\n",
    "    \n",
    "    \"\"\"Remove outliers from a dataframe by column, including optional \n",
    "       whiskers, removing rows for which the column value are \n",
    "       less than Q1-1.5IQR or greater than Q3+1.5IQR.\n",
    "    Args:\n",
    "        df (`:obj:pd.DataFrame`): A pandas dataframe to subset\n",
    "        column (str): Name of the column to calculate the subset from.\n",
    "        whisker_width (float): Optional, loosen the IQR filter by a\n",
    "                               factor of `whisker_width` * IQR.\n",
    "    Returns:\n",
    "        (`:obj:pd.DataFrame`): Filtered dataframe\n",
    "    \"\"\"\n",
    "    # Calculate Q1, Q2 and IQR\n",
    "    q1 = df[column].quantile(0.25)                 \n",
    "    q3 = df[column].quantile(0.75)\n",
    "    iqr = q3 - q1\n",
    "    # Apply filter with respect to IQR, including optional whiskers\n",
    "    filter = (df[column] >= q1 - whisker_width*iqr) & (df[column] <= q3 + whisker_width*iqr)\n",
    "    return df.loc[filter]                                                     \n",
    "\n",
    "# Example for whiskers = 1.5, as requested by the OP\n",
    "df_filtered = subset_by_iqr(sub_listings, 'price', whisker_width=1.5)\n"
   ]
  },
  {
   "cell_type": "code",
   "execution_count": 45,
   "id": "handy-count",
   "metadata": {},
   "outputs": [],
   "source": [
    "#filtering data using iqr function\n",
    "\n",
    "filtred_susbet=subset_by_iqr(sub_listings,'price', whisker_width=1.5)\n",
    "filtred_susbet.reset_index(drop=True, inplace=True)"
   ]
  },
  {
   "cell_type": "code",
   "execution_count": 46,
   "id": "perceived-nancy",
   "metadata": {},
   "outputs": [
    {
     "name": "stderr",
     "output_type": "stream",
     "text": [
      "D:\\WORK\\PYTHON\\envs\\PYTHON36\\lib\\site-packages\\ipykernel_launcher.py:3: SettingWithCopyWarning: \n",
      "A value is trying to be set on a copy of a slice from a DataFrame.\n",
      "Try using .loc[row_indexer,col_indexer] = value instead\n",
      "\n",
      "See the caveats in the documentation: https://pandas.pydata.org/pandas-docs/stable/user_guide/indexing.html#returning-a-view-versus-a-copy\n",
      "  This is separate from the ipykernel package so we can avoid doing imports until\n"
     ]
    }
   ],
   "source": [
    "# The bathroom column contains values that needs to be floored\n",
    "\n",
    "filtred_susbet['bathrooms']=filtred_susbet['bathrooms'].apply(lambda x: math.floor(x))"
   ]
  },
  {
   "cell_type": "code",
   "execution_count": 47,
   "id": "spectacular-controversy",
   "metadata": {},
   "outputs": [],
   "source": [
    "#We will drop the most comon values in the dataset as baseline for our regression modeling\n",
    "\n",
    "\n",
    "#House  droped as baseline\n",
    "\n",
    "proprety_type_dummied=pd.get_dummies(filtred_susbet['property_type'],prefix='property_type').\\\n",
    "drop(columns='property_type_House')\n",
    "\n",
    "#Entime home/appt  as baseline\n",
    "\n",
    "room_type_dummied=pd.get_dummies(filtred_susbet['room_type'],prefix='room_type').\\\n",
    "drop(columns='room_type_Entire home/apt')\n",
    "\n",
    "#real bed as baseline for type of bed\n",
    "\n",
    "bed_type_dummied=pd.get_dummies(filtred_susbet['bed_type'],prefix='bed_type').\\\n",
    "drop(columns='bed_type_Real Bed')\n",
    "\n",
    "#capitol hill as the baseline for neighborhoods\n",
    "neighbourhood_dummied=pd.get_dummies(filtred_susbet['neighbourhood'],prefix='neighbourhood').\\\n",
    "drop(columns=['neighbourhood_Capitol Hill','neighbourhood_Fairmount Park'])"
   ]
  },
  {
   "cell_type": "code",
   "execution_count": 48,
   "id": "painful-benjamin",
   "metadata": {},
   "outputs": [],
   "source": [
    "\n",
    "#Lets make our final needed frames and arrays (features , target)\n",
    "maindftoconcat=filtred_susbet.iloc[:,:5]\n",
    "listofframes=[maindftoconcat,neighbourhood_dummied,bed_type_dummied,room_type_dummied,proprety_type_dummied]\n",
    "\n",
    "#Features\n",
    "X=pd.concat(listofframes,axis=1).drop(columns='price')\n",
    "#target\n",
    "y=pd.concat(listofframes,axis=1)[['price']]\n"
   ]
  },
  {
   "cell_type": "markdown",
   "id": "careful-friendly",
   "metadata": {},
   "source": [
    "# 6 Modeling"
   ]
  },
  {
   "cell_type": "markdown",
   "id": "norman-armenia",
   "metadata": {},
   "source": [
    "In this data science introduction projet, we will try to model using OLS. But we will also need to check on the multicolinearity and significance effect within the dataset.\n"
   ]
  },
  {
   "cell_type": "code",
   "execution_count": 49,
   "id": "honey-america",
   "metadata": {
    "scrolled": false
   },
   "outputs": [
    {
     "data": {
      "text/html": [
       "<table class=\"simpletable\">\n",
       "<caption>OLS Regression Results</caption>\n",
       "<tr>\n",
       "  <th>Dep. Variable:</th>          <td>price</td>      <th>  R-squared:         </th> <td>   0.588</td> \n",
       "</tr>\n",
       "<tr>\n",
       "  <th>Model:</th>                   <td>OLS</td>       <th>  Adj. R-squared:    </th> <td>   0.574</td> \n",
       "</tr>\n",
       "<tr>\n",
       "  <th>Method:</th>             <td>Least Squares</td>  <th>  F-statistic:       </th> <td>   42.26</td> \n",
       "</tr>\n",
       "<tr>\n",
       "  <th>Date:</th>             <td>Fri, 16 Jul 2021</td> <th>  Prob (F-statistic):</th>  <td>  0.00</td>  \n",
       "</tr>\n",
       "<tr>\n",
       "  <th>Time:</th>                 <td>19:48:48</td>     <th>  Log-Likelihood:    </th> <td> -15521.</td> \n",
       "</tr>\n",
       "<tr>\n",
       "  <th>No. Observations:</th>      <td>  3155</td>      <th>  AIC:               </th> <td>3.125e+04</td>\n",
       "</tr>\n",
       "<tr>\n",
       "  <th>Df Residuals:</th>          <td>  3051</td>      <th>  BIC:               </th> <td>3.188e+04</td>\n",
       "</tr>\n",
       "<tr>\n",
       "  <th>Df Model:</th>              <td>   103</td>      <th>                     </th>     <td> </td>    \n",
       "</tr>\n",
       "<tr>\n",
       "  <th>Covariance Type:</th>      <td>nonrobust</td>    <th>                     </th>     <td> </td>    \n",
       "</tr>\n",
       "</table>\n",
       "<table class=\"simpletable\">\n",
       "<tr>\n",
       "                     <td></td>                        <th>coef</th>     <th>std err</th>      <th>t</th>      <th>P>|t|</th>  <th>[0.025</th>    <th>0.975]</th>  \n",
       "</tr>\n",
       "<tr>\n",
       "  <th>bathrooms</th>                               <td>    7.4284</td> <td>    1.527</td> <td>    4.866</td> <td> 0.000</td> <td>    4.435</td> <td>   10.422</td>\n",
       "</tr>\n",
       "<tr>\n",
       "  <th>bedrooms</th>                                <td>   25.3055</td> <td>    1.267</td> <td>   19.972</td> <td> 0.000</td> <td>   22.821</td> <td>   27.790</td>\n",
       "</tr>\n",
       "<tr>\n",
       "  <th>beds</th>                                    <td>    5.2455</td> <td>    0.964</td> <td>    5.440</td> <td> 0.000</td> <td>    3.355</td> <td>    7.136</td>\n",
       "</tr>\n",
       "<tr>\n",
       "  <th>guests_included</th>                         <td>    2.7980</td> <td>    0.623</td> <td>    4.493</td> <td> 0.000</td> <td>    1.577</td> <td>    4.019</td>\n",
       "</tr>\n",
       "<tr>\n",
       "  <th>neighbourhood_Alki</th>                      <td>   12.2556</td> <td>    8.018</td> <td>    1.529</td> <td> 0.126</td> <td>   -3.466</td> <td>   27.977</td>\n",
       "</tr>\n",
       "<tr>\n",
       "  <th>neighbourhood_Arbor Heights</th>             <td>   -7.5176</td> <td>   19.587</td> <td>   -0.384</td> <td> 0.701</td> <td>  -45.923</td> <td>   30.888</td>\n",
       "</tr>\n",
       "<tr>\n",
       "  <th>neighbourhood_Atlantic</th>                  <td>  -22.3226</td> <td>    5.222</td> <td>   -4.275</td> <td> 0.000</td> <td>  -32.561</td> <td>  -12.084</td>\n",
       "</tr>\n",
       "<tr>\n",
       "  <th>neighbourhood_Ballard</th>                   <td>  -25.1636</td> <td>    3.142</td> <td>   -8.008</td> <td> 0.000</td> <td>  -31.325</td> <td>  -19.002</td>\n",
       "</tr>\n",
       "<tr>\n",
       "  <th>neighbourhood_Belltown</th>                  <td>   10.5362</td> <td>    3.152</td> <td>    3.343</td> <td> 0.001</td> <td>    4.356</td> <td>   16.716</td>\n",
       "</tr>\n",
       "<tr>\n",
       "  <th>neighbourhood_Bitter Lake</th>               <td>  -32.8230</td> <td>    9.575</td> <td>   -3.428</td> <td> 0.001</td> <td>  -51.598</td> <td>  -14.048</td>\n",
       "</tr>\n",
       "<tr>\n",
       "  <th>neighbourhood_Brighton</th>                  <td>  -26.7550</td> <td>   15.232</td> <td>   -1.757</td> <td> 0.079</td> <td>  -56.620</td> <td>    3.110</td>\n",
       "</tr>\n",
       "<tr>\n",
       "  <th>neighbourhood_Broadview</th>                 <td>  -35.8749</td> <td>    8.680</td> <td>   -4.133</td> <td> 0.000</td> <td>  -52.893</td> <td>  -18.856</td>\n",
       "</tr>\n",
       "<tr>\n",
       "  <th>neighbourhood_Broadway</th>                  <td>  -19.9097</td> <td>   17.013</td> <td>   -1.170</td> <td> 0.242</td> <td>  -53.268</td> <td>   13.448</td>\n",
       "</tr>\n",
       "<tr>\n",
       "  <th>neighbourhood_Bryant</th>                    <td>  -30.6457</td> <td>    6.323</td> <td>   -4.846</td> <td> 0.000</td> <td>  -43.044</td> <td>  -18.247</td>\n",
       "</tr>\n",
       "<tr>\n",
       "  <th>neighbourhood_Cedar Park</th>                <td>  -33.2534</td> <td>   12.137</td> <td>   -2.740</td> <td> 0.006</td> <td>  -57.051</td> <td>   -9.455</td>\n",
       "</tr>\n",
       "<tr>\n",
       "  <th>neighbourhood_Central Business District</th> <td>    8.1151</td> <td>    4.501</td> <td>    1.803</td> <td> 0.071</td> <td>   -0.710</td> <td>   16.940</td>\n",
       "</tr>\n",
       "<tr>\n",
       "  <th>neighbourhood_Columbia City</th>             <td>  -34.7107</td> <td>    4.860</td> <td>   -7.142</td> <td> 0.000</td> <td>  -44.240</td> <td>  -25.181</td>\n",
       "</tr>\n",
       "<tr>\n",
       "  <th>neighbourhood_Crown Hill</th>                <td>  -52.4270</td> <td>    7.746</td> <td>   -6.768</td> <td> 0.000</td> <td>  -67.615</td> <td>  -37.239</td>\n",
       "</tr>\n",
       "<tr>\n",
       "  <th>neighbourhood_Dunlap</th>                    <td>  -33.8238</td> <td>   10.201</td> <td>   -3.316</td> <td> 0.001</td> <td>  -53.825</td> <td>  -13.823</td>\n",
       "</tr>\n",
       "<tr>\n",
       "  <th>neighbourhood_Eastlake</th>                  <td>  -11.9401</td> <td>    5.588</td> <td>   -2.137</td> <td> 0.033</td> <td>  -22.896</td> <td>   -0.984</td>\n",
       "</tr>\n",
       "<tr>\n",
       "  <th>neighbourhood_Fauntleroy</th>                <td>  -21.8701</td> <td>   12.106</td> <td>   -1.807</td> <td> 0.071</td> <td>  -45.606</td> <td>    1.866</td>\n",
       "</tr>\n",
       "<tr>\n",
       "  <th>neighbourhood_First Hill</th>                <td>    8.6555</td> <td>    3.812</td> <td>    2.270</td> <td> 0.023</td> <td>    1.181</td> <td>   16.130</td>\n",
       "</tr>\n",
       "<tr>\n",
       "  <th>neighbourhood_Fremont</th>                   <td>  -16.1372</td> <td>    3.446</td> <td>   -4.682</td> <td> 0.000</td> <td>  -22.895</td> <td>   -9.380</td>\n",
       "</tr>\n",
       "<tr>\n",
       "  <th>neighbourhood_Gatewood</th>                  <td>   -6.6952</td> <td>    8.448</td> <td>   -0.793</td> <td> 0.428</td> <td>  -23.260</td> <td>    9.869</td>\n",
       "</tr>\n",
       "<tr>\n",
       "  <th>neighbourhood_Genesee</th>                   <td>  -22.0794</td> <td>    6.842</td> <td>   -3.227</td> <td> 0.001</td> <td>  -35.494</td> <td>   -8.665</td>\n",
       "</tr>\n",
       "<tr>\n",
       "  <th>neighbourhood_Georgetown</th>                <td>  -30.9456</td> <td>   13.073</td> <td>   -2.367</td> <td> 0.018</td> <td>  -56.578</td> <td>   -5.313</td>\n",
       "</tr>\n",
       "<tr>\n",
       "  <th>neighbourhood_Green Lake</th>                <td>  -16.1246</td> <td>    5.361</td> <td>   -3.008</td> <td> 0.003</td> <td>  -26.637</td> <td>   -5.612</td>\n",
       "</tr>\n",
       "<tr>\n",
       "  <th>neighbourhood_Greenwood</th>                 <td>  -38.6986</td> <td>    4.416</td> <td>   -8.763</td> <td> 0.000</td> <td>  -47.357</td> <td>  -30.040</td>\n",
       "</tr>\n",
       "<tr>\n",
       "  <th>neighbourhood_Haller Lake</th>               <td>  -47.0898</td> <td>    9.300</td> <td>   -5.063</td> <td> 0.000</td> <td>  -65.325</td> <td>  -28.855</td>\n",
       "</tr>\n",
       "<tr>\n",
       "  <th>neighbourhood_Harrison/Denny-Blaine</th>     <td>   -2.9258</td> <td>    9.552</td> <td>   -0.306</td> <td> 0.759</td> <td>  -21.654</td> <td>   15.803</td>\n",
       "</tr>\n",
       "<tr>\n",
       "  <th>neighbourhood_High Point</th>                <td>  -34.0417</td> <td>   10.959</td> <td>   -3.106</td> <td> 0.002</td> <td>  -55.529</td> <td>  -12.554</td>\n",
       "</tr>\n",
       "<tr>\n",
       "  <th>neighbourhood_Highland Park</th>             <td>  -36.7808</td> <td>    9.961</td> <td>   -3.692</td> <td> 0.000</td> <td>  -56.312</td> <td>  -17.249</td>\n",
       "</tr>\n",
       "<tr>\n",
       "  <th>neighbourhood_Holly Park</th>                <td>  -35.9154</td> <td>   13.976</td> <td>   -2.570</td> <td> 0.010</td> <td>  -63.319</td> <td>   -8.512</td>\n",
       "</tr>\n",
       "<tr>\n",
       "  <th>neighbourhood_Industrial District</th>       <td>   42.4201</td> <td>   35.070</td> <td>    1.210</td> <td> 0.227</td> <td>  -26.343</td> <td>  111.184</td>\n",
       "</tr>\n",
       "<tr>\n",
       "  <th>neighbourhood_Interbay</th>                  <td>  -21.7886</td> <td>   13.117</td> <td>   -1.661</td> <td> 0.097</td> <td>  -47.508</td> <td>    3.931</td>\n",
       "</tr>\n",
       "<tr>\n",
       "  <th>neighbourhood_International District</th>    <td>   -5.3571</td> <td>    8.500</td> <td>   -0.630</td> <td> 0.529</td> <td>  -22.023</td> <td>   11.309</td>\n",
       "</tr>\n",
       "<tr>\n",
       "  <th>neighbourhood_Laurelhurst</th>               <td>  -13.3298</td> <td>   11.477</td> <td>   -1.161</td> <td> 0.246</td> <td>  -35.833</td> <td>    9.173</td>\n",
       "</tr>\n",
       "<tr>\n",
       "  <th>neighbourhood_Leschi</th>                    <td>  -25.8934</td> <td>    5.796</td> <td>   -4.468</td> <td> 0.000</td> <td>  -37.258</td> <td>  -14.529</td>\n",
       "</tr>\n",
       "<tr>\n",
       "  <th>neighbourhood_Licton Springs</th>            <td>  -25.4172</td> <td>    9.972</td> <td>   -2.549</td> <td> 0.011</td> <td>  -44.969</td> <td>   -5.866</td>\n",
       "</tr>\n",
       "<tr>\n",
       "  <th>neighbourhood_Lower Queen Anne</th>          <td>   10.2397</td> <td>    4.259</td> <td>    2.404</td> <td> 0.016</td> <td>    1.889</td> <td>   18.590</td>\n",
       "</tr>\n",
       "<tr>\n",
       "  <th>neighbourhood_Madison Park</th>              <td>    4.8737</td> <td>    9.215</td> <td>    0.529</td> <td> 0.597</td> <td>  -13.195</td> <td>   22.942</td>\n",
       "</tr>\n",
       "<tr>\n",
       "  <th>neighbourhood_Madrona</th>                   <td>  -16.6970</td> <td>    6.052</td> <td>   -2.759</td> <td> 0.006</td> <td>  -28.563</td> <td>   -4.831</td>\n",
       "</tr>\n",
       "<tr>\n",
       "  <th>neighbourhood_Magnolia</th>                  <td>  -13.0854</td> <td>    5.388</td> <td>   -2.429</td> <td> 0.015</td> <td>  -23.650</td> <td>   -2.521</td>\n",
       "</tr>\n",
       "<tr>\n",
       "  <th>neighbourhood_Maple Leaf</th>                <td>  -36.1985</td> <td>    5.826</td> <td>   -6.213</td> <td> 0.000</td> <td>  -47.622</td> <td>  -24.775</td>\n",
       "</tr>\n",
       "<tr>\n",
       "  <th>neighbourhood_Mathews Beach</th>             <td>  -25.3237</td> <td>    8.431</td> <td>   -3.004</td> <td> 0.003</td> <td>  -41.855</td> <td>   -8.793</td>\n",
       "</tr>\n",
       "<tr>\n",
       "  <th>neighbourhood_Meadowbrook</th>               <td>  -27.7368</td> <td>   11.481</td> <td>   -2.416</td> <td> 0.016</td> <td>  -50.249</td> <td>   -5.225</td>\n",
       "</tr>\n",
       "<tr>\n",
       "  <th>neighbourhood_Minor</th>                     <td>  -12.8984</td> <td>    3.215</td> <td>   -4.012</td> <td> 0.000</td> <td>  -19.202</td> <td>   -6.595</td>\n",
       "</tr>\n",
       "<tr>\n",
       "  <th>neighbourhood_Montlake</th>                  <td>   -5.4119</td> <td>    9.094</td> <td>   -0.595</td> <td> 0.552</td> <td>  -23.242</td> <td>   12.419</td>\n",
       "</tr>\n",
       "<tr>\n",
       "  <th>neighbourhood_Mount Baker</th>               <td>  -32.4742</td> <td>    5.464</td> <td>   -5.943</td> <td> 0.000</td> <td>  -43.188</td> <td>  -21.760</td>\n",
       "</tr>\n",
       "<tr>\n",
       "  <th>neighbourhood_North Admiral</th>             <td>  -11.6954</td> <td>    5.643</td> <td>   -2.073</td> <td> 0.038</td> <td>  -22.760</td> <td>   -0.631</td>\n",
       "</tr>\n",
       "<tr>\n",
       "  <th>neighbourhood_North Beach/Blue Ridge</th>    <td>  -26.2759</td> <td>   10.927</td> <td>   -2.405</td> <td> 0.016</td> <td>  -47.700</td> <td>   -4.851</td>\n",
       "</tr>\n",
       "<tr>\n",
       "  <th>neighbourhood_North Beacon Hill</th>         <td>  -32.5964</td> <td>    4.079</td> <td>   -7.991</td> <td> 0.000</td> <td>  -40.594</td> <td>  -24.598</td>\n",
       "</tr>\n",
       "<tr>\n",
       "  <th>neighbourhood_North Delridge</th>            <td>  -44.9243</td> <td>    6.794</td> <td>   -6.612</td> <td> 0.000</td> <td>  -58.246</td> <td>  -31.603</td>\n",
       "</tr>\n",
       "<tr>\n",
       "  <th>neighbourhood_Olympic Hills</th>             <td>  -37.7383</td> <td>    9.975</td> <td>   -3.783</td> <td> 0.000</td> <td>  -57.296</td> <td>  -18.180</td>\n",
       "</tr>\n",
       "<tr>\n",
       "  <th>neighbourhood_Phinney Ridge</th>             <td>  -25.3481</td> <td>    5.081</td> <td>   -4.989</td> <td> 0.000</td> <td>  -35.310</td> <td>  -15.386</td>\n",
       "</tr>\n",
       "<tr>\n",
       "  <th>neighbourhood_Pike Market</th>               <td>  -38.7836</td> <td>   23.912</td> <td>   -1.622</td> <td> 0.105</td> <td>  -85.669</td> <td>    8.102</td>\n",
       "</tr>\n",
       "<tr>\n",
       "  <th>neighbourhood_Pike Place Market</th>         <td>   20.4502</td> <td>    6.453</td> <td>    3.169</td> <td> 0.002</td> <td>    7.798</td> <td>   33.103</td>\n",
       "</tr>\n",
       "<tr>\n",
       "  <th>neighbourhood_Pinehurst</th>                 <td>  -20.3860</td> <td>   19.583</td> <td>   -1.041</td> <td> 0.298</td> <td>  -58.784</td> <td>   18.012</td>\n",
       "</tr>\n",
       "<tr>\n",
       "  <th>neighbourhood_Pioneer Square</th>            <td>   39.3165</td> <td>    9.264</td> <td>    4.244</td> <td> 0.000</td> <td>   21.152</td> <td>   57.481</td>\n",
       "</tr>\n",
       "<tr>\n",
       "  <th>neighbourhood_Portage Bay</th>               <td>    2.9591</td> <td>   10.844</td> <td>    0.273</td> <td> 0.785</td> <td>  -18.303</td> <td>   24.221</td>\n",
       "</tr>\n",
       "<tr>\n",
       "  <th>neighbourhood_Queen Anne</th>                <td>   -8.4175</td> <td>    3.298</td> <td>   -2.552</td> <td> 0.011</td> <td>  -14.884</td> <td>   -1.951</td>\n",
       "</tr>\n",
       "<tr>\n",
       "  <th>neighbourhood_Rainier Beach</th>             <td>  -34.0611</td> <td>    8.273</td> <td>   -4.117</td> <td> 0.000</td> <td>  -50.282</td> <td>  -17.840</td>\n",
       "</tr>\n",
       "<tr>\n",
       "  <th>neighbourhood_Ravenna</th>                   <td>  -37.6139</td> <td>    4.971</td> <td>   -7.566</td> <td> 0.000</td> <td>  -47.361</td> <td>  -27.867</td>\n",
       "</tr>\n",
       "<tr>\n",
       "  <th>neighbourhood_Riverview</th>                 <td>  -48.8328</td> <td>   12.118</td> <td>   -4.030</td> <td> 0.000</td> <td>  -72.594</td> <td>  -25.072</td>\n",
       "</tr>\n",
       "<tr>\n",
       "  <th>neighbourhood_Roosevelt</th>                 <td>  -25.0293</td> <td>    6.803</td> <td>   -3.679</td> <td> 0.000</td> <td>  -38.369</td> <td>  -11.689</td>\n",
       "</tr>\n",
       "<tr>\n",
       "  <th>neighbourhood_Roxhill</th>                   <td>  -33.5113</td> <td>   33.777</td> <td>   -0.992</td> <td> 0.321</td> <td>  -99.739</td> <td>   32.717</td>\n",
       "</tr>\n",
       "<tr>\n",
       "  <th>neighbourhood_Seaview</th>                   <td>  -14.5620</td> <td>   11.438</td> <td>   -1.273</td> <td> 0.203</td> <td>  -36.988</td> <td>    7.864</td>\n",
       "</tr>\n",
       "<tr>\n",
       "  <th>neighbourhood_Seward Park</th>               <td>  -46.8145</td> <td>    6.505</td> <td>   -7.197</td> <td> 0.000</td> <td>  -59.569</td> <td>  -34.060</td>\n",
       "</tr>\n",
       "<tr>\n",
       "  <th>neighbourhood_South Beacon Hill</th>         <td>  -53.5232</td> <td>   23.983</td> <td>   -2.232</td> <td> 0.026</td> <td> -100.549</td> <td>   -6.498</td>\n",
       "</tr>\n",
       "<tr>\n",
       "  <th>neighbourhood_South Delridge</th>            <td>  -55.6679</td> <td>   12.947</td> <td>   -4.300</td> <td> 0.000</td> <td>  -81.053</td> <td>  -30.283</td>\n",
       "</tr>\n",
       "<tr>\n",
       "  <th>neighbourhood_South Lake Union</th>          <td>   17.8242</td> <td>    7.783</td> <td>    2.290</td> <td> 0.022</td> <td>    2.563</td> <td>   33.085</td>\n",
       "</tr>\n",
       "<tr>\n",
       "  <th>neighbourhood_South Park</th>                <td>  -86.4215</td> <td>   23.992</td> <td>   -3.602</td> <td> 0.000</td> <td> -133.463</td> <td>  -39.380</td>\n",
       "</tr>\n",
       "<tr>\n",
       "  <th>neighbourhood_Stevens</th>                   <td>  -10.2572</td> <td>    4.102</td> <td>   -2.501</td> <td> 0.012</td> <td>  -18.300</td> <td>   -2.214</td>\n",
       "</tr>\n",
       "<tr>\n",
       "  <th>neighbourhood_The Junction</th>              <td>  -24.6507</td> <td>    6.139</td> <td>   -4.015</td> <td> 0.000</td> <td>  -36.688</td> <td>  -12.614</td>\n",
       "</tr>\n",
       "<tr>\n",
       "  <th>neighbourhood_University District</th>       <td>  -27.7058</td> <td>    3.821</td> <td>   -7.251</td> <td> 0.000</td> <td>  -35.197</td> <td>  -20.214</td>\n",
       "</tr>\n",
       "<tr>\n",
       "  <th>neighbourhood_Victory Heights</th>           <td>  -26.3794</td> <td>    9.588</td> <td>   -2.751</td> <td> 0.006</td> <td>  -45.178</td> <td>   -7.581</td>\n",
       "</tr>\n",
       "<tr>\n",
       "  <th>neighbourhood_View Ridge</th>                <td>  -18.9314</td> <td>   13.971</td> <td>   -1.355</td> <td> 0.175</td> <td>  -46.325</td> <td>    8.462</td>\n",
       "</tr>\n",
       "<tr>\n",
       "  <th>neighbourhood_Wallingford</th>               <td>  -17.6536</td> <td>    3.543</td> <td>   -4.983</td> <td> 0.000</td> <td>  -24.600</td> <td>  -10.707</td>\n",
       "</tr>\n",
       "<tr>\n",
       "  <th>neighbourhood_Wedgewood</th>                 <td>  -23.2602</td> <td>    9.272</td> <td>   -2.509</td> <td> 0.012</td> <td>  -41.441</td> <td>   -5.080</td>\n",
       "</tr>\n",
       "<tr>\n",
       "  <th>neighbourhood_Westlake</th>                  <td>    7.8336</td> <td>   10.988</td> <td>    0.713</td> <td> 0.476</td> <td>  -13.710</td> <td>   29.377</td>\n",
       "</tr>\n",
       "<tr>\n",
       "  <th>neighbourhood_Windermere</th>                <td>    1.6664</td> <td>   12.073</td> <td>    0.138</td> <td> 0.890</td> <td>  -22.005</td> <td>   25.338</td>\n",
       "</tr>\n",
       "<tr>\n",
       "  <th>neighbourhood_Yesler Terrace</th>            <td>    9.9799</td> <td>    9.937</td> <td>    1.004</td> <td> 0.315</td> <td>   -9.504</td> <td>   29.464</td>\n",
       "</tr>\n",
       "<tr>\n",
       "  <th>bed_type_Airbed</th>                         <td>  -12.6276</td> <td>    7.649</td> <td>   -1.651</td> <td> 0.099</td> <td>  -27.624</td> <td>    2.369</td>\n",
       "</tr>\n",
       "<tr>\n",
       "  <th>bed_type_Couch</th>                          <td>    4.9982</td> <td>   10.744</td> <td>    0.465</td> <td> 0.642</td> <td>  -16.069</td> <td>   26.065</td>\n",
       "</tr>\n",
       "<tr>\n",
       "  <th>bed_type_Futon</th>                          <td>   -4.4452</td> <td>    4.234</td> <td>   -1.050</td> <td> 0.294</td> <td>  -12.747</td> <td>    3.856</td>\n",
       "</tr>\n",
       "<tr>\n",
       "  <th>bed_type_Pull-out Sofa</th>                  <td>   -4.5654</td> <td>    5.362</td> <td>   -0.852</td> <td> 0.395</td> <td>  -15.078</td> <td>    5.947</td>\n",
       "</tr>\n",
       "<tr>\n",
       "  <th>room_type_Private room</th>                  <td>  -38.5670</td> <td>    1.658</td> <td>  -23.262</td> <td> 0.000</td> <td>  -41.818</td> <td>  -35.316</td>\n",
       "</tr>\n",
       "<tr>\n",
       "  <th>room_type_Shared room</th>                   <td>  -71.9205</td> <td>    3.894</td> <td>  -18.468</td> <td> 0.000</td> <td>  -79.556</td> <td>  -64.285</td>\n",
       "</tr>\n",
       "<tr>\n",
       "  <th>property_type_Apartment</th>                 <td>   -6.5402</td> <td>    1.704</td> <td>   -3.838</td> <td> 0.000</td> <td>   -9.882</td> <td>   -3.199</td>\n",
       "</tr>\n",
       "<tr>\n",
       "  <th>property_type_Bed & Breakfast</th>           <td>   29.4701</td> <td>    6.085</td> <td>    4.843</td> <td> 0.000</td> <td>   17.538</td> <td>   41.402</td>\n",
       "</tr>\n",
       "<tr>\n",
       "  <th>property_type_Boat</th>                      <td>   29.2049</td> <td>   15.722</td> <td>    1.858</td> <td> 0.063</td> <td>   -1.621</td> <td>   60.031</td>\n",
       "</tr>\n",
       "<tr>\n",
       "  <th>property_type_Bungalow</th>                  <td>    5.3565</td> <td>   10.387</td> <td>    0.516</td> <td> 0.606</td> <td>  -15.009</td> <td>   25.722</td>\n",
       "</tr>\n",
       "<tr>\n",
       "  <th>property_type_Cabin</th>                     <td>   -7.0545</td> <td>    7.947</td> <td>   -0.888</td> <td> 0.375</td> <td>  -22.636</td> <td>    8.527</td>\n",
       "</tr>\n",
       "<tr>\n",
       "  <th>property_type_Camper/RV</th>                 <td>  -24.4717</td> <td>   12.068</td> <td>   -2.028</td> <td> 0.043</td> <td>  -48.134</td> <td>   -0.809</td>\n",
       "</tr>\n",
       "<tr>\n",
       "  <th>property_type_Chalet</th>                    <td>    1.3280</td> <td>   34.142</td> <td>    0.039</td> <td> 0.969</td> <td>  -65.616</td> <td>   68.272</td>\n",
       "</tr>\n",
       "<tr>\n",
       "  <th>property_type_Condominium</th>               <td>   -5.5101</td> <td>    4.215</td> <td>   -1.307</td> <td> 0.191</td> <td>  -13.775</td> <td>    2.755</td>\n",
       "</tr>\n",
       "<tr>\n",
       "  <th>property_type_Dorm</th>                      <td> -100.1121</td> <td>   26.005</td> <td>   -3.850</td> <td> 0.000</td> <td> -151.100</td> <td>  -49.124</td>\n",
       "</tr>\n",
       "<tr>\n",
       "  <th>property_type_Loft</th>                      <td>   10.9118</td> <td>    6.244</td> <td>    1.748</td> <td> 0.081</td> <td>   -1.330</td> <td>   23.154</td>\n",
       "</tr>\n",
       "<tr>\n",
       "  <th>property_type_Other</th>                     <td>   -4.2013</td> <td>    9.310</td> <td>   -0.451</td> <td> 0.652</td> <td>  -22.456</td> <td>   14.053</td>\n",
       "</tr>\n",
       "<tr>\n",
       "  <th>property_type_Tent</th>                      <td>  -10.0224</td> <td>   16.020</td> <td>   -0.626</td> <td> 0.532</td> <td>  -41.433</td> <td>   21.388</td>\n",
       "</tr>\n",
       "<tr>\n",
       "  <th>property_type_Townhouse</th>                 <td>    4.1686</td> <td>    3.672</td> <td>    1.135</td> <td> 0.256</td> <td>   -3.032</td> <td>   11.369</td>\n",
       "</tr>\n",
       "<tr>\n",
       "  <th>property_type_Treehouse</th>                 <td>   43.4758</td> <td>   24.796</td> <td>    1.753</td> <td> 0.080</td> <td>   -5.143</td> <td>   92.094</td>\n",
       "</tr>\n",
       "<tr>\n",
       "  <th>property_type_Yurt</th>                      <td>   -3.1209</td> <td>   34.169</td> <td>   -0.091</td> <td> 0.927</td> <td>  -70.118</td> <td>   63.876</td>\n",
       "</tr>\n",
       "<tr>\n",
       "  <th>intercept</th>                               <td>   91.3009</td> <td>    3.216</td> <td>   28.389</td> <td> 0.000</td> <td>   84.995</td> <td>   97.607</td>\n",
       "</tr>\n",
       "</table>\n",
       "<table class=\"simpletable\">\n",
       "<tr>\n",
       "  <th>Omnibus:</th>       <td>309.497</td> <th>  Durbin-Watson:     </th> <td>   1.980</td> \n",
       "</tr>\n",
       "<tr>\n",
       "  <th>Prob(Omnibus):</th> <td> 0.000</td>  <th>  Jarque-Bera (JB):  </th> <td> 495.296</td> \n",
       "</tr>\n",
       "<tr>\n",
       "  <th>Skew:</th>          <td> 0.712</td>  <th>  Prob(JB):          </th> <td>2.80e-108</td>\n",
       "</tr>\n",
       "<tr>\n",
       "  <th>Kurtosis:</th>      <td> 4.319</td>  <th>  Cond. No.          </th> <td>    192.</td> \n",
       "</tr>\n",
       "</table><br/><br/>Notes:<br/>[1] Standard Errors assume that the covariance matrix of the errors is correctly specified."
      ],
      "text/plain": [
       "<class 'statsmodels.iolib.summary.Summary'>\n",
       "\"\"\"\n",
       "                            OLS Regression Results                            \n",
       "==============================================================================\n",
       "Dep. Variable:                  price   R-squared:                       0.588\n",
       "Model:                            OLS   Adj. R-squared:                  0.574\n",
       "Method:                 Least Squares   F-statistic:                     42.26\n",
       "Date:                Fri, 16 Jul 2021   Prob (F-statistic):               0.00\n",
       "Time:                        19:48:48   Log-Likelihood:                -15521.\n",
       "No. Observations:                3155   AIC:                         3.125e+04\n",
       "Df Residuals:                    3051   BIC:                         3.188e+04\n",
       "Df Model:                         103                                         \n",
       "Covariance Type:            nonrobust                                         \n",
       "===========================================================================================================\n",
       "                                              coef    std err          t      P>|t|      [0.025      0.975]\n",
       "-----------------------------------------------------------------------------------------------------------\n",
       "bathrooms                                   7.4284      1.527      4.866      0.000       4.435      10.422\n",
       "bedrooms                                   25.3055      1.267     19.972      0.000      22.821      27.790\n",
       "beds                                        5.2455      0.964      5.440      0.000       3.355       7.136\n",
       "guests_included                             2.7980      0.623      4.493      0.000       1.577       4.019\n",
       "neighbourhood_Alki                         12.2556      8.018      1.529      0.126      -3.466      27.977\n",
       "neighbourhood_Arbor Heights                -7.5176     19.587     -0.384      0.701     -45.923      30.888\n",
       "neighbourhood_Atlantic                    -22.3226      5.222     -4.275      0.000     -32.561     -12.084\n",
       "neighbourhood_Ballard                     -25.1636      3.142     -8.008      0.000     -31.325     -19.002\n",
       "neighbourhood_Belltown                     10.5362      3.152      3.343      0.001       4.356      16.716\n",
       "neighbourhood_Bitter Lake                 -32.8230      9.575     -3.428      0.001     -51.598     -14.048\n",
       "neighbourhood_Brighton                    -26.7550     15.232     -1.757      0.079     -56.620       3.110\n",
       "neighbourhood_Broadview                   -35.8749      8.680     -4.133      0.000     -52.893     -18.856\n",
       "neighbourhood_Broadway                    -19.9097     17.013     -1.170      0.242     -53.268      13.448\n",
       "neighbourhood_Bryant                      -30.6457      6.323     -4.846      0.000     -43.044     -18.247\n",
       "neighbourhood_Cedar Park                  -33.2534     12.137     -2.740      0.006     -57.051      -9.455\n",
       "neighbourhood_Central Business District     8.1151      4.501      1.803      0.071      -0.710      16.940\n",
       "neighbourhood_Columbia City               -34.7107      4.860     -7.142      0.000     -44.240     -25.181\n",
       "neighbourhood_Crown Hill                  -52.4270      7.746     -6.768      0.000     -67.615     -37.239\n",
       "neighbourhood_Dunlap                      -33.8238     10.201     -3.316      0.001     -53.825     -13.823\n",
       "neighbourhood_Eastlake                    -11.9401      5.588     -2.137      0.033     -22.896      -0.984\n",
       "neighbourhood_Fauntleroy                  -21.8701     12.106     -1.807      0.071     -45.606       1.866\n",
       "neighbourhood_First Hill                    8.6555      3.812      2.270      0.023       1.181      16.130\n",
       "neighbourhood_Fremont                     -16.1372      3.446     -4.682      0.000     -22.895      -9.380\n",
       "neighbourhood_Gatewood                     -6.6952      8.448     -0.793      0.428     -23.260       9.869\n",
       "neighbourhood_Genesee                     -22.0794      6.842     -3.227      0.001     -35.494      -8.665\n",
       "neighbourhood_Georgetown                  -30.9456     13.073     -2.367      0.018     -56.578      -5.313\n",
       "neighbourhood_Green Lake                  -16.1246      5.361     -3.008      0.003     -26.637      -5.612\n",
       "neighbourhood_Greenwood                   -38.6986      4.416     -8.763      0.000     -47.357     -30.040\n",
       "neighbourhood_Haller Lake                 -47.0898      9.300     -5.063      0.000     -65.325     -28.855\n",
       "neighbourhood_Harrison/Denny-Blaine        -2.9258      9.552     -0.306      0.759     -21.654      15.803\n",
       "neighbourhood_High Point                  -34.0417     10.959     -3.106      0.002     -55.529     -12.554\n",
       "neighbourhood_Highland Park               -36.7808      9.961     -3.692      0.000     -56.312     -17.249\n",
       "neighbourhood_Holly Park                  -35.9154     13.976     -2.570      0.010     -63.319      -8.512\n",
       "neighbourhood_Industrial District          42.4201     35.070      1.210      0.227     -26.343     111.184\n",
       "neighbourhood_Interbay                    -21.7886     13.117     -1.661      0.097     -47.508       3.931\n",
       "neighbourhood_International District       -5.3571      8.500     -0.630      0.529     -22.023      11.309\n",
       "neighbourhood_Laurelhurst                 -13.3298     11.477     -1.161      0.246     -35.833       9.173\n",
       "neighbourhood_Leschi                      -25.8934      5.796     -4.468      0.000     -37.258     -14.529\n",
       "neighbourhood_Licton Springs              -25.4172      9.972     -2.549      0.011     -44.969      -5.866\n",
       "neighbourhood_Lower Queen Anne             10.2397      4.259      2.404      0.016       1.889      18.590\n",
       "neighbourhood_Madison Park                  4.8737      9.215      0.529      0.597     -13.195      22.942\n",
       "neighbourhood_Madrona                     -16.6970      6.052     -2.759      0.006     -28.563      -4.831\n",
       "neighbourhood_Magnolia                    -13.0854      5.388     -2.429      0.015     -23.650      -2.521\n",
       "neighbourhood_Maple Leaf                  -36.1985      5.826     -6.213      0.000     -47.622     -24.775\n",
       "neighbourhood_Mathews Beach               -25.3237      8.431     -3.004      0.003     -41.855      -8.793\n",
       "neighbourhood_Meadowbrook                 -27.7368     11.481     -2.416      0.016     -50.249      -5.225\n",
       "neighbourhood_Minor                       -12.8984      3.215     -4.012      0.000     -19.202      -6.595\n",
       "neighbourhood_Montlake                     -5.4119      9.094     -0.595      0.552     -23.242      12.419\n",
       "neighbourhood_Mount Baker                 -32.4742      5.464     -5.943      0.000     -43.188     -21.760\n",
       "neighbourhood_North Admiral               -11.6954      5.643     -2.073      0.038     -22.760      -0.631\n",
       "neighbourhood_North Beach/Blue Ridge      -26.2759     10.927     -2.405      0.016     -47.700      -4.851\n",
       "neighbourhood_North Beacon Hill           -32.5964      4.079     -7.991      0.000     -40.594     -24.598\n",
       "neighbourhood_North Delridge              -44.9243      6.794     -6.612      0.000     -58.246     -31.603\n",
       "neighbourhood_Olympic Hills               -37.7383      9.975     -3.783      0.000     -57.296     -18.180\n",
       "neighbourhood_Phinney Ridge               -25.3481      5.081     -4.989      0.000     -35.310     -15.386\n",
       "neighbourhood_Pike Market                 -38.7836     23.912     -1.622      0.105     -85.669       8.102\n",
       "neighbourhood_Pike Place Market            20.4502      6.453      3.169      0.002       7.798      33.103\n",
       "neighbourhood_Pinehurst                   -20.3860     19.583     -1.041      0.298     -58.784      18.012\n",
       "neighbourhood_Pioneer Square               39.3165      9.264      4.244      0.000      21.152      57.481\n",
       "neighbourhood_Portage Bay                   2.9591     10.844      0.273      0.785     -18.303      24.221\n",
       "neighbourhood_Queen Anne                   -8.4175      3.298     -2.552      0.011     -14.884      -1.951\n",
       "neighbourhood_Rainier Beach               -34.0611      8.273     -4.117      0.000     -50.282     -17.840\n",
       "neighbourhood_Ravenna                     -37.6139      4.971     -7.566      0.000     -47.361     -27.867\n",
       "neighbourhood_Riverview                   -48.8328     12.118     -4.030      0.000     -72.594     -25.072\n",
       "neighbourhood_Roosevelt                   -25.0293      6.803     -3.679      0.000     -38.369     -11.689\n",
       "neighbourhood_Roxhill                     -33.5113     33.777     -0.992      0.321     -99.739      32.717\n",
       "neighbourhood_Seaview                     -14.5620     11.438     -1.273      0.203     -36.988       7.864\n",
       "neighbourhood_Seward Park                 -46.8145      6.505     -7.197      0.000     -59.569     -34.060\n",
       "neighbourhood_South Beacon Hill           -53.5232     23.983     -2.232      0.026    -100.549      -6.498\n",
       "neighbourhood_South Delridge              -55.6679     12.947     -4.300      0.000     -81.053     -30.283\n",
       "neighbourhood_South Lake Union             17.8242      7.783      2.290      0.022       2.563      33.085\n",
       "neighbourhood_South Park                  -86.4215     23.992     -3.602      0.000    -133.463     -39.380\n",
       "neighbourhood_Stevens                     -10.2572      4.102     -2.501      0.012     -18.300      -2.214\n",
       "neighbourhood_The Junction                -24.6507      6.139     -4.015      0.000     -36.688     -12.614\n",
       "neighbourhood_University District         -27.7058      3.821     -7.251      0.000     -35.197     -20.214\n",
       "neighbourhood_Victory Heights             -26.3794      9.588     -2.751      0.006     -45.178      -7.581\n",
       "neighbourhood_View Ridge                  -18.9314     13.971     -1.355      0.175     -46.325       8.462\n",
       "neighbourhood_Wallingford                 -17.6536      3.543     -4.983      0.000     -24.600     -10.707\n",
       "neighbourhood_Wedgewood                   -23.2602      9.272     -2.509      0.012     -41.441      -5.080\n",
       "neighbourhood_Westlake                      7.8336     10.988      0.713      0.476     -13.710      29.377\n",
       "neighbourhood_Windermere                    1.6664     12.073      0.138      0.890     -22.005      25.338\n",
       "neighbourhood_Yesler Terrace                9.9799      9.937      1.004      0.315      -9.504      29.464\n",
       "bed_type_Airbed                           -12.6276      7.649     -1.651      0.099     -27.624       2.369\n",
       "bed_type_Couch                              4.9982     10.744      0.465      0.642     -16.069      26.065\n",
       "bed_type_Futon                             -4.4452      4.234     -1.050      0.294     -12.747       3.856\n",
       "bed_type_Pull-out Sofa                     -4.5654      5.362     -0.852      0.395     -15.078       5.947\n",
       "room_type_Private room                    -38.5670      1.658    -23.262      0.000     -41.818     -35.316\n",
       "room_type_Shared room                     -71.9205      3.894    -18.468      0.000     -79.556     -64.285\n",
       "property_type_Apartment                    -6.5402      1.704     -3.838      0.000      -9.882      -3.199\n",
       "property_type_Bed & Breakfast              29.4701      6.085      4.843      0.000      17.538      41.402\n",
       "property_type_Boat                         29.2049     15.722      1.858      0.063      -1.621      60.031\n",
       "property_type_Bungalow                      5.3565     10.387      0.516      0.606     -15.009      25.722\n",
       "property_type_Cabin                        -7.0545      7.947     -0.888      0.375     -22.636       8.527\n",
       "property_type_Camper/RV                   -24.4717     12.068     -2.028      0.043     -48.134      -0.809\n",
       "property_type_Chalet                        1.3280     34.142      0.039      0.969     -65.616      68.272\n",
       "property_type_Condominium                  -5.5101      4.215     -1.307      0.191     -13.775       2.755\n",
       "property_type_Dorm                       -100.1121     26.005     -3.850      0.000    -151.100     -49.124\n",
       "property_type_Loft                         10.9118      6.244      1.748      0.081      -1.330      23.154\n",
       "property_type_Other                        -4.2013      9.310     -0.451      0.652     -22.456      14.053\n",
       "property_type_Tent                        -10.0224     16.020     -0.626      0.532     -41.433      21.388\n",
       "property_type_Townhouse                     4.1686      3.672      1.135      0.256      -3.032      11.369\n",
       "property_type_Treehouse                    43.4758     24.796      1.753      0.080      -5.143      92.094\n",
       "property_type_Yurt                         -3.1209     34.169     -0.091      0.927     -70.118      63.876\n",
       "intercept                                  91.3009      3.216     28.389      0.000      84.995      97.607\n",
       "==============================================================================\n",
       "Omnibus:                      309.497   Durbin-Watson:                   1.980\n",
       "Prob(Omnibus):                  0.000   Jarque-Bera (JB):              495.296\n",
       "Skew:                           0.712   Prob(JB):                    2.80e-108\n",
       "Kurtosis:                       4.319   Cond. No.                         192.\n",
       "==============================================================================\n",
       "\n",
       "Notes:\n",
       "[1] Standard Errors assume that the covariance matrix of the errors is correctly specified.\n",
       "\"\"\""
      ]
     },
     "execution_count": 49,
     "metadata": {},
     "output_type": "execute_result"
    }
   ],
   "source": [
    "#Intercept\n",
    "X['intercept']=1\n",
    "\n",
    "model=sm.OLS(y,X)\n",
    "\n",
    "results=model.fit()\n",
    "results.summary()"
   ]
  },
  {
   "cell_type": "markdown",
   "id": "introductory-dairy",
   "metadata": {},
   "source": [
    "This dataset contains a lot of columns and such it has a lot of independent variables. We will keep only significant featurs so  We will pick columns with p values less than 5%"
   ]
  },
  {
   "cell_type": "code",
   "execution_count": 51,
   "id": "horizontal-netscape",
   "metadata": {
    "scrolled": false
   },
   "outputs": [
    {
     "data": {
      "text/html": [
       "<table class=\"simpletable\">\n",
       "<caption>OLS Regression Results</caption>\n",
       "<tr>\n",
       "  <th>Dep. Variable:</th>          <td>price</td>      <th>  R-squared:         </th> <td>   0.581</td> \n",
       "</tr>\n",
       "<tr>\n",
       "  <th>Model:</th>                   <td>OLS</td>       <th>  Adj. R-squared:    </th> <td>   0.572</td> \n",
       "</tr>\n",
       "<tr>\n",
       "  <th>Method:</th>             <td>Least Squares</td>  <th>  F-statistic:       </th> <td>   65.90</td> \n",
       "</tr>\n",
       "<tr>\n",
       "  <th>Date:</th>             <td>Fri, 16 Jul 2021</td> <th>  Prob (F-statistic):</th>  <td>  0.00</td>  \n",
       "</tr>\n",
       "<tr>\n",
       "  <th>Time:</th>                 <td>19:49:32</td>     <th>  Log-Likelihood:    </th> <td> -15547.</td> \n",
       "</tr>\n",
       "<tr>\n",
       "  <th>No. Observations:</th>      <td>  3155</td>      <th>  AIC:               </th> <td>3.123e+04</td>\n",
       "</tr>\n",
       "<tr>\n",
       "  <th>Df Residuals:</th>          <td>  3089</td>      <th>  BIC:               </th> <td>3.163e+04</td>\n",
       "</tr>\n",
       "<tr>\n",
       "  <th>Df Model:</th>              <td>    65</td>      <th>                     </th>     <td> </td>    \n",
       "</tr>\n",
       "<tr>\n",
       "  <th>Covariance Type:</th>      <td>nonrobust</td>    <th>                     </th>     <td> </td>    \n",
       "</tr>\n",
       "</table>\n",
       "<table class=\"simpletable\">\n",
       "<tr>\n",
       "                    <td></td>                      <th>coef</th>     <th>std err</th>      <th>t</th>      <th>P>|t|</th>  <th>[0.025</th>    <th>0.975]</th>  \n",
       "</tr>\n",
       "<tr>\n",
       "  <th>bathrooms</th>                            <td>    8.0548</td> <td>    1.512</td> <td>    5.327</td> <td> 0.000</td> <td>    5.090</td> <td>   11.020</td>\n",
       "</tr>\n",
       "<tr>\n",
       "  <th>bedrooms</th>                             <td>   24.9834</td> <td>    1.242</td> <td>   20.120</td> <td> 0.000</td> <td>   22.549</td> <td>   27.418</td>\n",
       "</tr>\n",
       "<tr>\n",
       "  <th>beds</th>                                 <td>    5.4371</td> <td>    0.959</td> <td>    5.667</td> <td> 0.000</td> <td>    3.556</td> <td>    7.318</td>\n",
       "</tr>\n",
       "<tr>\n",
       "  <th>guests_included</th>                      <td>    2.6972</td> <td>    0.620</td> <td>    4.352</td> <td> 0.000</td> <td>    1.482</td> <td>    3.912</td>\n",
       "</tr>\n",
       "<tr>\n",
       "  <th>neighbourhood_Atlantic</th>               <td>  -21.6163</td> <td>    5.052</td> <td>   -4.279</td> <td> 0.000</td> <td>  -31.521</td> <td>  -11.711</td>\n",
       "</tr>\n",
       "<tr>\n",
       "  <th>neighbourhood_Ballard</th>                <td>  -24.3545</td> <td>    2.841</td> <td>   -8.574</td> <td> 0.000</td> <td>  -29.924</td> <td>  -18.785</td>\n",
       "</tr>\n",
       "<tr>\n",
       "  <th>neighbourhood_Belltown</th>               <td>   10.6382</td> <td>    2.898</td> <td>    3.670</td> <td> 0.000</td> <td>    4.955</td> <td>   16.321</td>\n",
       "</tr>\n",
       "<tr>\n",
       "  <th>neighbourhood_Bitter Lake</th>            <td>  -31.8825</td> <td>    9.499</td> <td>   -3.357</td> <td> 0.001</td> <td>  -50.507</td> <td>  -13.258</td>\n",
       "</tr>\n",
       "<tr>\n",
       "  <th>neighbourhood_Broadview</th>              <td>  -35.2110</td> <td>    8.589</td> <td>   -4.100</td> <td> 0.000</td> <td>  -52.052</td> <td>  -18.370</td>\n",
       "</tr>\n",
       "<tr>\n",
       "  <th>neighbourhood_Bryant</th>                 <td>  -29.1621</td> <td>    6.174</td> <td>   -4.723</td> <td> 0.000</td> <td>  -41.268</td> <td>  -17.056</td>\n",
       "</tr>\n",
       "<tr>\n",
       "  <th>neighbourhood_Cedar Park</th>             <td>  -32.3091</td> <td>   12.081</td> <td>   -2.674</td> <td> 0.008</td> <td>  -55.996</td> <td>   -8.622</td>\n",
       "</tr>\n",
       "<tr>\n",
       "  <th>neighbourhood_Columbia City</th>          <td>  -33.8975</td> <td>    4.665</td> <td>   -7.266</td> <td> 0.000</td> <td>  -43.044</td> <td>  -24.751</td>\n",
       "</tr>\n",
       "<tr>\n",
       "  <th>neighbourhood_Crown Hill</th>             <td>  -50.1799</td> <td>    7.599</td> <td>   -6.604</td> <td> 0.000</td> <td>  -65.079</td> <td>  -35.280</td>\n",
       "</tr>\n",
       "<tr>\n",
       "  <th>neighbourhood_Dunlap</th>                 <td>  -28.6495</td> <td>    9.887</td> <td>   -2.898</td> <td> 0.004</td> <td>  -48.035</td> <td>   -9.264</td>\n",
       "</tr>\n",
       "<tr>\n",
       "  <th>neighbourhood_Eastlake</th>               <td>  -11.9900</td> <td>    5.464</td> <td>   -2.194</td> <td> 0.028</td> <td>  -22.704</td> <td>   -1.276</td>\n",
       "</tr>\n",
       "<tr>\n",
       "  <th>neighbourhood_First Hill</th>             <td>    8.3046</td> <td>    3.614</td> <td>    2.298</td> <td> 0.022</td> <td>    1.219</td> <td>   15.390</td>\n",
       "</tr>\n",
       "<tr>\n",
       "  <th>neighbourhood_Fremont</th>                <td>  -15.4336</td> <td>    3.203</td> <td>   -4.819</td> <td> 0.000</td> <td>  -21.713</td> <td>   -9.154</td>\n",
       "</tr>\n",
       "<tr>\n",
       "  <th>neighbourhood_Genesee</th>                <td>  -21.6168</td> <td>    6.703</td> <td>   -3.225</td> <td> 0.001</td> <td>  -34.759</td> <td>   -8.475</td>\n",
       "</tr>\n",
       "<tr>\n",
       "  <th>neighbourhood_Georgetown</th>             <td>  -29.3591</td> <td>   12.936</td> <td>   -2.270</td> <td> 0.023</td> <td>  -54.723</td> <td>   -3.996</td>\n",
       "</tr>\n",
       "<tr>\n",
       "  <th>neighbourhood_Green Lake</th>             <td>  -15.6312</td> <td>    5.199</td> <td>   -3.007</td> <td> 0.003</td> <td>  -25.825</td> <td>   -5.438</td>\n",
       "</tr>\n",
       "<tr>\n",
       "  <th>neighbourhood_Greenwood</th>              <td>  -38.1237</td> <td>    4.210</td> <td>   -9.056</td> <td> 0.000</td> <td>  -46.377</td> <td>  -29.870</td>\n",
       "</tr>\n",
       "<tr>\n",
       "  <th>neighbourhood_Haller Lake</th>            <td>  -46.3904</td> <td>    9.199</td> <td>   -5.043</td> <td> 0.000</td> <td>  -64.427</td> <td>  -28.354</td>\n",
       "</tr>\n",
       "<tr>\n",
       "  <th>neighbourhood_High Point</th>             <td>  -31.2201</td> <td>   10.824</td> <td>   -2.884</td> <td> 0.004</td> <td>  -52.444</td> <td>   -9.996</td>\n",
       "</tr>\n",
       "<tr>\n",
       "  <th>neighbourhood_Highland Park</th>          <td>  -35.4620</td> <td>    9.883</td> <td>   -3.588</td> <td> 0.000</td> <td>  -54.841</td> <td>  -16.083</td>\n",
       "</tr>\n",
       "<tr>\n",
       "  <th>neighbourhood_Holly Park</th>             <td>  -33.4027</td> <td>   13.901</td> <td>   -2.403</td> <td> 0.016</td> <td>  -60.658</td> <td>   -6.147</td>\n",
       "</tr>\n",
       "<tr>\n",
       "  <th>neighbourhood_Leschi</th>                 <td>  -24.6751</td> <td>    5.628</td> <td>   -4.385</td> <td> 0.000</td> <td>  -35.709</td> <td>  -13.641</td>\n",
       "</tr>\n",
       "<tr>\n",
       "  <th>neighbourhood_Licton Springs</th>         <td>  -24.3542</td> <td>    9.893</td> <td>   -2.462</td> <td> 0.014</td> <td>  -43.752</td> <td>   -4.957</td>\n",
       "</tr>\n",
       "<tr>\n",
       "  <th>neighbourhood_Lower Queen Anne</th>       <td>   10.5955</td> <td>    4.077</td> <td>    2.599</td> <td> 0.009</td> <td>    2.601</td> <td>   18.590</td>\n",
       "</tr>\n",
       "<tr>\n",
       "  <th>neighbourhood_Madrona</th>                <td>  -15.5393</td> <td>    5.902</td> <td>   -2.633</td> <td> 0.009</td> <td>  -27.111</td> <td>   -3.967</td>\n",
       "</tr>\n",
       "<tr>\n",
       "  <th>neighbourhood_Magnolia</th>               <td>  -12.4343</td> <td>    5.216</td> <td>   -2.384</td> <td> 0.017</td> <td>  -22.661</td> <td>   -2.207</td>\n",
       "</tr>\n",
       "<tr>\n",
       "  <th>neighbourhood_Maple Leaf</th>             <td>  -36.6209</td> <td>    5.668</td> <td>   -6.461</td> <td> 0.000</td> <td>  -47.734</td> <td>  -25.507</td>\n",
       "</tr>\n",
       "<tr>\n",
       "  <th>neighbourhood_Mathews Beach</th>          <td>  -24.5160</td> <td>    8.336</td> <td>   -2.941</td> <td> 0.003</td> <td>  -40.860</td> <td>   -8.172</td>\n",
       "</tr>\n",
       "<tr>\n",
       "  <th>neighbourhood_Meadowbrook</th>            <td>  -28.0534</td> <td>   11.382</td> <td>   -2.465</td> <td> 0.014</td> <td>  -50.371</td> <td>   -5.735</td>\n",
       "</tr>\n",
       "<tr>\n",
       "  <th>neighbourhood_Minor</th>                  <td>  -12.2509</td> <td>    2.939</td> <td>   -4.169</td> <td> 0.000</td> <td>  -18.013</td> <td>   -6.489</td>\n",
       "</tr>\n",
       "<tr>\n",
       "  <th>neighbourhood_Mount Baker</th>            <td>  -31.8937</td> <td>    5.312</td> <td>   -6.004</td> <td> 0.000</td> <td>  -42.309</td> <td>  -21.479</td>\n",
       "</tr>\n",
       "<tr>\n",
       "  <th>neighbourhood_North Admiral</th>          <td>  -11.2320</td> <td>    5.378</td> <td>   -2.088</td> <td> 0.037</td> <td>  -21.777</td> <td>   -0.687</td>\n",
       "</tr>\n",
       "<tr>\n",
       "  <th>neighbourhood_North Beach/Blue Ridge</th> <td>  -24.8027</td> <td>   10.810</td> <td>   -2.294</td> <td> 0.022</td> <td>  -45.999</td> <td>   -3.607</td>\n",
       "</tr>\n",
       "<tr>\n",
       "  <th>neighbourhood_North Beacon Hill</th>      <td>  -32.3881</td> <td>    3.820</td> <td>   -8.478</td> <td> 0.000</td> <td>  -39.879</td> <td>  -24.898</td>\n",
       "</tr>\n",
       "<tr>\n",
       "  <th>neighbourhood_North Delridge</th>         <td>  -43.9491</td> <td>    6.672</td> <td>   -6.587</td> <td> 0.000</td> <td>  -57.031</td> <td>  -30.867</td>\n",
       "</tr>\n",
       "<tr>\n",
       "  <th>neighbourhood_Olympic Hills</th>          <td>  -36.7052</td> <td>    9.897</td> <td>   -3.709</td> <td> 0.000</td> <td>  -56.111</td> <td>  -17.299</td>\n",
       "</tr>\n",
       "<tr>\n",
       "  <th>neighbourhood_Phinney Ridge</th>          <td>  -24.9279</td> <td>    4.912</td> <td>   -5.075</td> <td> 0.000</td> <td>  -34.559</td> <td>  -15.297</td>\n",
       "</tr>\n",
       "<tr>\n",
       "  <th>neighbourhood_Pike Place Market</th>      <td>   20.1197</td> <td>    6.343</td> <td>    3.172</td> <td> 0.002</td> <td>    7.683</td> <td>   32.556</td>\n",
       "</tr>\n",
       "<tr>\n",
       "  <th>neighbourhood_Pioneer Square</th>         <td>   38.2860</td> <td>    9.143</td> <td>    4.188</td> <td> 0.000</td> <td>   20.359</td> <td>   56.213</td>\n",
       "</tr>\n",
       "<tr>\n",
       "  <th>neighbourhood_Queen Anne</th>             <td>   -7.7963</td> <td>    3.043</td> <td>   -2.562</td> <td> 0.010</td> <td>  -13.763</td> <td>   -1.829</td>\n",
       "</tr>\n",
       "<tr>\n",
       "  <th>neighbourhood_Rainier Beach</th>          <td>  -33.2234</td> <td>    8.152</td> <td>   -4.075</td> <td> 0.000</td> <td>  -49.208</td> <td>  -17.239</td>\n",
       "</tr>\n",
       "<tr>\n",
       "  <th>neighbourhood_Ravenna</th>                <td>  -36.9731</td> <td>    4.776</td> <td>   -7.741</td> <td> 0.000</td> <td>  -46.338</td> <td>  -27.608</td>\n",
       "</tr>\n",
       "<tr>\n",
       "  <th>neighbourhood_Riverview</th>              <td>  -49.1025</td> <td>   12.037</td> <td>   -4.079</td> <td> 0.000</td> <td>  -72.703</td> <td>  -25.502</td>\n",
       "</tr>\n",
       "<tr>\n",
       "  <th>neighbourhood_Roosevelt</th>              <td>  -24.1584</td> <td>    6.675</td> <td>   -3.619</td> <td> 0.000</td> <td>  -37.247</td> <td>  -11.070</td>\n",
       "</tr>\n",
       "<tr>\n",
       "  <th>neighbourhood_Seward Park</th>            <td>  -45.9896</td> <td>    6.372</td> <td>   -7.218</td> <td> 0.000</td> <td>  -58.483</td> <td>  -33.496</td>\n",
       "</tr>\n",
       "<tr>\n",
       "  <th>neighbourhood_South Beacon Hill</th>      <td>  -52.2344</td> <td>   23.988</td> <td>   -2.178</td> <td> 0.030</td> <td>  -99.268</td> <td>   -5.201</td>\n",
       "</tr>\n",
       "<tr>\n",
       "  <th>neighbourhood_South Delridge</th>         <td>  -54.8779</td> <td>   12.898</td> <td>   -4.255</td> <td> 0.000</td> <td>  -80.167</td> <td>  -29.589</td>\n",
       "</tr>\n",
       "<tr>\n",
       "  <th>neighbourhood_South Lake Union</th>       <td>   18.2688</td> <td>    7.690</td> <td>    2.376</td> <td> 0.018</td> <td>    3.190</td> <td>   33.348</td>\n",
       "</tr>\n",
       "<tr>\n",
       "  <th>neighbourhood_South Park</th>             <td>  -85.1633</td> <td>   23.995</td> <td>   -3.549</td> <td> 0.000</td> <td> -132.210</td> <td>  -38.116</td>\n",
       "</tr>\n",
       "<tr>\n",
       "  <th>neighbourhood_Stevens</th>                <td>   -9.8283</td> <td>    3.903</td> <td>   -2.518</td> <td> 0.012</td> <td>  -17.481</td> <td>   -2.176</td>\n",
       "</tr>\n",
       "<tr>\n",
       "  <th>neighbourhood_The Junction</th>           <td>  -23.8891</td> <td>    5.991</td> <td>   -3.987</td> <td> 0.000</td> <td>  -35.637</td> <td>  -12.142</td>\n",
       "</tr>\n",
       "<tr>\n",
       "  <th>neighbourhood_University District</th>    <td>  -27.6580</td> <td>    3.627</td> <td>   -7.627</td> <td> 0.000</td> <td>  -34.769</td> <td>  -20.547</td>\n",
       "</tr>\n",
       "<tr>\n",
       "  <th>neighbourhood_Victory Heights</th>        <td>  -26.4683</td> <td>    9.495</td> <td>   -2.788</td> <td> 0.005</td> <td>  -45.084</td> <td>   -7.852</td>\n",
       "</tr>\n",
       "<tr>\n",
       "  <th>neighbourhood_Wallingford</th>            <td>  -16.9345</td> <td>    3.291</td> <td>   -5.146</td> <td> 0.000</td> <td>  -23.387</td> <td>  -10.482</td>\n",
       "</tr>\n",
       "<tr>\n",
       "  <th>neighbourhood_Wedgewood</th>              <td>  -21.4857</td> <td>    9.178</td> <td>   -2.341</td> <td> 0.019</td> <td>  -39.482</td> <td>   -3.490</td>\n",
       "</tr>\n",
       "<tr>\n",
       "  <th>room_type_Private room</th>               <td>  -38.8600</td> <td>    1.610</td> <td>  -24.135</td> <td> 0.000</td> <td>  -42.017</td> <td>  -35.703</td>\n",
       "</tr>\n",
       "<tr>\n",
       "  <th>room_type_Shared room</th>                <td>  -72.9451</td> <td>    3.683</td> <td>  -19.804</td> <td> 0.000</td> <td>  -80.167</td> <td>  -65.723</td>\n",
       "</tr>\n",
       "<tr>\n",
       "  <th>property_type_Apartment</th>              <td>   -6.0085</td> <td>    1.530</td> <td>   -3.927</td> <td> 0.000</td> <td>   -9.009</td> <td>   -3.008</td>\n",
       "</tr>\n",
       "<tr>\n",
       "  <th>property_type_Bed & Breakfast</th>        <td>   29.4781</td> <td>    6.086</td> <td>    4.844</td> <td> 0.000</td> <td>   17.545</td> <td>   41.411</td>\n",
       "</tr>\n",
       "<tr>\n",
       "  <th>property_type_Camper/RV</th>              <td>  -24.6734</td> <td>   12.063</td> <td>   -2.045</td> <td> 0.041</td> <td>  -48.326</td> <td>   -1.021</td>\n",
       "</tr>\n",
       "<tr>\n",
       "  <th>property_type_Dorm</th>                   <td> -101.1212</td> <td>   26.023</td> <td>   -3.886</td> <td> 0.000</td> <td> -152.144</td> <td>  -50.098</td>\n",
       "</tr>\n",
       "<tr>\n",
       "  <th>intercept</th>                            <td>   90.0498</td> <td>    2.801</td> <td>   32.150</td> <td> 0.000</td> <td>   84.558</td> <td>   95.542</td>\n",
       "</tr>\n",
       "</table>\n",
       "<table class=\"simpletable\">\n",
       "<tr>\n",
       "  <th>Omnibus:</th>       <td>325.577</td> <th>  Durbin-Watson:     </th> <td>   1.974</td> \n",
       "</tr>\n",
       "<tr>\n",
       "  <th>Prob(Omnibus):</th> <td> 0.000</td>  <th>  Jarque-Bera (JB):  </th> <td> 519.473</td> \n",
       "</tr>\n",
       "<tr>\n",
       "  <th>Skew:</th>          <td> 0.743</td>  <th>  Prob(JB):          </th> <td>1.58e-113</td>\n",
       "</tr>\n",
       "<tr>\n",
       "  <th>Kurtosis:</th>      <td> 4.321</td>  <th>  Cond. No.          </th> <td>    142.</td> \n",
       "</tr>\n",
       "</table><br/><br/>Notes:<br/>[1] Standard Errors assume that the covariance matrix of the errors is correctly specified."
      ],
      "text/plain": [
       "<class 'statsmodels.iolib.summary.Summary'>\n",
       "\"\"\"\n",
       "                            OLS Regression Results                            \n",
       "==============================================================================\n",
       "Dep. Variable:                  price   R-squared:                       0.581\n",
       "Model:                            OLS   Adj. R-squared:                  0.572\n",
       "Method:                 Least Squares   F-statistic:                     65.90\n",
       "Date:                Fri, 16 Jul 2021   Prob (F-statistic):               0.00\n",
       "Time:                        19:49:32   Log-Likelihood:                -15547.\n",
       "No. Observations:                3155   AIC:                         3.123e+04\n",
       "Df Residuals:                    3089   BIC:                         3.163e+04\n",
       "Df Model:                          65                                         \n",
       "Covariance Type:            nonrobust                                         \n",
       "========================================================================================================\n",
       "                                           coef    std err          t      P>|t|      [0.025      0.975]\n",
       "--------------------------------------------------------------------------------------------------------\n",
       "bathrooms                                8.0548      1.512      5.327      0.000       5.090      11.020\n",
       "bedrooms                                24.9834      1.242     20.120      0.000      22.549      27.418\n",
       "beds                                     5.4371      0.959      5.667      0.000       3.556       7.318\n",
       "guests_included                          2.6972      0.620      4.352      0.000       1.482       3.912\n",
       "neighbourhood_Atlantic                 -21.6163      5.052     -4.279      0.000     -31.521     -11.711\n",
       "neighbourhood_Ballard                  -24.3545      2.841     -8.574      0.000     -29.924     -18.785\n",
       "neighbourhood_Belltown                  10.6382      2.898      3.670      0.000       4.955      16.321\n",
       "neighbourhood_Bitter Lake              -31.8825      9.499     -3.357      0.001     -50.507     -13.258\n",
       "neighbourhood_Broadview                -35.2110      8.589     -4.100      0.000     -52.052     -18.370\n",
       "neighbourhood_Bryant                   -29.1621      6.174     -4.723      0.000     -41.268     -17.056\n",
       "neighbourhood_Cedar Park               -32.3091     12.081     -2.674      0.008     -55.996      -8.622\n",
       "neighbourhood_Columbia City            -33.8975      4.665     -7.266      0.000     -43.044     -24.751\n",
       "neighbourhood_Crown Hill               -50.1799      7.599     -6.604      0.000     -65.079     -35.280\n",
       "neighbourhood_Dunlap                   -28.6495      9.887     -2.898      0.004     -48.035      -9.264\n",
       "neighbourhood_Eastlake                 -11.9900      5.464     -2.194      0.028     -22.704      -1.276\n",
       "neighbourhood_First Hill                 8.3046      3.614      2.298      0.022       1.219      15.390\n",
       "neighbourhood_Fremont                  -15.4336      3.203     -4.819      0.000     -21.713      -9.154\n",
       "neighbourhood_Genesee                  -21.6168      6.703     -3.225      0.001     -34.759      -8.475\n",
       "neighbourhood_Georgetown               -29.3591     12.936     -2.270      0.023     -54.723      -3.996\n",
       "neighbourhood_Green Lake               -15.6312      5.199     -3.007      0.003     -25.825      -5.438\n",
       "neighbourhood_Greenwood                -38.1237      4.210     -9.056      0.000     -46.377     -29.870\n",
       "neighbourhood_Haller Lake              -46.3904      9.199     -5.043      0.000     -64.427     -28.354\n",
       "neighbourhood_High Point               -31.2201     10.824     -2.884      0.004     -52.444      -9.996\n",
       "neighbourhood_Highland Park            -35.4620      9.883     -3.588      0.000     -54.841     -16.083\n",
       "neighbourhood_Holly Park               -33.4027     13.901     -2.403      0.016     -60.658      -6.147\n",
       "neighbourhood_Leschi                   -24.6751      5.628     -4.385      0.000     -35.709     -13.641\n",
       "neighbourhood_Licton Springs           -24.3542      9.893     -2.462      0.014     -43.752      -4.957\n",
       "neighbourhood_Lower Queen Anne          10.5955      4.077      2.599      0.009       2.601      18.590\n",
       "neighbourhood_Madrona                  -15.5393      5.902     -2.633      0.009     -27.111      -3.967\n",
       "neighbourhood_Magnolia                 -12.4343      5.216     -2.384      0.017     -22.661      -2.207\n",
       "neighbourhood_Maple Leaf               -36.6209      5.668     -6.461      0.000     -47.734     -25.507\n",
       "neighbourhood_Mathews Beach            -24.5160      8.336     -2.941      0.003     -40.860      -8.172\n",
       "neighbourhood_Meadowbrook              -28.0534     11.382     -2.465      0.014     -50.371      -5.735\n",
       "neighbourhood_Minor                    -12.2509      2.939     -4.169      0.000     -18.013      -6.489\n",
       "neighbourhood_Mount Baker              -31.8937      5.312     -6.004      0.000     -42.309     -21.479\n",
       "neighbourhood_North Admiral            -11.2320      5.378     -2.088      0.037     -21.777      -0.687\n",
       "neighbourhood_North Beach/Blue Ridge   -24.8027     10.810     -2.294      0.022     -45.999      -3.607\n",
       "neighbourhood_North Beacon Hill        -32.3881      3.820     -8.478      0.000     -39.879     -24.898\n",
       "neighbourhood_North Delridge           -43.9491      6.672     -6.587      0.000     -57.031     -30.867\n",
       "neighbourhood_Olympic Hills            -36.7052      9.897     -3.709      0.000     -56.111     -17.299\n",
       "neighbourhood_Phinney Ridge            -24.9279      4.912     -5.075      0.000     -34.559     -15.297\n",
       "neighbourhood_Pike Place Market         20.1197      6.343      3.172      0.002       7.683      32.556\n",
       "neighbourhood_Pioneer Square            38.2860      9.143      4.188      0.000      20.359      56.213\n",
       "neighbourhood_Queen Anne                -7.7963      3.043     -2.562      0.010     -13.763      -1.829\n",
       "neighbourhood_Rainier Beach            -33.2234      8.152     -4.075      0.000     -49.208     -17.239\n",
       "neighbourhood_Ravenna                  -36.9731      4.776     -7.741      0.000     -46.338     -27.608\n",
       "neighbourhood_Riverview                -49.1025     12.037     -4.079      0.000     -72.703     -25.502\n",
       "neighbourhood_Roosevelt                -24.1584      6.675     -3.619      0.000     -37.247     -11.070\n",
       "neighbourhood_Seward Park              -45.9896      6.372     -7.218      0.000     -58.483     -33.496\n",
       "neighbourhood_South Beacon Hill        -52.2344     23.988     -2.178      0.030     -99.268      -5.201\n",
       "neighbourhood_South Delridge           -54.8779     12.898     -4.255      0.000     -80.167     -29.589\n",
       "neighbourhood_South Lake Union          18.2688      7.690      2.376      0.018       3.190      33.348\n",
       "neighbourhood_South Park               -85.1633     23.995     -3.549      0.000    -132.210     -38.116\n",
       "neighbourhood_Stevens                   -9.8283      3.903     -2.518      0.012     -17.481      -2.176\n",
       "neighbourhood_The Junction             -23.8891      5.991     -3.987      0.000     -35.637     -12.142\n",
       "neighbourhood_University District      -27.6580      3.627     -7.627      0.000     -34.769     -20.547\n",
       "neighbourhood_Victory Heights          -26.4683      9.495     -2.788      0.005     -45.084      -7.852\n",
       "neighbourhood_Wallingford              -16.9345      3.291     -5.146      0.000     -23.387     -10.482\n",
       "neighbourhood_Wedgewood                -21.4857      9.178     -2.341      0.019     -39.482      -3.490\n",
       "room_type_Private room                 -38.8600      1.610    -24.135      0.000     -42.017     -35.703\n",
       "room_type_Shared room                  -72.9451      3.683    -19.804      0.000     -80.167     -65.723\n",
       "property_type_Apartment                 -6.0085      1.530     -3.927      0.000      -9.009      -3.008\n",
       "property_type_Bed & Breakfast           29.4781      6.086      4.844      0.000      17.545      41.411\n",
       "property_type_Camper/RV                -24.6734     12.063     -2.045      0.041     -48.326      -1.021\n",
       "property_type_Dorm                    -101.1212     26.023     -3.886      0.000    -152.144     -50.098\n",
       "intercept                               90.0498      2.801     32.150      0.000      84.558      95.542\n",
       "==============================================================================\n",
       "Omnibus:                      325.577   Durbin-Watson:                   1.974\n",
       "Prob(Omnibus):                  0.000   Jarque-Bera (JB):              519.473\n",
       "Skew:                           0.743   Prob(JB):                    1.58e-113\n",
       "Kurtosis:                       4.321   Cond. No.                         142.\n",
       "==============================================================================\n",
       "\n",
       "Notes:\n",
       "[1] Standard Errors assume that the covariance matrix of the errors is correctly specified.\n",
       "\"\"\""
      ]
     },
     "execution_count": 51,
     "metadata": {},
     "output_type": "execute_result"
    }
   ],
   "source": [
    "selected_by_pvalue=[x for x in results.pvalues[results.pvalues<0.05].index]\n",
    "subset_X=X[selected_by_pvalue]\n",
    "\n",
    "model2=sm.OLS(y,subset_X)\n",
    "\n",
    "results2=model2.fit()\n",
    "results2.summary()"
   ]
  },
  {
   "cell_type": "code",
   "execution_count": 54,
   "id": "liked-boutique",
   "metadata": {},
   "outputs": [
    {
     "data": {
      "text/html": [
       "<div>\n",
       "<style scoped>\n",
       "    .dataframe tbody tr th:only-of-type {\n",
       "        vertical-align: middle;\n",
       "    }\n",
       "\n",
       "    .dataframe tbody tr th {\n",
       "        vertical-align: top;\n",
       "    }\n",
       "\n",
       "    .dataframe thead th {\n",
       "        text-align: right;\n",
       "    }\n",
       "</style>\n",
       "<table border=\"1\" class=\"dataframe\">\n",
       "  <thead>\n",
       "    <tr style=\"text-align: right;\">\n",
       "      <th></th>\n",
       "      <th>VIF</th>\n",
       "    </tr>\n",
       "  </thead>\n",
       "  <tbody>\n",
       "    <tr>\n",
       "      <th>count</th>\n",
       "      <td>66.000000</td>\n",
       "    </tr>\n",
       "    <tr>\n",
       "      <th>mean</th>\n",
       "      <td>1.450646</td>\n",
       "    </tr>\n",
       "    <tr>\n",
       "      <th>std</th>\n",
       "      <td>2.542417</td>\n",
       "    </tr>\n",
       "    <tr>\n",
       "      <th>min</th>\n",
       "      <td>1.008603</td>\n",
       "    </tr>\n",
       "    <tr>\n",
       "      <th>25%</th>\n",
       "      <td>1.026249</td>\n",
       "    </tr>\n",
       "    <tr>\n",
       "      <th>50%</th>\n",
       "      <td>1.059221</td>\n",
       "    </tr>\n",
       "    <tr>\n",
       "      <th>75%</th>\n",
       "      <td>1.148437</td>\n",
       "    </tr>\n",
       "    <tr>\n",
       "      <th>max</th>\n",
       "      <td>21.706674</td>\n",
       "    </tr>\n",
       "  </tbody>\n",
       "</table>\n",
       "</div>"
      ],
      "text/plain": [
       "             VIF\n",
       "count  66.000000\n",
       "mean    1.450646\n",
       "std     2.542417\n",
       "min     1.008603\n",
       "25%     1.026249\n",
       "50%     1.059221\n",
       "75%     1.148437\n",
       "max    21.706674"
      ]
     },
     "execution_count": 54,
     "metadata": {},
     "output_type": "execute_result"
    }
   ],
   "source": [
    "vif_data = pd.DataFrame()\n",
    "vif_data[\"feature\"] = subset_X.columns\n",
    "  \n",
    "# calculating VIF for each feature\n",
    "vif_data[\"VIF\"] = [variance_inflation_factor(subset_X.values, i)\n",
    "                          for i in range(len(subset_X.columns))]\n",
    "  \n",
    "vif_data.describe()"
   ]
  },
  {
   "cell_type": "markdown",
   "id": "significant-floor",
   "metadata": {},
   "source": [
    "Our VIF analysis show no multicolinearity within the dataset and we went from 105 feature to 66. The r squared is 0.581"
   ]
  },
  {
   "cell_type": "markdown",
   "id": "indie-simon",
   "metadata": {},
   "source": [
    "# 7 Results"
   ]
  },
  {
   "cell_type": "code",
   "execution_count": 55,
   "id": "imposed-colombia",
   "metadata": {
    "scrolled": false
   },
   "outputs": [
    {
     "data": {
      "image/png": "[encoded data removed]",
      "text/plain": [
       "<Figure size 648x3600 with 1 Axes>"
      ]
     },
     "metadata": {
      "needs_background": "light"
     },
     "output_type": "display_data"
    }
   ],
   "source": [
    "df_ols=pd.DataFrame(results2.summary().tables[1].data)\n",
    "\n",
    "df_ols.set_index(df_ols.iloc[:,0]).iloc[1:105,1].astype(float).plot(kind='barh', figsize=(9, 50));"
   ]
  },
  {
   "cell_type": "code",
   "execution_count": 56,
   "id": "interested-cheese",
   "metadata": {},
   "outputs": [],
   "source": [
    "linreg_results_table=df_ols.set_index(df_ols.iloc[:,0])[[1]].reset_index().iloc[1:,:].reset_index().drop(columns='index')\n",
    "linreg_results_table.columns=['features','coef']\n",
    "linreg_results_table['coef']=linreg_results_table['coef'].astype(float)"
   ]
  },
  {
   "cell_type": "code",
   "execution_count": 57,
   "id": "smoking-supply",
   "metadata": {},
   "outputs": [
    {
     "data": {
      "text/html": [
       "<div>\n",
       "<style scoped>\n",
       "    .dataframe tbody tr th:only-of-type {\n",
       "        vertical-align: middle;\n",
       "    }\n",
       "\n",
       "    .dataframe tbody tr th {\n",
       "        vertical-align: top;\n",
       "    }\n",
       "\n",
       "    .dataframe thead th {\n",
       "        text-align: right;\n",
       "    }\n",
       "</style>\n",
       "<table border=\"1\" class=\"dataframe\">\n",
       "  <thead>\n",
       "    <tr style=\"text-align: right;\">\n",
       "      <th></th>\n",
       "      <th>features</th>\n",
       "      <th>coef</th>\n",
       "    </tr>\n",
       "  </thead>\n",
       "  <tbody>\n",
       "    <tr>\n",
       "      <th>3</th>\n",
       "      <td>guests_included</td>\n",
       "      <td>2.6972</td>\n",
       "    </tr>\n",
       "    <tr>\n",
       "      <th>2</th>\n",
       "      <td>beds</td>\n",
       "      <td>5.4371</td>\n",
       "    </tr>\n",
       "    <tr>\n",
       "      <th>0</th>\n",
       "      <td>bathrooms</td>\n",
       "      <td>8.0548</td>\n",
       "    </tr>\n",
       "    <tr>\n",
       "      <th>15</th>\n",
       "      <td>neighbourhood_First Hill</td>\n",
       "      <td>8.3046</td>\n",
       "    </tr>\n",
       "    <tr>\n",
       "      <th>27</th>\n",
       "      <td>neighbourhood_Lower Queen Anne</td>\n",
       "      <td>10.5955</td>\n",
       "    </tr>\n",
       "    <tr>\n",
       "      <th>6</th>\n",
       "      <td>neighbourhood_Belltown</td>\n",
       "      <td>10.6382</td>\n",
       "    </tr>\n",
       "    <tr>\n",
       "      <th>51</th>\n",
       "      <td>neighbourhood_South Lake Union</td>\n",
       "      <td>18.2688</td>\n",
       "    </tr>\n",
       "    <tr>\n",
       "      <th>41</th>\n",
       "      <td>neighbourhood_Pike Place Market</td>\n",
       "      <td>20.1197</td>\n",
       "    </tr>\n",
       "    <tr>\n",
       "      <th>1</th>\n",
       "      <td>bedrooms</td>\n",
       "      <td>24.9834</td>\n",
       "    </tr>\n",
       "    <tr>\n",
       "      <th>62</th>\n",
       "      <td>property_type_Bed &amp; Breakfast</td>\n",
       "      <td>29.4781</td>\n",
       "    </tr>\n",
       "    <tr>\n",
       "      <th>42</th>\n",
       "      <td>neighbourhood_Pioneer Square</td>\n",
       "      <td>38.2860</td>\n",
       "    </tr>\n",
       "    <tr>\n",
       "      <th>65</th>\n",
       "      <td>intercept</td>\n",
       "      <td>90.0498</td>\n",
       "    </tr>\n",
       "  </tbody>\n",
       "</table>\n",
       "</div>"
      ],
      "text/plain": [
       "                           features     coef\n",
       "3                   guests_included   2.6972\n",
       "2                              beds   5.4371\n",
       "0                         bathrooms   8.0548\n",
       "15         neighbourhood_First Hill   8.3046\n",
       "27   neighbourhood_Lower Queen Anne  10.5955\n",
       "6            neighbourhood_Belltown  10.6382\n",
       "51   neighbourhood_South Lake Union  18.2688\n",
       "41  neighbourhood_Pike Place Market  20.1197\n",
       "1                          bedrooms  24.9834\n",
       "62    property_type_Bed & Breakfast  29.4781\n",
       "42     neighbourhood_Pioneer Square  38.2860\n",
       "65                        intercept  90.0498"
      ]
     },
     "execution_count": 57,
     "metadata": {},
     "output_type": "execute_result"
    }
   ],
   "source": [
    "linreg_results_table[linreg_results_table['coef']>0].sort_values(by='coef')"
   ]
  },
  {
   "cell_type": "markdown",
   "id": "aquatic-excerpt",
   "metadata": {},
   "source": [
    "So how can we read this ? \n",
    "\n",
    "we can say that being pioneer square , given that all other factors are kept constant, we would get a price higher with 38.28 dolars that being in capitol hill.\n",
    "\n",
    "Propreties listed as bed & breakfast have a positive skew on price, aswell as the number of bedrooms, followed by bathrooms, beds and lastly guests number.\n"
   ]
  },
  {
   "cell_type": "code",
   "execution_count": 58,
   "id": "civic-calendar",
   "metadata": {},
   "outputs": [
    {
     "data": {
      "text/html": [
       "<div>\n",
       "<style scoped>\n",
       "    .dataframe tbody tr th:only-of-type {\n",
       "        vertical-align: middle;\n",
       "    }\n",
       "\n",
       "    .dataframe tbody tr th {\n",
       "        vertical-align: top;\n",
       "    }\n",
       "\n",
       "    .dataframe thead th {\n",
       "        text-align: right;\n",
       "    }\n",
       "</style>\n",
       "<table border=\"1\" class=\"dataframe\">\n",
       "  <thead>\n",
       "    <tr style=\"text-align: right;\">\n",
       "      <th></th>\n",
       "      <th>features</th>\n",
       "      <th>coef</th>\n",
       "    </tr>\n",
       "  </thead>\n",
       "  <tbody>\n",
       "    <tr>\n",
       "      <th>64</th>\n",
       "      <td>property_type_Dorm</td>\n",
       "      <td>-101.1212</td>\n",
       "    </tr>\n",
       "    <tr>\n",
       "      <th>52</th>\n",
       "      <td>neighbourhood_South Park</td>\n",
       "      <td>-85.1633</td>\n",
       "    </tr>\n",
       "    <tr>\n",
       "      <th>60</th>\n",
       "      <td>room_type_Shared room</td>\n",
       "      <td>-72.9451</td>\n",
       "    </tr>\n",
       "    <tr>\n",
       "      <th>50</th>\n",
       "      <td>neighbourhood_South Delridge</td>\n",
       "      <td>-54.8779</td>\n",
       "    </tr>\n",
       "    <tr>\n",
       "      <th>49</th>\n",
       "      <td>neighbourhood_South Beacon Hill</td>\n",
       "      <td>-52.2344</td>\n",
       "    </tr>\n",
       "    <tr>\n",
       "      <th>12</th>\n",
       "      <td>neighbourhood_Crown Hill</td>\n",
       "      <td>-50.1799</td>\n",
       "    </tr>\n",
       "    <tr>\n",
       "      <th>46</th>\n",
       "      <td>neighbourhood_Riverview</td>\n",
       "      <td>-49.1025</td>\n",
       "    </tr>\n",
       "    <tr>\n",
       "      <th>21</th>\n",
       "      <td>neighbourhood_Haller Lake</td>\n",
       "      <td>-46.3904</td>\n",
       "    </tr>\n",
       "    <tr>\n",
       "      <th>48</th>\n",
       "      <td>neighbourhood_Seward Park</td>\n",
       "      <td>-45.9896</td>\n",
       "    </tr>\n",
       "    <tr>\n",
       "      <th>38</th>\n",
       "      <td>neighbourhood_North Delridge</td>\n",
       "      <td>-43.9491</td>\n",
       "    </tr>\n",
       "    <tr>\n",
       "      <th>59</th>\n",
       "      <td>room_type_Private room</td>\n",
       "      <td>-38.8600</td>\n",
       "    </tr>\n",
       "    <tr>\n",
       "      <th>20</th>\n",
       "      <td>neighbourhood_Greenwood</td>\n",
       "      <td>-38.1237</td>\n",
       "    </tr>\n",
       "    <tr>\n",
       "      <th>45</th>\n",
       "      <td>neighbourhood_Ravenna</td>\n",
       "      <td>-36.9731</td>\n",
       "    </tr>\n",
       "    <tr>\n",
       "      <th>39</th>\n",
       "      <td>neighbourhood_Olympic Hills</td>\n",
       "      <td>-36.7052</td>\n",
       "    </tr>\n",
       "    <tr>\n",
       "      <th>30</th>\n",
       "      <td>neighbourhood_Maple Leaf</td>\n",
       "      <td>-36.6209</td>\n",
       "    </tr>\n",
       "    <tr>\n",
       "      <th>23</th>\n",
       "      <td>neighbourhood_Highland Park</td>\n",
       "      <td>-35.4620</td>\n",
       "    </tr>\n",
       "    <tr>\n",
       "      <th>8</th>\n",
       "      <td>neighbourhood_Broadview</td>\n",
       "      <td>-35.2110</td>\n",
       "    </tr>\n",
       "    <tr>\n",
       "      <th>11</th>\n",
       "      <td>neighbourhood_Columbia City</td>\n",
       "      <td>-33.8975</td>\n",
       "    </tr>\n",
       "    <tr>\n",
       "      <th>24</th>\n",
       "      <td>neighbourhood_Holly Park</td>\n",
       "      <td>-33.4027</td>\n",
       "    </tr>\n",
       "    <tr>\n",
       "      <th>44</th>\n",
       "      <td>neighbourhood_Rainier Beach</td>\n",
       "      <td>-33.2234</td>\n",
       "    </tr>\n",
       "    <tr>\n",
       "      <th>37</th>\n",
       "      <td>neighbourhood_North Beacon Hill</td>\n",
       "      <td>-32.3881</td>\n",
       "    </tr>\n",
       "    <tr>\n",
       "      <th>10</th>\n",
       "      <td>neighbourhood_Cedar Park</td>\n",
       "      <td>-32.3091</td>\n",
       "    </tr>\n",
       "    <tr>\n",
       "      <th>34</th>\n",
       "      <td>neighbourhood_Mount Baker</td>\n",
       "      <td>-31.8937</td>\n",
       "    </tr>\n",
       "    <tr>\n",
       "      <th>7</th>\n",
       "      <td>neighbourhood_Bitter Lake</td>\n",
       "      <td>-31.8825</td>\n",
       "    </tr>\n",
       "    <tr>\n",
       "      <th>22</th>\n",
       "      <td>neighbourhood_High Point</td>\n",
       "      <td>-31.2201</td>\n",
       "    </tr>\n",
       "    <tr>\n",
       "      <th>18</th>\n",
       "      <td>neighbourhood_Georgetown</td>\n",
       "      <td>-29.3591</td>\n",
       "    </tr>\n",
       "    <tr>\n",
       "      <th>9</th>\n",
       "      <td>neighbourhood_Bryant</td>\n",
       "      <td>-29.1621</td>\n",
       "    </tr>\n",
       "    <tr>\n",
       "      <th>13</th>\n",
       "      <td>neighbourhood_Dunlap</td>\n",
       "      <td>-28.6495</td>\n",
       "    </tr>\n",
       "    <tr>\n",
       "      <th>32</th>\n",
       "      <td>neighbourhood_Meadowbrook</td>\n",
       "      <td>-28.0534</td>\n",
       "    </tr>\n",
       "    <tr>\n",
       "      <th>55</th>\n",
       "      <td>neighbourhood_University District</td>\n",
       "      <td>-27.6580</td>\n",
       "    </tr>\n",
       "    <tr>\n",
       "      <th>56</th>\n",
       "      <td>neighbourhood_Victory Heights</td>\n",
       "      <td>-26.4683</td>\n",
       "    </tr>\n",
       "    <tr>\n",
       "      <th>40</th>\n",
       "      <td>neighbourhood_Phinney Ridge</td>\n",
       "      <td>-24.9279</td>\n",
       "    </tr>\n",
       "    <tr>\n",
       "      <th>36</th>\n",
       "      <td>neighbourhood_North Beach/Blue Ridge</td>\n",
       "      <td>-24.8027</td>\n",
       "    </tr>\n",
       "    <tr>\n",
       "      <th>25</th>\n",
       "      <td>neighbourhood_Leschi</td>\n",
       "      <td>-24.6751</td>\n",
       "    </tr>\n",
       "    <tr>\n",
       "      <th>63</th>\n",
       "      <td>property_type_Camper/RV</td>\n",
       "      <td>-24.6734</td>\n",
       "    </tr>\n",
       "    <tr>\n",
       "      <th>31</th>\n",
       "      <td>neighbourhood_Mathews Beach</td>\n",
       "      <td>-24.5160</td>\n",
       "    </tr>\n",
       "    <tr>\n",
       "      <th>5</th>\n",
       "      <td>neighbourhood_Ballard</td>\n",
       "      <td>-24.3545</td>\n",
       "    </tr>\n",
       "    <tr>\n",
       "      <th>26</th>\n",
       "      <td>neighbourhood_Licton Springs</td>\n",
       "      <td>-24.3542</td>\n",
       "    </tr>\n",
       "    <tr>\n",
       "      <th>47</th>\n",
       "      <td>neighbourhood_Roosevelt</td>\n",
       "      <td>-24.1584</td>\n",
       "    </tr>\n",
       "    <tr>\n",
       "      <th>54</th>\n",
       "      <td>neighbourhood_The Junction</td>\n",
       "      <td>-23.8891</td>\n",
       "    </tr>\n",
       "    <tr>\n",
       "      <th>17</th>\n",
       "      <td>neighbourhood_Genesee</td>\n",
       "      <td>-21.6168</td>\n",
       "    </tr>\n",
       "    <tr>\n",
       "      <th>4</th>\n",
       "      <td>neighbourhood_Atlantic</td>\n",
       "      <td>-21.6163</td>\n",
       "    </tr>\n",
       "    <tr>\n",
       "      <th>58</th>\n",
       "      <td>neighbourhood_Wedgewood</td>\n",
       "      <td>-21.4857</td>\n",
       "    </tr>\n",
       "    <tr>\n",
       "      <th>57</th>\n",
       "      <td>neighbourhood_Wallingford</td>\n",
       "      <td>-16.9345</td>\n",
       "    </tr>\n",
       "    <tr>\n",
       "      <th>19</th>\n",
       "      <td>neighbourhood_Green Lake</td>\n",
       "      <td>-15.6312</td>\n",
       "    </tr>\n",
       "    <tr>\n",
       "      <th>28</th>\n",
       "      <td>neighbourhood_Madrona</td>\n",
       "      <td>-15.5393</td>\n",
       "    </tr>\n",
       "    <tr>\n",
       "      <th>16</th>\n",
       "      <td>neighbourhood_Fremont</td>\n",
       "      <td>-15.4336</td>\n",
       "    </tr>\n",
       "    <tr>\n",
       "      <th>29</th>\n",
       "      <td>neighbourhood_Magnolia</td>\n",
       "      <td>-12.4343</td>\n",
       "    </tr>\n",
       "    <tr>\n",
       "      <th>33</th>\n",
       "      <td>neighbourhood_Minor</td>\n",
       "      <td>-12.2509</td>\n",
       "    </tr>\n",
       "    <tr>\n",
       "      <th>14</th>\n",
       "      <td>neighbourhood_Eastlake</td>\n",
       "      <td>-11.9900</td>\n",
       "    </tr>\n",
       "    <tr>\n",
       "      <th>35</th>\n",
       "      <td>neighbourhood_North Admiral</td>\n",
       "      <td>-11.2320</td>\n",
       "    </tr>\n",
       "    <tr>\n",
       "      <th>53</th>\n",
       "      <td>neighbourhood_Stevens</td>\n",
       "      <td>-9.8283</td>\n",
       "    </tr>\n",
       "    <tr>\n",
       "      <th>43</th>\n",
       "      <td>neighbourhood_Queen Anne</td>\n",
       "      <td>-7.7963</td>\n",
       "    </tr>\n",
       "    <tr>\n",
       "      <th>61</th>\n",
       "      <td>property_type_Apartment</td>\n",
       "      <td>-6.0085</td>\n",
       "    </tr>\n",
       "  </tbody>\n",
       "</table>\n",
       "</div>"
      ],
      "text/plain": [
       "                                features      coef\n",
       "64                    property_type_Dorm -101.1212\n",
       "52              neighbourhood_South Park  -85.1633\n",
       "60                 room_type_Shared room  -72.9451\n",
       "50          neighbourhood_South Delridge  -54.8779\n",
       "49       neighbourhood_South Beacon Hill  -52.2344\n",
       "12              neighbourhood_Crown Hill  -50.1799\n",
       "46               neighbourhood_Riverview  -49.1025\n",
       "21             neighbourhood_Haller Lake  -46.3904\n",
       "48             neighbourhood_Seward Park  -45.9896\n",
       "38          neighbourhood_North Delridge  -43.9491\n",
       "59                room_type_Private room  -38.8600\n",
       "20               neighbourhood_Greenwood  -38.1237\n",
       "45                 neighbourhood_Ravenna  -36.9731\n",
       "39           neighbourhood_Olympic Hills  -36.7052\n",
       "30              neighbourhood_Maple Leaf  -36.6209\n",
       "23           neighbourhood_Highland Park  -35.4620\n",
       "8                neighbourhood_Broadview  -35.2110\n",
       "11           neighbourhood_Columbia City  -33.8975\n",
       "24              neighbourhood_Holly Park  -33.4027\n",
       "44           neighbourhood_Rainier Beach  -33.2234\n",
       "37       neighbourhood_North Beacon Hill  -32.3881\n",
       "10              neighbourhood_Cedar Park  -32.3091\n",
       "34             neighbourhood_Mount Baker  -31.8937\n",
       "7              neighbourhood_Bitter Lake  -31.8825\n",
       "22              neighbourhood_High Point  -31.2201\n",
       "18              neighbourhood_Georgetown  -29.3591\n",
       "9                   neighbourhood_Bryant  -29.1621\n",
       "13                  neighbourhood_Dunlap  -28.6495\n",
       "32             neighbourhood_Meadowbrook  -28.0534\n",
       "55     neighbourhood_University District  -27.6580\n",
       "56         neighbourhood_Victory Heights  -26.4683\n",
       "40           neighbourhood_Phinney Ridge  -24.9279\n",
       "36  neighbourhood_North Beach/Blue Ridge  -24.8027\n",
       "25                  neighbourhood_Leschi  -24.6751\n",
       "63               property_type_Camper/RV  -24.6734\n",
       "31           neighbourhood_Mathews Beach  -24.5160\n",
       "5                  neighbourhood_Ballard  -24.3545\n",
       "26          neighbourhood_Licton Springs  -24.3542\n",
       "47               neighbourhood_Roosevelt  -24.1584\n",
       "54            neighbourhood_The Junction  -23.8891\n",
       "17                 neighbourhood_Genesee  -21.6168\n",
       "4                 neighbourhood_Atlantic  -21.6163\n",
       "58               neighbourhood_Wedgewood  -21.4857\n",
       "57             neighbourhood_Wallingford  -16.9345\n",
       "19              neighbourhood_Green Lake  -15.6312\n",
       "28                 neighbourhood_Madrona  -15.5393\n",
       "16                 neighbourhood_Fremont  -15.4336\n",
       "29                neighbourhood_Magnolia  -12.4343\n",
       "33                   neighbourhood_Minor  -12.2509\n",
       "14                neighbourhood_Eastlake  -11.9900\n",
       "35           neighbourhood_North Admiral  -11.2320\n",
       "53                 neighbourhood_Stevens   -9.8283\n",
       "43              neighbourhood_Queen Anne   -7.7963\n",
       "61               property_type_Apartment   -6.0085"
      ]
     },
     "execution_count": 58,
     "metadata": {},
     "output_type": "execute_result"
    }
   ],
   "source": [
    "linreg_results_table[linreg_results_table['coef']<0].sort_values(by='coef')"
   ]
  },
  {
   "cell_type": "markdown",
   "id": "cloudy-mainstream",
   "metadata": {},
   "source": [
    "It seems like listing a dorm or a house in South park are both very bad for the price, aswell as many other features and how they can be affecting price"
   ]
  },
  {
   "cell_type": "markdown",
   "id": "solar-timber",
   "metadata": {},
   "source": [
    "# 8 Deploy"
   ]
  },
  {
   "cell_type": "markdown",
   "id": "verbal-curve",
   "metadata": {},
   "source": [
    "You are the end user and you want a tool to compare your available choices. You can use this model to predict how the price might vary from one place to the other before even checking up on the lists\n",
    "\n",
    "You also can be a home owner and you want to estimate how much you should realisticly ask as a price. Pretty handy analysis ? "
   ]
  },
  {
   "cell_type": "markdown",
   "id": "tribal-cursor",
   "metadata": {},
   "source": [
    "![image info](https://revenue-hub.com/wp-content/uploads/2019/10/airbnb-france-paris-1024x568.jpg)"
   ]
  },
  {
   "cell_type": "code",
   "execution_count": null,
   "id": "progressive-gibraltar",
   "metadata": {},
   "outputs": [],
   "source": []
  },
  {
   "cell_type": "code",
   "execution_count": null,
   "id": "latest-marketplace",
   "metadata": {},
   "outputs": [],
   "source": []
  }
 ],
 "metadata": {
  "kernelspec": {
   "display_name": "Python 3",
   "language": "python",
   "name": "python3"
  },
  "language_info": {
   "codemirror_mode": {
    "name": "ipython",
    "version": 3
   },
   "file_extension": ".py",
   "mimetype": "text/x-python",
   "name": "python",
   "nbconvert_exporter": "python",
   "pygments_lexer": "ipython3",
   "version": "3.6.12"
  }
 },
 "nbformat": 4,
 "nbformat_minor": 5
}
