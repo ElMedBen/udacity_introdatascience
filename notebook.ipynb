{
 "cells": [
  {
   "cell_type": "markdown",
   "id": "inner-curtis",
   "metadata": {},
   "source": [
    "# Intro to datascience\n",
    "\n",
    "The purpose of this project is to apply the CRISP-DM process to study listings data. As a quick recap, CRISP-DM is based on 6 important points : \n",
    "\n",
    "* 1.Business Understanding\n",
    "* 2.Data Understanding\n",
    "* 3.Prepare Data\n",
    "* 4.Model Data\n",
    "* 5.Results\n",
    "* 6.Deploy\n",
    "\n",
    "We will try to evaluate the given data and to fill in each step of the CRISP-DM to practice our skills and to learn more about data science ."
   ]
  },
  {
   "cell_type": "code",
   "execution_count": 1,
   "id": "encouraging-fifth",
   "metadata": {},
   "outputs": [],
   "source": [
    "#importing relevant libraries that will be needed during this study\n",
    "\n",
    "import pandas as pd\n",
    "import numpy as np\n",
    "import matplotlib.pyplot as plt\n",
    "%matplotlib inline\n",
    "import seaborn as sb\n",
    "import math\n",
    "import statsmodels.api as sm;\n",
    "from statsmodels.stats.outliers_influence import variance_inflation_factor\n",
    "\n",
    "from scipy import stats\n",
    "\n",
    "from sklearn.linear_model import LinearRegression\n",
    "from sklearn.model_selection import train_test_split\n",
    "from sklearn.metrics import r2_score, mean_squared_error, mean_absolute_error\n"
   ]
  },
  {
   "cell_type": "markdown",
   "id": "incoming-twelve",
   "metadata": {},
   "source": [
    "# Business understanding"
   ]
  },
  {
   "cell_type": "markdown",
   "id": "accomplished-algebra",
   "metadata": {},
   "source": [
    "AirBnB stand for \"Air Bed and Breakfast\". It is an American company that operates an online marketplace for lodging, primarily homestays for vacation rentals, and tourism activities. Based in San Francisco, California, the platform is accessible via website and mobile app.\n",
    "\n",
    "\n",
    "![image info](https://upload.wikimedia.org/wikipedia/commons/thumb/6/69/Airbnb_Logo_B%C3%A9lo.svg/1024px-Airbnb_Logo_B%C3%A9lo.svg.png)\n",
    "\n",
    "\n",
    "Airbnb provides a platform for hosts to accommodate guests with short-term lodging and tourism-related activities. Guests can search for lodging using filters such as lodging type, dates, location, and price, and can search for specific types of homes, such as bed and breakfasts, unique homes, and vacation homes. [wikipedia](https://en.wikipedia.org/wiki/Airbnb#Overview)\n",
    "\n",
    "The provided services always equates to tones of data gathered during evry process of booking a listed place. The created dataset contains data related to pricings, locations, reviews, amenities details ....\n",
    "\n",
    "**Our objective in this study is simple, build a model based on the listings caracteristics to evaluate the price. We can think of caracteristics like number of bedroms, bathroms, neightborhood ...**"
   ]
  },
  {
   "cell_type": "markdown",
   "id": "original-arnold",
   "metadata": {},
   "source": [
    "# Data Understanding"
   ]
  },
  {
   "cell_type": "markdown",
   "id": "literary-landscape",
   "metadata": {},
   "source": [
    "## Description \n",
    "\n",
    "The data that will be studied is related to seatle.\n",
    "\n",
    "Since 2008, guests and hosts have used Airbnb to travel in a more unique, personalized way. As part of the Airbnb Inside initiative, this dataset describes the listing activity of homestays in Seattle, WA.\n",
    "\n",
    "The following Airbnb activity is included in this Seattle dataset:\n",
    "* **Listings, including full descriptions and average review score**\n",
    "* **Reviews, including unique id for each reviewer and detailed comments**\n",
    "* **Calendar, including listing id and the price and availability for that day**\n",
    "\n",
    "This dataset is part of Airbnb Inside, and the original source can be found [here](http://insideairbnb.com/get-the-data.html)."
   ]
  },
  {
   "cell_type": "markdown",
   "id": "filled-motivation",
   "metadata": {},
   "source": [
    "## Assessment : listings\n"
   ]
  },
  {
   "cell_type": "code",
   "execution_count": 2,
   "id": "dietary-season",
   "metadata": {},
   "outputs": [],
   "source": [
    "#data importing\n",
    "listings=pd.read_csv('listings.csv')"
   ]
  },
  {
   "cell_type": "code",
   "execution_count": 3,
   "id": "curious-notion",
   "metadata": {},
   "outputs": [
    {
     "data": {
      "text/html": [
       "<div>\n",
       "<style scoped>\n",
       "    .dataframe tbody tr th:only-of-type {\n",
       "        vertical-align: middle;\n",
       "    }\n",
       "\n",
       "    .dataframe tbody tr th {\n",
       "        vertical-align: top;\n",
       "    }\n",
       "\n",
       "    .dataframe thead th {\n",
       "        text-align: right;\n",
       "    }\n",
       "</style>\n",
       "<table border=\"1\" class=\"dataframe\">\n",
       "  <thead>\n",
       "    <tr style=\"text-align: right;\">\n",
       "      <th></th>\n",
       "      <th>id</th>\n",
       "      <th>listing_url</th>\n",
       "      <th>scrape_id</th>\n",
       "      <th>last_scraped</th>\n",
       "      <th>name</th>\n",
       "      <th>summary</th>\n",
       "      <th>space</th>\n",
       "      <th>description</th>\n",
       "      <th>experiences_offered</th>\n",
       "      <th>neighborhood_overview</th>\n",
       "      <th>...</th>\n",
       "      <th>review_scores_value</th>\n",
       "      <th>requires_license</th>\n",
       "      <th>license</th>\n",
       "      <th>jurisdiction_names</th>\n",
       "      <th>instant_bookable</th>\n",
       "      <th>cancellation_policy</th>\n",
       "      <th>require_guest_profile_picture</th>\n",
       "      <th>require_guest_phone_verification</th>\n",
       "      <th>calculated_host_listings_count</th>\n",
       "      <th>reviews_per_month</th>\n",
       "    </tr>\n",
       "  </thead>\n",
       "  <tbody>\n",
       "    <tr>\n",
       "      <th>0</th>\n",
       "      <td>241032</td>\n",
       "      <td>https://www.airbnb.com/rooms/241032</td>\n",
       "      <td>20160104002432</td>\n",
       "      <td>2016-01-04</td>\n",
       "      <td>Stylish Queen Anne Apartment</td>\n",
       "      <td>NaN</td>\n",
       "      <td>Make your self at home in this charming one-be...</td>\n",
       "      <td>Make your self at home in this charming one-be...</td>\n",
       "      <td>none</td>\n",
       "      <td>NaN</td>\n",
       "      <td>...</td>\n",
       "      <td>10.0</td>\n",
       "      <td>f</td>\n",
       "      <td>NaN</td>\n",
       "      <td>WASHINGTON</td>\n",
       "      <td>f</td>\n",
       "      <td>moderate</td>\n",
       "      <td>f</td>\n",
       "      <td>f</td>\n",
       "      <td>2</td>\n",
       "      <td>4.07</td>\n",
       "    </tr>\n",
       "    <tr>\n",
       "      <th>1</th>\n",
       "      <td>953595</td>\n",
       "      <td>https://www.airbnb.com/rooms/953595</td>\n",
       "      <td>20160104002432</td>\n",
       "      <td>2016-01-04</td>\n",
       "      <td>Bright &amp; Airy Queen Anne Apartment</td>\n",
       "      <td>Chemically sensitive? We've removed the irrita...</td>\n",
       "      <td>Beautiful, hypoallergenic apartment in an extr...</td>\n",
       "      <td>Chemically sensitive? We've removed the irrita...</td>\n",
       "      <td>none</td>\n",
       "      <td>Queen Anne is a wonderful, truly functional vi...</td>\n",
       "      <td>...</td>\n",
       "      <td>10.0</td>\n",
       "      <td>f</td>\n",
       "      <td>NaN</td>\n",
       "      <td>WASHINGTON</td>\n",
       "      <td>f</td>\n",
       "      <td>strict</td>\n",
       "      <td>t</td>\n",
       "      <td>t</td>\n",
       "      <td>6</td>\n",
       "      <td>1.48</td>\n",
       "    </tr>\n",
       "    <tr>\n",
       "      <th>2</th>\n",
       "      <td>3308979</td>\n",
       "      <td>https://www.airbnb.com/rooms/3308979</td>\n",
       "      <td>20160104002432</td>\n",
       "      <td>2016-01-04</td>\n",
       "      <td>New Modern House-Amazing water view</td>\n",
       "      <td>New modern house built in 2013.  Spectacular s...</td>\n",
       "      <td>Our house is modern, light and fresh with a wa...</td>\n",
       "      <td>New modern house built in 2013.  Spectacular s...</td>\n",
       "      <td>none</td>\n",
       "      <td>Upper Queen Anne is a charming neighborhood fu...</td>\n",
       "      <td>...</td>\n",
       "      <td>10.0</td>\n",
       "      <td>f</td>\n",
       "      <td>NaN</td>\n",
       "      <td>WASHINGTON</td>\n",
       "      <td>f</td>\n",
       "      <td>strict</td>\n",
       "      <td>f</td>\n",
       "      <td>f</td>\n",
       "      <td>2</td>\n",
       "      <td>1.15</td>\n",
       "    </tr>\n",
       "    <tr>\n",
       "      <th>3</th>\n",
       "      <td>7421966</td>\n",
       "      <td>https://www.airbnb.com/rooms/7421966</td>\n",
       "      <td>20160104002432</td>\n",
       "      <td>2016-01-04</td>\n",
       "      <td>Queen Anne Chateau</td>\n",
       "      <td>A charming apartment that sits atop Queen Anne...</td>\n",
       "      <td>NaN</td>\n",
       "      <td>A charming apartment that sits atop Queen Anne...</td>\n",
       "      <td>none</td>\n",
       "      <td>NaN</td>\n",
       "      <td>...</td>\n",
       "      <td>NaN</td>\n",
       "      <td>f</td>\n",
       "      <td>NaN</td>\n",
       "      <td>WASHINGTON</td>\n",
       "      <td>f</td>\n",
       "      <td>flexible</td>\n",
       "      <td>f</td>\n",
       "      <td>f</td>\n",
       "      <td>1</td>\n",
       "      <td>NaN</td>\n",
       "    </tr>\n",
       "    <tr>\n",
       "      <th>4</th>\n",
       "      <td>278830</td>\n",
       "      <td>https://www.airbnb.com/rooms/278830</td>\n",
       "      <td>20160104002432</td>\n",
       "      <td>2016-01-04</td>\n",
       "      <td>Charming craftsman 3 bdm house</td>\n",
       "      <td>Cozy family craftman house in beautiful neighb...</td>\n",
       "      <td>Cozy family craftman house in beautiful neighb...</td>\n",
       "      <td>Cozy family craftman house in beautiful neighb...</td>\n",
       "      <td>none</td>\n",
       "      <td>We are in the beautiful neighborhood of Queen ...</td>\n",
       "      <td>...</td>\n",
       "      <td>9.0</td>\n",
       "      <td>f</td>\n",
       "      <td>NaN</td>\n",
       "      <td>WASHINGTON</td>\n",
       "      <td>f</td>\n",
       "      <td>strict</td>\n",
       "      <td>f</td>\n",
       "      <td>f</td>\n",
       "      <td>1</td>\n",
       "      <td>0.89</td>\n",
       "    </tr>\n",
       "  </tbody>\n",
       "</table>\n",
       "<p>5 rows × 92 columns</p>\n",
       "</div>"
      ],
      "text/plain": [
       "        id                           listing_url       scrape_id last_scraped  \\\n",
       "0   241032   https://www.airbnb.com/rooms/241032  20160104002432   2016-01-04   \n",
       "1   953595   https://www.airbnb.com/rooms/953595  20160104002432   2016-01-04   \n",
       "2  3308979  https://www.airbnb.com/rooms/3308979  20160104002432   2016-01-04   \n",
       "3  7421966  https://www.airbnb.com/rooms/7421966  20160104002432   2016-01-04   \n",
       "4   278830   https://www.airbnb.com/rooms/278830  20160104002432   2016-01-04   \n",
       "\n",
       "                                  name  \\\n",
       "0         Stylish Queen Anne Apartment   \n",
       "1   Bright & Airy Queen Anne Apartment   \n",
       "2  New Modern House-Amazing water view   \n",
       "3                   Queen Anne Chateau   \n",
       "4       Charming craftsman 3 bdm house   \n",
       "\n",
       "                                             summary  \\\n",
       "0                                                NaN   \n",
       "1  Chemically sensitive? We've removed the irrita...   \n",
       "2  New modern house built in 2013.  Spectacular s...   \n",
       "3  A charming apartment that sits atop Queen Anne...   \n",
       "4  Cozy family craftman house in beautiful neighb...   \n",
       "\n",
       "                                               space  \\\n",
       "0  Make your self at home in this charming one-be...   \n",
       "1  Beautiful, hypoallergenic apartment in an extr...   \n",
       "2  Our house is modern, light and fresh with a wa...   \n",
       "3                                                NaN   \n",
       "4  Cozy family craftman house in beautiful neighb...   \n",
       "\n",
       "                                         description experiences_offered  \\\n",
       "0  Make your self at home in this charming one-be...                none   \n",
       "1  Chemically sensitive? We've removed the irrita...                none   \n",
       "2  New modern house built in 2013.  Spectacular s...                none   \n",
       "3  A charming apartment that sits atop Queen Anne...                none   \n",
       "4  Cozy family craftman house in beautiful neighb...                none   \n",
       "\n",
       "                               neighborhood_overview  ... review_scores_value  \\\n",
       "0                                                NaN  ...                10.0   \n",
       "1  Queen Anne is a wonderful, truly functional vi...  ...                10.0   \n",
       "2  Upper Queen Anne is a charming neighborhood fu...  ...                10.0   \n",
       "3                                                NaN  ...                 NaN   \n",
       "4  We are in the beautiful neighborhood of Queen ...  ...                 9.0   \n",
       "\n",
       "  requires_license license jurisdiction_names instant_bookable  \\\n",
       "0                f     NaN         WASHINGTON                f   \n",
       "1                f     NaN         WASHINGTON                f   \n",
       "2                f     NaN         WASHINGTON                f   \n",
       "3                f     NaN         WASHINGTON                f   \n",
       "4                f     NaN         WASHINGTON                f   \n",
       "\n",
       "  cancellation_policy  require_guest_profile_picture  \\\n",
       "0            moderate                              f   \n",
       "1              strict                              t   \n",
       "2              strict                              f   \n",
       "3            flexible                              f   \n",
       "4              strict                              f   \n",
       "\n",
       "  require_guest_phone_verification calculated_host_listings_count  \\\n",
       "0                                f                              2   \n",
       "1                                t                              6   \n",
       "2                                f                              2   \n",
       "3                                f                              1   \n",
       "4                                f                              1   \n",
       "\n",
       "  reviews_per_month  \n",
       "0              4.07  \n",
       "1              1.48  \n",
       "2              1.15  \n",
       "3               NaN  \n",
       "4              0.89  \n",
       "\n",
       "[5 rows x 92 columns]"
      ]
     },
     "execution_count": 3,
     "metadata": {},
     "output_type": "execute_result"
    }
   ],
   "source": [
    "#lets check the first lines of the table\n",
    "\n",
    "listings.head()"
   ]
  },
  {
   "cell_type": "markdown",
   "id": "legislative-frost",
   "metadata": {},
   "source": [
    "The table contains 92 columns and we already can see that they all contain different types of data , randing from links, timestamps, dates, numerical values and plain text . Lets use the info method.."
   ]
  },
  {
   "cell_type": "code",
   "execution_count": 4,
   "id": "corporate-variable",
   "metadata": {},
   "outputs": [
    {
     "name": "stdout",
     "output_type": "stream",
     "text": [
      "<class 'pandas.core.frame.DataFrame'>\n",
      "RangeIndex: 3818 entries, 0 to 3817\n",
      "Data columns (total 92 columns):\n",
      " #   Column                            Non-Null Count  Dtype  \n",
      "---  ------                            --------------  -----  \n",
      " 0   id                                3818 non-null   int64  \n",
      " 1   listing_url                       3818 non-null   object \n",
      " 2   scrape_id                         3818 non-null   int64  \n",
      " 3   last_scraped                      3818 non-null   object \n",
      " 4   name                              3818 non-null   object \n",
      " 5   summary                           3641 non-null   object \n",
      " 6   space                             3249 non-null   object \n",
      " 7   description                       3818 non-null   object \n",
      " 8   experiences_offered               3818 non-null   object \n",
      " 9   neighborhood_overview             2786 non-null   object \n",
      " 10  notes                             2212 non-null   object \n",
      " 11  transit                           2884 non-null   object \n",
      " 12  thumbnail_url                     3498 non-null   object \n",
      " 13  medium_url                        3498 non-null   object \n",
      " 14  picture_url                       3818 non-null   object \n",
      " 15  xl_picture_url                    3498 non-null   object \n",
      " 16  host_id                           3818 non-null   int64  \n",
      " 17  host_url                          3818 non-null   object \n",
      " 18  host_name                         3816 non-null   object \n",
      " 19  host_since                        3816 non-null   object \n",
      " 20  host_location                     3810 non-null   object \n",
      " 21  host_about                        2959 non-null   object \n",
      " 22  host_response_time                3295 non-null   object \n",
      " 23  host_response_rate                3295 non-null   object \n",
      " 24  host_acceptance_rate              3045 non-null   object \n",
      " 25  host_is_superhost                 3816 non-null   object \n",
      " 26  host_thumbnail_url                3816 non-null   object \n",
      " 27  host_picture_url                  3816 non-null   object \n",
      " 28  host_neighbourhood                3518 non-null   object \n",
      " 29  host_listings_count               3816 non-null   float64\n",
      " 30  host_total_listings_count         3816 non-null   float64\n",
      " 31  host_verifications                3818 non-null   object \n",
      " 32  host_has_profile_pic              3816 non-null   object \n",
      " 33  host_identity_verified            3816 non-null   object \n",
      " 34  street                            3818 non-null   object \n",
      " 35  neighbourhood                     3402 non-null   object \n",
      " 36  neighbourhood_cleansed            3818 non-null   object \n",
      " 37  neighbourhood_group_cleansed      3818 non-null   object \n",
      " 38  city                              3818 non-null   object \n",
      " 39  state                             3818 non-null   object \n",
      " 40  zipcode                           3811 non-null   object \n",
      " 41  market                            3818 non-null   object \n",
      " 42  smart_location                    3818 non-null   object \n",
      " 43  country_code                      3818 non-null   object \n",
      " 44  country                           3818 non-null   object \n",
      " 45  latitude                          3818 non-null   float64\n",
      " 46  longitude                         3818 non-null   float64\n",
      " 47  is_location_exact                 3818 non-null   object \n",
      " 48  property_type                     3817 non-null   object \n",
      " 49  room_type                         3818 non-null   object \n",
      " 50  accommodates                      3818 non-null   int64  \n",
      " 51  bathrooms                         3802 non-null   float64\n",
      " 52  bedrooms                          3812 non-null   float64\n",
      " 53  beds                              3817 non-null   float64\n",
      " 54  bed_type                          3818 non-null   object \n",
      " 55  amenities                         3818 non-null   object \n",
      " 56  square_feet                       97 non-null     float64\n",
      " 57  price                             3818 non-null   object \n",
      " 58  weekly_price                      2009 non-null   object \n",
      " 59  monthly_price                     1517 non-null   object \n",
      " 60  security_deposit                  1866 non-null   object \n",
      " 61  cleaning_fee                      2788 non-null   object \n",
      " 62  guests_included                   3818 non-null   int64  \n",
      " 63  extra_people                      3818 non-null   object \n",
      " 64  minimum_nights                    3818 non-null   int64  \n",
      " 65  maximum_nights                    3818 non-null   int64  \n",
      " 66  calendar_updated                  3818 non-null   object \n",
      " 67  has_availability                  3818 non-null   object \n",
      " 68  availability_30                   3818 non-null   int64  \n",
      " 69  availability_60                   3818 non-null   int64  \n",
      " 70  availability_90                   3818 non-null   int64  \n",
      " 71  availability_365                  3818 non-null   int64  \n",
      " 72  calendar_last_scraped             3818 non-null   object \n",
      " 73  number_of_reviews                 3818 non-null   int64  \n",
      " 74  first_review                      3191 non-null   object \n",
      " 75  last_review                       3191 non-null   object \n",
      " 76  review_scores_rating              3171 non-null   float64\n",
      " 77  review_scores_accuracy            3160 non-null   float64\n",
      " 78  review_scores_cleanliness         3165 non-null   float64\n",
      " 79  review_scores_checkin             3160 non-null   float64\n",
      " 80  review_scores_communication       3167 non-null   float64\n",
      " 81  review_scores_location            3163 non-null   float64\n",
      " 82  review_scores_value               3162 non-null   float64\n",
      " 83  requires_license                  3818 non-null   object \n",
      " 84  license                           0 non-null      float64\n",
      " 85  jurisdiction_names                3818 non-null   object \n",
      " 86  instant_bookable                  3818 non-null   object \n",
      " 87  cancellation_policy               3818 non-null   object \n",
      " 88  require_guest_profile_picture     3818 non-null   object \n",
      " 89  require_guest_phone_verification  3818 non-null   object \n",
      " 90  calculated_host_listings_count    3818 non-null   int64  \n",
      " 91  reviews_per_month                 3191 non-null   float64\n",
      "dtypes: float64(17), int64(13), object(62)\n",
      "memory usage: 2.7+ MB\n"
     ]
    }
   ],
   "source": [
    "#info method on df \n",
    "\n",
    "listings.info()"
   ]
  },
  {
   "cell_type": "markdown",
   "id": "after-folder",
   "metadata": {},
   "source": [
    "92 columns and 3818 entries. We have foalt , int and object types and several columns apear to contain nulls"
   ]
  },
  {
   "cell_type": "markdown",
   "id": "stuck-spain",
   "metadata": {},
   "source": [
    "## Assessment : calendar\n"
   ]
  },
  {
   "cell_type": "code",
   "execution_count": 5,
   "id": "minor-charge",
   "metadata": {},
   "outputs": [],
   "source": [
    "#importing calendar data\n",
    "calendar=pd.read_csv('calendar.csv')"
   ]
  },
  {
   "cell_type": "code",
   "execution_count": 6,
   "id": "necessary-bracelet",
   "metadata": {},
   "outputs": [
    {
     "data": {
      "text/html": [
       "<div>\n",
       "<style scoped>\n",
       "    .dataframe tbody tr th:only-of-type {\n",
       "        vertical-align: middle;\n",
       "    }\n",
       "\n",
       "    .dataframe tbody tr th {\n",
       "        vertical-align: top;\n",
       "    }\n",
       "\n",
       "    .dataframe thead th {\n",
       "        text-align: right;\n",
       "    }\n",
       "</style>\n",
       "<table border=\"1\" class=\"dataframe\">\n",
       "  <thead>\n",
       "    <tr style=\"text-align: right;\">\n",
       "      <th></th>\n",
       "      <th>listing_id</th>\n",
       "      <th>date</th>\n",
       "      <th>available</th>\n",
       "      <th>price</th>\n",
       "    </tr>\n",
       "  </thead>\n",
       "  <tbody>\n",
       "    <tr>\n",
       "      <th>0</th>\n",
       "      <td>241032</td>\n",
       "      <td>2016-01-04</td>\n",
       "      <td>t</td>\n",
       "      <td>$85.00</td>\n",
       "    </tr>\n",
       "    <tr>\n",
       "      <th>1</th>\n",
       "      <td>241032</td>\n",
       "      <td>2016-01-05</td>\n",
       "      <td>t</td>\n",
       "      <td>$85.00</td>\n",
       "    </tr>\n",
       "    <tr>\n",
       "      <th>2</th>\n",
       "      <td>241032</td>\n",
       "      <td>2016-01-06</td>\n",
       "      <td>f</td>\n",
       "      <td>NaN</td>\n",
       "    </tr>\n",
       "    <tr>\n",
       "      <th>3</th>\n",
       "      <td>241032</td>\n",
       "      <td>2016-01-07</td>\n",
       "      <td>f</td>\n",
       "      <td>NaN</td>\n",
       "    </tr>\n",
       "    <tr>\n",
       "      <th>4</th>\n",
       "      <td>241032</td>\n",
       "      <td>2016-01-08</td>\n",
       "      <td>f</td>\n",
       "      <td>NaN</td>\n",
       "    </tr>\n",
       "  </tbody>\n",
       "</table>\n",
       "</div>"
      ],
      "text/plain": [
       "   listing_id        date available   price\n",
       "0      241032  2016-01-04         t  $85.00\n",
       "1      241032  2016-01-05         t  $85.00\n",
       "2      241032  2016-01-06         f     NaN\n",
       "3      241032  2016-01-07         f     NaN\n",
       "4      241032  2016-01-08         f     NaN"
      ]
     },
     "execution_count": 6,
     "metadata": {},
     "output_type": "execute_result"
    }
   ],
   "source": [
    "#checking the calendar dataframe using head\n",
    "calendar.head()"
   ]
  },
  {
   "cell_type": "markdown",
   "id": "proof-exposure",
   "metadata": {},
   "source": [
    "Visibly, the table contains only 4 columns. date column contains date formated values.\n",
    "\n",
    "In term of the table's content, we can see that calendar dataframe decribe for each listing , the availability, the price if available and the date of listing"
   ]
  },
  {
   "cell_type": "code",
   "execution_count": 7,
   "id": "happy-stable",
   "metadata": {},
   "outputs": [
    {
     "name": "stdout",
     "output_type": "stream",
     "text": [
      "<class 'pandas.core.frame.DataFrame'>\n",
      "RangeIndex: 1393570 entries, 0 to 1393569\n",
      "Data columns (total 4 columns):\n",
      " #   Column      Non-Null Count    Dtype \n",
      "---  ------      --------------    ----- \n",
      " 0   listing_id  1393570 non-null  int64 \n",
      " 1   date        1393570 non-null  object\n",
      " 2   available   1393570 non-null  object\n",
      " 3   price       934542 non-null   object\n",
      "dtypes: int64(1), object(3)\n",
      "memory usage: 42.5+ MB\n"
     ]
    }
   ],
   "source": [
    "#geting more info from the dataframe using info\n",
    "calendar.info()"
   ]
  },
  {
   "cell_type": "markdown",
   "id": "tested-western",
   "metadata": {},
   "source": [
    "We have a total of 1393570 entriers . Price column contains null values and only the listing_id column is numerical type , while the others are all object type"
   ]
  },
  {
   "cell_type": "markdown",
   "id": "aquatic-animal",
   "metadata": {},
   "source": [
    "## Assessment : reviews\n"
   ]
  },
  {
   "cell_type": "code",
   "execution_count": 8,
   "id": "senior-broad",
   "metadata": {},
   "outputs": [],
   "source": [
    "#importing calendar data\n",
    "reviews=pd.read_csv('reviews.csv')"
   ]
  },
  {
   "cell_type": "code",
   "execution_count": 9,
   "id": "floppy-muslim",
   "metadata": {},
   "outputs": [
    {
     "data": {
      "text/html": [
       "<div>\n",
       "<style scoped>\n",
       "    .dataframe tbody tr th:only-of-type {\n",
       "        vertical-align: middle;\n",
       "    }\n",
       "\n",
       "    .dataframe tbody tr th {\n",
       "        vertical-align: top;\n",
       "    }\n",
       "\n",
       "    .dataframe thead th {\n",
       "        text-align: right;\n",
       "    }\n",
       "</style>\n",
       "<table border=\"1\" class=\"dataframe\">\n",
       "  <thead>\n",
       "    <tr style=\"text-align: right;\">\n",
       "      <th></th>\n",
       "      <th>listing_id</th>\n",
       "      <th>id</th>\n",
       "      <th>date</th>\n",
       "      <th>reviewer_id</th>\n",
       "      <th>reviewer_name</th>\n",
       "      <th>comments</th>\n",
       "    </tr>\n",
       "  </thead>\n",
       "  <tbody>\n",
       "    <tr>\n",
       "      <th>0</th>\n",
       "      <td>7202016</td>\n",
       "      <td>38917982</td>\n",
       "      <td>2015-07-19</td>\n",
       "      <td>28943674</td>\n",
       "      <td>Bianca</td>\n",
       "      <td>Cute and cozy place. Perfect location to every...</td>\n",
       "    </tr>\n",
       "    <tr>\n",
       "      <th>1</th>\n",
       "      <td>7202016</td>\n",
       "      <td>39087409</td>\n",
       "      <td>2015-07-20</td>\n",
       "      <td>32440555</td>\n",
       "      <td>Frank</td>\n",
       "      <td>Kelly has a great room in a very central locat...</td>\n",
       "    </tr>\n",
       "    <tr>\n",
       "      <th>2</th>\n",
       "      <td>7202016</td>\n",
       "      <td>39820030</td>\n",
       "      <td>2015-07-26</td>\n",
       "      <td>37722850</td>\n",
       "      <td>Ian</td>\n",
       "      <td>Very spacious apartment, and in a great neighb...</td>\n",
       "    </tr>\n",
       "    <tr>\n",
       "      <th>3</th>\n",
       "      <td>7202016</td>\n",
       "      <td>40813543</td>\n",
       "      <td>2015-08-02</td>\n",
       "      <td>33671805</td>\n",
       "      <td>George</td>\n",
       "      <td>Close to Seattle Center and all it has to offe...</td>\n",
       "    </tr>\n",
       "    <tr>\n",
       "      <th>4</th>\n",
       "      <td>7202016</td>\n",
       "      <td>41986501</td>\n",
       "      <td>2015-08-10</td>\n",
       "      <td>34959538</td>\n",
       "      <td>Ming</td>\n",
       "      <td>Kelly was a great host and very accommodating ...</td>\n",
       "    </tr>\n",
       "  </tbody>\n",
       "</table>\n",
       "</div>"
      ],
      "text/plain": [
       "   listing_id        id        date  reviewer_id reviewer_name  \\\n",
       "0     7202016  38917982  2015-07-19     28943674        Bianca   \n",
       "1     7202016  39087409  2015-07-20     32440555         Frank   \n",
       "2     7202016  39820030  2015-07-26     37722850           Ian   \n",
       "3     7202016  40813543  2015-08-02     33671805        George   \n",
       "4     7202016  41986501  2015-08-10     34959538          Ming   \n",
       "\n",
       "                                            comments  \n",
       "0  Cute and cozy place. Perfect location to every...  \n",
       "1  Kelly has a great room in a very central locat...  \n",
       "2  Very spacious apartment, and in a great neighb...  \n",
       "3  Close to Seattle Center and all it has to offe...  \n",
       "4  Kelly was a great host and very accommodating ...  "
      ]
     },
     "execution_count": 9,
     "metadata": {},
     "output_type": "execute_result"
    }
   ],
   "source": [
    "#checking the calendar dataframe using head\n",
    "reviews.head()"
   ]
  },
  {
   "cell_type": "markdown",
   "id": "prescription-fashion",
   "metadata": {},
   "source": [
    "Visibly, the table contains 6 column. \n",
    "\n",
    "In term of content, we can see that the reviews table contains a listing_id that can be used to join data with calendar dataframe, a specific id for each review, the date of review, in addotion the reviewers'id, name and comments"
   ]
  },
  {
   "cell_type": "code",
   "execution_count": 10,
   "id": "fourth-interference",
   "metadata": {},
   "outputs": [
    {
     "name": "stdout",
     "output_type": "stream",
     "text": [
      "<class 'pandas.core.frame.DataFrame'>\n",
      "RangeIndex: 84849 entries, 0 to 84848\n",
      "Data columns (total 6 columns):\n",
      " #   Column         Non-Null Count  Dtype \n",
      "---  ------         --------------  ----- \n",
      " 0   listing_id     84849 non-null  int64 \n",
      " 1   id             84849 non-null  int64 \n",
      " 2   date           84849 non-null  object\n",
      " 3   reviewer_id    84849 non-null  int64 \n",
      " 4   reviewer_name  84849 non-null  object\n",
      " 5   comments       84831 non-null  object\n",
      "dtypes: int64(3), object(3)\n",
      "memory usage: 3.9+ MB\n"
     ]
    }
   ],
   "source": [
    "#geting more info from the dataframe using info\n",
    "reviews.info()"
   ]
  },
  {
   "cell_type": "markdown",
   "id": "respiratory-rental",
   "metadata": {},
   "source": [
    "We have a total of 84849 entriers .only the comments column contain nulls. We have also a total of 3 numerical type column and 3 counted as object type"
   ]
  },
  {
   "cell_type": "markdown",
   "id": "divine-hierarchy",
   "metadata": {},
   "source": [
    "# Data Preparation"
   ]
  },
  {
   "cell_type": "markdown",
   "id": "interstate-denver",
   "metadata": {},
   "source": [
    "Data preparation is mostly about fixing the issues, cleaning, tidying untidy data and select relevent data that will be key for modeling and deploying steps.\n",
    "\n",
    "The preliminary assessement helped to get closer to the data and to evaluate the errors within the dataset\n",
    "\n",
    "NOW, we will proceed by following these steps :\n",
    "\n",
    "* **Select relevent data from each dataframe**\n",
    "* **define quality issues within dataset**\n",
    "* **Correct the issues by using a Clean/test methodology**\n",
    "* **EDA on cleaned data to further study the content for feature engineering**\n",
    "* **Feature engineering**\n",
    "* **Output the final clean dataset that will be studying in the next section**"
   ]
  },
  {
   "cell_type": "markdown",
   "id": "technological-affiliate",
   "metadata": {},
   "source": [
    "## 1 Select relevent data from each dataframe"
   ]
  },
  {
   "cell_type": "markdown",
   "id": "threatened-focus",
   "metadata": {},
   "source": [
    "Since our study focus mainly on pricing modeling using listings's caracteristics. All of these infos can be found in the listing table to we will be focusing on that for the current study"
   ]
  },
  {
   "cell_type": "code",
   "execution_count": 11,
   "id": "needed-comment",
   "metadata": {},
   "outputs": [],
   "source": [
    "select_cols=['bathrooms','bedrooms','beds','guests_included','price','property_type','room_type','bed_type','neighbourhood']"
   ]
  },
  {
   "cell_type": "code",
   "execution_count": 12,
   "id": "billion-speaking",
   "metadata": {},
   "outputs": [],
   "source": [
    "sub_listings=listings[select_cols]"
   ]
  },
  {
   "cell_type": "markdown",
   "id": "neural-curtis",
   "metadata": {},
   "source": [
    "## 2 Define the issues within dataset"
   ]
  },
  {
   "cell_type": "markdown",
   "id": "modern-stupid",
   "metadata": {},
   "source": [
    "Since we have few columns we will check each column . To avoid repeating our self we will write a simple function to evaluate each column "
   ]
  },
  {
   "cell_type": "code",
   "execution_count": 13,
   "id": "verbal-rugby",
   "metadata": {},
   "outputs": [],
   "source": [
    "def col_eval(df,column):\n",
    "    \n",
    "    \n",
    "    \"\"\"\n",
    "    Simple function to evaluate quality of columns\n",
    "    \n",
    "    args : dataframe, column \n",
    "    \n",
    "    output : number nan values, number of values in columns, number of unique values \n",
    "            type of values, show a sample from the colmn, sorted valye count\n",
    "    \"\"\"\n",
    "    \n",
    "    print('Number of Nan values is',\n",
    "          df[column].isna().sum(),\n",
    "          '\\nNumber of values in the column is ',\n",
    "          len(df[column]),\n",
    "          '\\nNumber of unique values in the column is',\n",
    "          df[column].nunique(),\n",
    "          '\\ntype of values in the column is',\n",
    "          df[column].dtypes,\n",
    "          '\\nSample value from column is',\n",
    "          df[column].sample(1).values[0],\n",
    "          '\\n\\nThe sorted value count is\\n\\n',\n",
    "          df[column].value_counts().sort_values()\n",
    "          \n",
    "    )\n"
   ]
  },
  {
   "cell_type": "markdown",
   "id": "charged-cache",
   "metadata": {},
   "source": [
    "### Define issues in column : bathrooms"
   ]
  },
  {
   "cell_type": "markdown",
   "id": "under-producer",
   "metadata": {},
   "source": [
    "Presence of 16 nulls within the column"
   ]
  },
  {
   "cell_type": "code",
   "execution_count": 14,
   "id": "human-nylon",
   "metadata": {},
   "outputs": [
    {
     "name": "stdout",
     "output_type": "stream",
     "text": [
      "Number of Nan values is 16 \n",
      "Number of values in the column is  3818 \n",
      "Number of unique values in the column is 12 \n",
      "type of values in the column is float64 \n",
      "Sample value from column is 1.0 \n",
      "\n",
      "The sorted value count is\n",
      "\n",
      " 5.0       2\n",
      "8.0       2\n",
      "4.5       3\n",
      "0.0       8\n",
      "4.0       8\n",
      "0.5      31\n",
      "3.5      57\n",
      "3.0      64\n",
      "2.5     124\n",
      "1.5     248\n",
      "2.0     373\n",
      "1.0    2882\n",
      "Name: bathrooms, dtype: int64\n"
     ]
    }
   ],
   "source": [
    "col_eval(sub_listings,'bathrooms')"
   ]
  },
  {
   "cell_type": "markdown",
   "id": "streaming-delicious",
   "metadata": {},
   "source": [
    "### Define issues in column : bedrooms"
   ]
  },
  {
   "cell_type": "markdown",
   "id": "empirical-korean",
   "metadata": {},
   "source": [
    "Presence of 6 nulls within the column"
   ]
  },
  {
   "cell_type": "code",
   "execution_count": 15,
   "id": "advance-tucson",
   "metadata": {},
   "outputs": [
    {
     "name": "stdout",
     "output_type": "stream",
     "text": [
      "Number of Nan values is 6 \n",
      "Number of values in the column is  3818 \n",
      "Number of unique values in the column is 8 \n",
      "type of values in the column is float64 \n",
      "Sample value from column is 0.0 \n",
      "\n",
      "The sorted value count is\n",
      "\n",
      " 7.0       1\n",
      "6.0       6\n",
      "5.0      24\n",
      "4.0      69\n",
      "3.0     283\n",
      "0.0     372\n",
      "2.0     640\n",
      "1.0    2417\n",
      "Name: bedrooms, dtype: int64\n"
     ]
    }
   ],
   "source": [
    "col_eval(sub_listings,'bedrooms')"
   ]
  },
  {
   "cell_type": "markdown",
   "id": "satisfactory-genealogy",
   "metadata": {},
   "source": [
    "### Define issues in column : beds"
   ]
  },
  {
   "cell_type": "markdown",
   "id": "particular-confidence",
   "metadata": {},
   "source": [
    "Presence of 1 nulls within the column"
   ]
  },
  {
   "cell_type": "code",
   "execution_count": 16,
   "id": "downtown-breeding",
   "metadata": {
    "scrolled": true
   },
   "outputs": [
    {
     "name": "stdout",
     "output_type": "stream",
     "text": [
      "Number of Nan values is 1 \n",
      "Number of values in the column is  3818 \n",
      "Number of unique values in the column is 11 \n",
      "type of values in the column is float64 \n",
      "Sample value from column is 3.0 \n",
      "\n",
      "The sorted value count is\n",
      "\n",
      " 15.0       1\n",
      "10.0       2\n",
      "8.0        4\n",
      "9.0        4\n",
      "7.0       14\n",
      "6.0       21\n",
      "5.0       73\n",
      "4.0      152\n",
      "3.0      433\n",
      "2.0      912\n",
      "1.0     2201\n",
      "Name: beds, dtype: int64\n"
     ]
    }
   ],
   "source": [
    "col_eval(sub_listings,'beds')"
   ]
  },
  {
   "cell_type": "markdown",
   "id": "expired-diamond",
   "metadata": {},
   "source": [
    "### Define issues in column : price"
   ]
  },
  {
   "cell_type": "markdown",
   "id": "rental-married",
   "metadata": {},
   "source": [
    "No nulls to report but we notice that prices are joined with a \\$ sign and listed of object. we will also need to remove comas "
   ]
  },
  {
   "cell_type": "code",
   "execution_count": 17,
   "id": "forced-sunday",
   "metadata": {},
   "outputs": [
    {
     "name": "stdout",
     "output_type": "stream",
     "text": [
      "Number of Nan values is 0 \n",
      "Number of values in the column is  3818 \n",
      "Number of unique values in the column is 273 \n",
      "type of values in the column is object \n",
      "Sample value from column is $132.00 \n",
      "\n",
      "The sorted value count is\n",
      "\n",
      " $365.00      1\n",
      "$255.00      1\n",
      "$673.00      1\n",
      "$276.00      1\n",
      "$217.00      1\n",
      "          ... \n",
      "$99.00     110\n",
      "$95.00     110\n",
      "$75.00     118\n",
      "$100.00    159\n",
      "$150.00    162\n",
      "Name: price, Length: 273, dtype: int64\n"
     ]
    }
   ],
   "source": [
    "col_eval(sub_listings,'price')"
   ]
  },
  {
   "cell_type": "markdown",
   "id": "authorized-graham",
   "metadata": {},
   "source": [
    "### Define issues in column : property_type"
   ]
  },
  {
   "cell_type": "markdown",
   "id": "israeli-pittsburgh",
   "metadata": {},
   "source": [
    "One null entry should be treated"
   ]
  },
  {
   "cell_type": "code",
   "execution_count": 18,
   "id": "metallic-durham",
   "metadata": {},
   "outputs": [
    {
     "name": "stdout",
     "output_type": "stream",
     "text": [
      "Number of Nan values is 1 \n",
      "Number of values in the column is  3818 \n",
      "Number of unique values in the column is 16 \n",
      "type of values in the column is object \n",
      "Sample value from column is Condominium \n",
      "\n",
      "The sorted value count is\n",
      "\n",
      " Yurt                  1\n",
      "Chalet                2\n",
      "Dorm                  2\n",
      "Treehouse             3\n",
      "Tent                  5\n",
      "Boat                  8\n",
      "Camper/RV            13\n",
      "Bungalow             13\n",
      "Cabin                21\n",
      "Other                22\n",
      "Bed & Breakfast      37\n",
      "Loft                 40\n",
      "Condominium          91\n",
      "Townhouse           118\n",
      "Apartment          1708\n",
      "House              1733\n",
      "Name: property_type, dtype: int64\n"
     ]
    }
   ],
   "source": [
    "col_eval(sub_listings,'property_type')"
   ]
  },
  {
   "cell_type": "markdown",
   "id": "micro-metabolism",
   "metadata": {},
   "source": [
    "### Define issues in column : neighbourhood"
   ]
  },
  {
   "cell_type": "markdown",
   "id": "adolescent-immune",
   "metadata": {},
   "source": [
    "A total of 416 null values"
   ]
  },
  {
   "cell_type": "code",
   "execution_count": 19,
   "id": "ethical-jason",
   "metadata": {},
   "outputs": [
    {
     "name": "stdout",
     "output_type": "stream",
     "text": [
      "Number of Nan values is 416 \n",
      "Number of values in the column is  3818 \n",
      "Number of unique values in the column is 81 \n",
      "type of values in the column is object \n",
      "Sample value from column is Lower Queen Anne \n",
      "\n",
      "The sorted value count is\n",
      "\n",
      " Roxhill                 1\n",
      "Fairmount Park          1\n",
      "North College Park      1\n",
      "South Park              2\n",
      "Pike Market             2\n",
      "                     ... \n",
      "Queen Anne            187\n",
      "Minor                 192\n",
      "Belltown              204\n",
      "Ballard               213\n",
      "Capitol Hill          351\n",
      "Name: neighbourhood, Length: 81, dtype: int64\n"
     ]
    }
   ],
   "source": [
    "col_eval(sub_listings,'neighbourhood')"
   ]
  },
  {
   "cell_type": "code",
   "execution_count": 20,
   "id": "typical-vector",
   "metadata": {},
   "outputs": [
    {
     "data": {
      "text/plain": [
       "440"
      ]
     },
     "execution_count": 20,
     "metadata": {},
     "output_type": "execute_result"
    }
   ],
   "source": [
    "sub_listings.isna().sum().sum()"
   ]
  },
  {
   "cell_type": "markdown",
   "id": "rocky-avatar",
   "metadata": {},
   "source": [
    "## 3 Correct the quality issues by using a Clean/test methodology"
   ]
  },
  {
   "cell_type": "markdown",
   "id": "municipal-timeline",
   "metadata": {},
   "source": [
    "The defined issues can be summerized as followed :\n",
    "\n",
    "* **A total of 440 nulls in the whol subseted dataset. We can simply proceed by removing the null containing entries since the overall number is small**\n",
    "* **Price should be cleaned by removing the dollar sign. For this we will simply use the replace method to remove the dollar sign**\n",
    "* **price column type should be changed to numerical**"
   ]
  },
  {
   "cell_type": "markdown",
   "id": "frank-spread",
   "metadata": {},
   "source": [
    "### removing nulls"
   ]
  },
  {
   "cell_type": "code",
   "execution_count": 21,
   "id": "forced-chaos",
   "metadata": {
    "scrolled": true
   },
   "outputs": [
    {
     "name": "stderr",
     "output_type": "stream",
     "text": [
      "D:\\WORK\\PYTHON\\envs\\PYTHON36\\lib\\site-packages\\ipykernel_launcher.py:3: SettingWithCopyWarning: \n",
      "A value is trying to be set on a copy of a slice from a DataFrame\n",
      "\n",
      "See the caveats in the documentation: https://pandas.pydata.org/pandas-docs/stable/user_guide/indexing.html#returning-a-view-versus-a-copy\n",
      "  This is separate from the ipykernel package so we can avoid doing imports until\n"
     ]
    }
   ],
   "source": [
    "#cleaning\n",
    "\n",
    "sub_listings.dropna(inplace=True)"
   ]
  },
  {
   "cell_type": "code",
   "execution_count": 22,
   "id": "extraordinary-magnet",
   "metadata": {
    "scrolled": true
   },
   "outputs": [
    {
     "data": {
      "text/plain": [
       "0"
      ]
     },
     "execution_count": 22,
     "metadata": {},
     "output_type": "execute_result"
    }
   ],
   "source": [
    "#testig\n",
    "\n",
    "sub_listings.isna().sum().sum()"
   ]
  },
  {
   "cell_type": "markdown",
   "id": "objective-casting",
   "metadata": {},
   "source": [
    "### replacing dollarsign in price"
   ]
  },
  {
   "cell_type": "code",
   "execution_count": 23,
   "id": "administrative-survival",
   "metadata": {},
   "outputs": [
    {
     "name": "stderr",
     "output_type": "stream",
     "text": [
      "D:\\WORK\\PYTHON\\envs\\PYTHON36\\lib\\site-packages\\ipykernel_launcher.py:3: SettingWithCopyWarning: \n",
      "A value is trying to be set on a copy of a slice from a DataFrame.\n",
      "Try using .loc[row_indexer,col_indexer] = value instead\n",
      "\n",
      "See the caveats in the documentation: https://pandas.pydata.org/pandas-docs/stable/user_guide/indexing.html#returning-a-view-versus-a-copy\n",
      "  This is separate from the ipykernel package so we can avoid doing imports until\n",
      "D:\\WORK\\PYTHON\\envs\\PYTHON36\\lib\\site-packages\\ipykernel_launcher.py:5: SettingWithCopyWarning: \n",
      "A value is trying to be set on a copy of a slice from a DataFrame.\n",
      "Try using .loc[row_indexer,col_indexer] = value instead\n",
      "\n",
      "See the caveats in the documentation: https://pandas.pydata.org/pandas-docs/stable/user_guide/indexing.html#returning-a-view-versus-a-copy\n",
      "  \"\"\"\n"
     ]
    }
   ],
   "source": [
    "#cleaning\n",
    "\n",
    "sub_listings['price']=sub_listings['price'].apply(lambda x: x.replace('$',''))\n",
    "\n",
    "sub_listings['price']=sub_listings['price'].apply(lambda x: x.replace(',',''))"
   ]
  },
  {
   "cell_type": "code",
   "execution_count": 24,
   "id": "qualified-volume",
   "metadata": {},
   "outputs": [],
   "source": [
    "#testing"
   ]
  },
  {
   "cell_type": "code",
   "execution_count": 25,
   "id": "metric-unemployment",
   "metadata": {
    "scrolled": true
   },
   "outputs": [
    {
     "data": {
      "text/plain": [
       "0        85.00\n",
       "1       150.00\n",
       "2       975.00\n",
       "3       100.00\n",
       "4       450.00\n",
       "         ...  \n",
       "3811     65.00\n",
       "3812     95.00\n",
       "3813    359.00\n",
       "3814     79.00\n",
       "3817     87.00\n",
       "Name: price, Length: 3379, dtype: object"
      ]
     },
     "execution_count": 25,
     "metadata": {},
     "output_type": "execute_result"
    }
   ],
   "source": [
    "sub_listings['price']"
   ]
  },
  {
   "cell_type": "markdown",
   "id": "statewide-stevens",
   "metadata": {},
   "source": [
    "### change type of price column"
   ]
  },
  {
   "cell_type": "code",
   "execution_count": 26,
   "id": "domestic-department",
   "metadata": {},
   "outputs": [
    {
     "name": "stderr",
     "output_type": "stream",
     "text": [
      "D:\\WORK\\PYTHON\\envs\\PYTHON36\\lib\\site-packages\\ipykernel_launcher.py:3: SettingWithCopyWarning: \n",
      "A value is trying to be set on a copy of a slice from a DataFrame.\n",
      "Try using .loc[row_indexer,col_indexer] = value instead\n",
      "\n",
      "See the caveats in the documentation: https://pandas.pydata.org/pandas-docs/stable/user_guide/indexing.html#returning-a-view-versus-a-copy\n",
      "  This is separate from the ipykernel package so we can avoid doing imports until\n"
     ]
    }
   ],
   "source": [
    "#cleaning\n",
    "\n",
    "sub_listings['price']=sub_listings['price'].astype('float')"
   ]
  },
  {
   "cell_type": "code",
   "execution_count": 27,
   "id": "forty-sierra",
   "metadata": {},
   "outputs": [],
   "source": [
    "#testing"
   ]
  },
  {
   "cell_type": "code",
   "execution_count": 28,
   "id": "working-heater",
   "metadata": {},
   "outputs": [
    {
     "data": {
      "text/plain": [
       "dtype('float64')"
      ]
     },
     "execution_count": 28,
     "metadata": {},
     "output_type": "execute_result"
    }
   ],
   "source": [
    "sub_listings['price'].dtypes"
   ]
  },
  {
   "cell_type": "markdown",
   "id": "satisfied-wrong",
   "metadata": {},
   "source": [
    "## 4 EDA on data to further assess the content of cleaned data"
   ]
  },
  {
   "cell_type": "markdown",
   "id": "temporal-aquatic",
   "metadata": {},
   "source": [
    "We will check each of our cleaned columns to further analyse how histograms behave, to identify quantitativly what type of data we are dealing with and to check if we have any anomaly or outliers that should be adressed\n",
    "\n",
    "Again, to limit the repetitions, we will write two functions. The numerical type data will plot a box plot a histogram and a simple statistical summary.\n",
    "\n",
    "The categorical data will be analysed using count plots and a simple summary statictis"
   ]
  },
  {
   "cell_type": "code",
   "execution_count": 29,
   "id": "smoking-protocol",
   "metadata": {},
   "outputs": [],
   "source": [
    "def category_data_plots(data, attribute,wideness='wide',ascending=True):\n",
    "    \n",
    "    \"\"\"\n",
    "    Function that give a countplot for a given object type column and show a small sumary statistic table\n",
    "    \n",
    "    args : data: dataframe, attribute : column name, wideness: wide or long default is wide, asencing : default is true\n",
    "    \n",
    "    return count plot and summary stat table\n",
    "    \n",
    "    \"\"\"\n",
    "\n",
    "        \n",
    "    \n",
    "    totalbeds=sub_listings[attribute].value_counts().sum()\n",
    "\n",
    "    values_table=((sub_listings.groupby(attribute).count().iloc[:,1]/totalbeds)*100).sort_values(ascending=ascending)\n",
    "\n",
    "    index_values=list(values_table.index)    \n",
    "    \n",
    "    \n",
    "    \n",
    "    \n",
    "    if wideness=='long':\n",
    "        \n",
    "        shape=(8, 15)\n",
    "        \n",
    "        fig=plt.figure(figsize=shape)\n",
    "        \n",
    "        plt.barh(index_values,values_table)\n",
    "    else:\n",
    "        shape=(15,8)    \n",
    "        \n",
    "        fig=plt.figure(figsize=shape)\n",
    "        \n",
    "        plt.bar(index_values,values_table)\n",
    "    \n",
    "\n",
    "\n",
    "       \n",
    "            \n",
    "    print('Stat table attribute: \\n',data[attribute].describe())\n",
    "    \n",
    "    print('\\n count for each value : \\n',data[attribute].value_counts())\n",
    "    \n",
    "    print('\\n The most comon value is : ', list(stats.mode(data[attribute])[0])[0])\n"
   ]
  },
  {
   "cell_type": "code",
   "execution_count": 30,
   "id": "informative-terrorism",
   "metadata": {},
   "outputs": [],
   "source": [
    "def numeric_data_plots(data, attribute, binsv=10):\n",
    "\n",
    "    \"\"\"\n",
    "    Function that give a histogram and a boxplot for a given numerical type column and show a small sumary statistic table\n",
    "    \n",
    "    args : data: dataframe, attribute : column name, binsv=: number of bins for histogram, default is 10\n",
    "    \n",
    "    return histogram, boxplot and a summary stat table\n",
    "    \n",
    "    \"\"\"\n",
    "    \n",
    "    \n",
    "    fig = plt.figure(figsize=(20, 5))\n",
    "    \n",
    "    \n",
    "    gridsize=(1,2)\n",
    "    \n",
    "    \n",
    "\n",
    "    \n",
    "    ax1 = plt.subplot2grid(gridsize, (0, 0),colspan=1, rowspan=1)\n",
    "    \n",
    "    ax1.title.set_text(f'histogram plot of {attribute}')\n",
    "    \n",
    "    \n",
    "    sb.histplot(data['{}'.format(attribute)], ax=ax1,bins=binsv);\n",
    "\n",
    "\n",
    "        \n",
    "    ax2 = plt.subplot2grid(gridsize, (0, 1),colspan=1, rowspan=1)\n",
    "    \n",
    "    ax2.title.set_text(f'boxplot of {attribute}')\n",
    "    \n",
    "    \n",
    "    sb.boxplot(x=data['{}'.format(attribute)], ax=ax2);\n",
    "    \n",
    "    print(data[attribute].describe())\n",
    "    \n",
    "    print('\\n The most comon value is : ', list(stats.mode(data[attribute])[0])[0])"
   ]
  },
  {
   "cell_type": "markdown",
   "id": "identified-sponsorship",
   "metadata": {},
   "source": [
    "### EDA on column : price"
   ]
  },
  {
   "cell_type": "markdown",
   "id": "handed-yacht",
   "metadata": {},
   "source": [
    "The plots show that the price data is highly skewed to the right. We can clearly see that 25% of the listings have a price above 150. The maximum value is 1000 and the minimum is 20 which give us a range of 980. This difference needs to be adressed later on either by removing outlier or transforming data."
   ]
  },
  {
   "cell_type": "code",
   "execution_count": 31,
   "id": "rolled-bradley",
   "metadata": {},
   "outputs": [
    {
     "name": "stdout",
     "output_type": "stream",
     "text": [
      "count    3379.000000\n",
      "mean      129.366972\n",
      "std        91.416122\n",
      "min        20.000000\n",
      "25%        75.000000\n",
      "50%       100.000000\n",
      "75%       150.000000\n",
      "max      1000.000000\n",
      "Name: price, dtype: float64\n",
      "\n",
      " The most comon value is :  150.0\n"
     ]
    },
    {
     "data": {
      "image/png": "[encoded data removed]",
      "text/plain": [
       "<Figure size 1440x360 with 2 Axes>"
      ]
     },
     "metadata": {
      "needs_background": "light"
     },
     "output_type": "display_data"
    }
   ],
   "source": [
    "numeric_data_plots(sub_listings,'price',20)"
   ]
  },
  {
   "cell_type": "markdown",
   "id": "sunset-possession",
   "metadata": {},
   "source": [
    "### EDA on column : beds"
   ]
  },
  {
   "cell_type": "markdown",
   "id": "vital-roller",
   "metadata": {},
   "source": [
    "we have 75% of listings with number of beds less or equal to two, with a minimum of 1 bed and a maximum of 15\n",
    "\n",
    "The dataset is skewed to the right and that is linked to the presence of some listings with very high count of beds (from 4 to 15 !! )"
   ]
  },
  {
   "cell_type": "code",
   "execution_count": 32,
   "id": "treated-invasion",
   "metadata": {},
   "outputs": [
    {
     "name": "stdout",
     "output_type": "stream",
     "text": [
      "count    3379.000000\n",
      "mean        1.754365\n",
      "std         1.152664\n",
      "min         1.000000\n",
      "25%         1.000000\n",
      "50%         1.000000\n",
      "75%         2.000000\n",
      "max        15.000000\n",
      "Name: beds, dtype: float64\n",
      "\n",
      " The most comon value is :  1.0\n"
     ]
    },
    {
     "data": {
      "image/png": "[encoded data removed]",
      "text/plain": [
       "<Figure size 1440x360 with 2 Axes>"
      ]
     },
     "metadata": {
      "needs_background": "light"
     },
     "output_type": "display_data"
    }
   ],
   "source": [
    "numeric_data_plots(sub_listings,'beds')"
   ]
  },
  {
   "cell_type": "markdown",
   "id": "affecting-model",
   "metadata": {},
   "source": [
    "### EDA on column : bathrooms"
   ]
  },
  {
   "cell_type": "markdown",
   "id": "mediterranean-adjustment",
   "metadata": {},
   "source": [
    "Some values of bathroom counts are containing decimal values (2.5 bathrooms) which is not logic. We will deal with it later by flooring values to the closed integer\n",
    "\n",
    "As for descriptive statistics, we have a maximum 8 bathromms and a minimum of 0 . The median number of bathrooms is 1"
   ]
  },
  {
   "cell_type": "code",
   "execution_count": 33,
   "id": "stone-statistics",
   "metadata": {},
   "outputs": [
    {
     "name": "stdout",
     "output_type": "stream",
     "text": [
      "count    3379.000000\n",
      "mean        1.266499\n",
      "std         0.600293\n",
      "min         0.000000\n",
      "25%         1.000000\n",
      "50%         1.000000\n",
      "75%         1.000000\n",
      "max         8.000000\n",
      "Name: bathrooms, dtype: float64\n",
      "\n",
      " The most comon value is :  1.0\n"
     ]
    },
    {
     "data": {
      "image/png": "[encoded data removed]",
      "text/plain": [
       "<Figure size 1440x360 with 2 Axes>"
      ]
     },
     "metadata": {
      "needs_background": "light"
     },
     "output_type": "display_data"
    }
   ],
   "source": [
    "numeric_data_plots(sub_listings,'bathrooms')"
   ]
  },
  {
   "cell_type": "markdown",
   "id": "seventh-trigger",
   "metadata": {},
   "source": [
    "### EDA on column : bedrooms"
   ]
  },
  {
   "cell_type": "markdown",
   "id": "thirty-candle",
   "metadata": {},
   "source": [
    "We have a minimm of 0 bedrooms and a maximum of 6 . The median value is 1 bedroom per listing."
   ]
  },
  {
   "cell_type": "code",
   "execution_count": 34,
   "id": "blond-disco",
   "metadata": {},
   "outputs": [
    {
     "name": "stdout",
     "output_type": "stream",
     "text": [
      "count    3379.000000\n",
      "mean        1.320805\n",
      "std         0.887424\n",
      "min         0.000000\n",
      "25%         1.000000\n",
      "50%         1.000000\n",
      "75%         2.000000\n",
      "max         6.000000\n",
      "Name: bedrooms, dtype: float64\n",
      "\n",
      " The most comon value is :  1.0\n"
     ]
    },
    {
     "data": {
      "image/png": "[encoded data removed]",
      "text/plain": [
       "<Figure size 1440x360 with 2 Axes>"
      ]
     },
     "metadata": {
      "needs_background": "light"
     },
     "output_type": "display_data"
    }
   ],
   "source": [
    "numeric_data_plots(sub_listings,'bedrooms')"
   ]
  },
  {
   "cell_type": "markdown",
   "id": "serial-browser",
   "metadata": {},
   "source": [
    "### EDA on column : room_type"
   ]
  },
  {
   "cell_type": "markdown",
   "id": "italian-cabinet",
   "metadata": {},
   "source": [
    "Entire  home/appt are the most listed, followed by private rooms and shared rooms . "
   ]
  },
  {
   "cell_type": "code",
   "execution_count": 35,
   "id": "mineral-spirituality",
   "metadata": {},
   "outputs": [
    {
     "name": "stderr",
     "output_type": "stream",
     "text": [
      "D:\\WORK\\PYTHON\\envs\\PYTHON36\\lib\\site-packages\\ipykernel_launcher.py:1: SettingWithCopyWarning: \n",
      "A value is trying to be set on a copy of a slice from a DataFrame.\n",
      "Try using .loc[row_indexer,col_indexer] = value instead\n",
      "\n",
      "See the caveats in the documentation: https://pandas.pydata.org/pandas-docs/stable/user_guide/indexing.html#returning-a-view-versus-a-copy\n",
      "  \"\"\"Entry point for launching an IPython kernel.\n"
     ]
    }
   ],
   "source": [
    "sub_listings['room_type']=sub_listings['room_type'].astype('category')"
   ]
  },
  {
   "cell_type": "code",
   "execution_count": 36,
   "id": "japanese-skiing",
   "metadata": {},
   "outputs": [
    {
     "name": "stdout",
     "output_type": "stream",
     "text": [
      "Stat table attribute: \n",
      " count                3379\n",
      "unique                  3\n",
      "top       Entire home/apt\n",
      "freq                 2268\n",
      "Name: room_type, dtype: object\n",
      "\n",
      " count for each value : \n",
      " Entire home/apt    2268\n",
      "Private room       1013\n",
      "Shared room          98\n",
      "Name: room_type, dtype: int64\n",
      "\n",
      " The most comon value is :  Entire home/apt\n"
     ]
    },
    {
     "data": {
      "image/png": "[encoded data removed]",
      "text/plain": [
       "<Figure size 1080x576 with 1 Axes>"
      ]
     },
     "metadata": {
      "needs_background": "light"
     },
     "output_type": "display_data"
    }
   ],
   "source": [
    "category_data_plots(sub_listings,'room_type')"
   ]
  },
  {
   "cell_type": "markdown",
   "id": "perfect-procurement",
   "metadata": {},
   "source": [
    "### EDA on column : bed_type"
   ]
  },
  {
   "cell_type": "markdown",
   "id": "metallic-abraham",
   "metadata": {},
   "source": [
    "Real bed listings are the most available with a large margin"
   ]
  },
  {
   "cell_type": "code",
   "execution_count": 37,
   "id": "promotional-librarian",
   "metadata": {},
   "outputs": [
    {
     "name": "stderr",
     "output_type": "stream",
     "text": [
      "D:\\WORK\\PYTHON\\envs\\PYTHON36\\lib\\site-packages\\ipykernel_launcher.py:1: SettingWithCopyWarning: \n",
      "A value is trying to be set on a copy of a slice from a DataFrame.\n",
      "Try using .loc[row_indexer,col_indexer] = value instead\n",
      "\n",
      "See the caveats in the documentation: https://pandas.pydata.org/pandas-docs/stable/user_guide/indexing.html#returning-a-view-versus-a-copy\n",
      "  \"\"\"Entry point for launching an IPython kernel.\n"
     ]
    }
   ],
   "source": [
    "sub_listings['bed_type']=sub_listings['bed_type'].astype('category')"
   ]
  },
  {
   "cell_type": "code",
   "execution_count": 38,
   "id": "bridal-questionnaire",
   "metadata": {},
   "outputs": [
    {
     "name": "stdout",
     "output_type": "stream",
     "text": [
      "Stat table attribute: \n",
      " count         3379\n",
      "unique           5\n",
      "top       Real Bed\n",
      "freq          3234\n",
      "Name: bed_type, dtype: object\n",
      "\n",
      " count for each value : \n",
      " Real Bed         3234\n",
      "Futon              69\n",
      "Pull-out Sofa      42\n",
      "Airbed             23\n",
      "Couch              11\n",
      "Name: bed_type, dtype: int64\n",
      "\n",
      " The most comon value is :  Real Bed\n"
     ]
    },
    {
     "data": {
      "image/png": "[encoded data removed]",
      "text/plain": [
       "<Figure size 1080x576 with 1 Axes>"
      ]
     },
     "metadata": {
      "needs_background": "light"
     },
     "output_type": "display_data"
    }
   ],
   "source": [
    "category_data_plots(sub_listings,'bed_type')"
   ]
  },
  {
   "cell_type": "markdown",
   "id": "valid-lithuania",
   "metadata": {},
   "source": [
    "### EDA on column : property_type"
   ]
  },
  {
   "cell_type": "markdown",
   "id": "allied-arena",
   "metadata": {},
   "source": [
    "Homes and appartements are the two top most used listings. Yurt and Chalet are two least counted."
   ]
  },
  {
   "cell_type": "code",
   "execution_count": 39,
   "id": "competitive-lemon",
   "metadata": {},
   "outputs": [
    {
     "name": "stderr",
     "output_type": "stream",
     "text": [
      "D:\\WORK\\PYTHON\\envs\\PYTHON36\\lib\\site-packages\\ipykernel_launcher.py:1: SettingWithCopyWarning: \n",
      "A value is trying to be set on a copy of a slice from a DataFrame.\n",
      "Try using .loc[row_indexer,col_indexer] = value instead\n",
      "\n",
      "See the caveats in the documentation: https://pandas.pydata.org/pandas-docs/stable/user_guide/indexing.html#returning-a-view-versus-a-copy\n",
      "  \"\"\"Entry point for launching an IPython kernel.\n"
     ]
    }
   ],
   "source": [
    "sub_listings['property_type']=sub_listings['property_type'].astype('category')"
   ]
  },
  {
   "cell_type": "code",
   "execution_count": 40,
   "id": "confirmed-interference",
   "metadata": {},
   "outputs": [
    {
     "name": "stdout",
     "output_type": "stream",
     "text": [
      "Stat table attribute: \n",
      " count      3379\n",
      "unique       16\n",
      "top       House\n",
      "freq       1546\n",
      "Name: property_type, dtype: object\n",
      "\n",
      " count for each value : \n",
      " House              1546\n",
      "Apartment          1502\n",
      "Townhouse           106\n",
      "Condominium          83\n",
      "Bed & Breakfast      35\n",
      "Loft                 34\n",
      "Cabin                20\n",
      "Other                15\n",
      "Bungalow             12\n",
      "Camper/RV             9\n",
      "Boat                  6\n",
      "Tent                  5\n",
      "Treehouse             2\n",
      "Dorm                  2\n",
      "Yurt                  1\n",
      "Chalet                1\n",
      "Name: property_type, dtype: int64\n",
      "\n",
      " The most comon value is :  House\n"
     ]
    },
    {
     "data": {
      "image/png": "[encoded data removed]",
      "text/plain": [
       "<Figure size 1080x576 with 1 Axes>"
      ]
     },
     "metadata": {
      "needs_background": "light"
     },
     "output_type": "display_data"
    }
   ],
   "source": [
    "category_data_plots(sub_listings,'property_type')"
   ]
  },
  {
   "cell_type": "markdown",
   "id": "essential-interpretation",
   "metadata": {},
   "source": [
    "### EDA on column : guests_included"
   ]
  },
  {
   "cell_type": "markdown",
   "id": "linear-grenada",
   "metadata": {},
   "source": [
    "The obtained histogram is skewed to the right, indicating large values that moves the mean to the right.\n",
    "\n",
    "We have a maximum of 15 guests possible, a minimum of 0 guests and a median of 1 guest"
   ]
  },
  {
   "cell_type": "code",
   "execution_count": 41,
   "id": "architectural-bronze",
   "metadata": {},
   "outputs": [
    {
     "name": "stdout",
     "output_type": "stream",
     "text": [
      "count    3379.000000\n",
      "mean        1.709973\n",
      "std         1.330715\n",
      "min         0.000000\n",
      "25%         1.000000\n",
      "50%         1.000000\n",
      "75%         2.000000\n",
      "max        15.000000\n",
      "Name: guests_included, dtype: float64\n",
      "\n",
      " The most comon value is :  1\n"
     ]
    },
    {
     "data": {
      "image/png": "[encoded data removed]",
      "text/plain": [
       "<Figure size 1440x360 with 2 Axes>"
      ]
     },
     "metadata": {
      "needs_background": "light"
     },
     "output_type": "display_data"
    }
   ],
   "source": [
    "numeric_data_plots(sub_listings,'guests_included')"
   ]
  },
  {
   "cell_type": "markdown",
   "id": "quiet-applicant",
   "metadata": {},
   "source": [
    "### EDA on column : neighbourhood"
   ]
  },
  {
   "cell_type": "markdown",
   "id": "honest-clause",
   "metadata": {},
   "source": [
    "Capotiol hill is the most represented neighbourhood , followed by ballard. The least represented is roxhill"
   ]
  },
  {
   "cell_type": "code",
   "execution_count": 42,
   "id": "present-belarus",
   "metadata": {},
   "outputs": [
    {
     "name": "stderr",
     "output_type": "stream",
     "text": [
      "D:\\WORK\\PYTHON\\envs\\PYTHON36\\lib\\site-packages\\ipykernel_launcher.py:1: SettingWithCopyWarning: \n",
      "A value is trying to be set on a copy of a slice from a DataFrame.\n",
      "Try using .loc[row_indexer,col_indexer] = value instead\n",
      "\n",
      "See the caveats in the documentation: https://pandas.pydata.org/pandas-docs/stable/user_guide/indexing.html#returning-a-view-versus-a-copy\n",
      "  \"\"\"Entry point for launching an IPython kernel.\n"
     ]
    }
   ],
   "source": [
    "sub_listings['neighbourhood']=sub_listings['neighbourhood'].astype('category')"
   ]
  },
  {
   "cell_type": "code",
   "execution_count": 43,
   "id": "instructional-proxy",
   "metadata": {},
   "outputs": [
    {
     "name": "stdout",
     "output_type": "stream",
     "text": [
      "Stat table attribute: \n",
      " count             3379\n",
      "unique              80\n",
      "top       Capitol Hill\n",
      "freq               347\n",
      "Name: neighbourhood, dtype: object\n",
      "\n",
      " count for each value : \n",
      " Capitol Hill         347\n",
      "Ballard              213\n",
      "Belltown             199\n",
      "Minor                192\n",
      "Queen Anne           187\n",
      "                    ... \n",
      "South Beacon Hill      2\n",
      "South Park             2\n",
      "Pike Market            2\n",
      "Fairmount Park         1\n",
      "Roxhill                1\n",
      "Name: neighbourhood, Length: 80, dtype: int64\n",
      "\n",
      " The most comon value is :  Capitol Hill\n"
     ]
    },
    {
     "data": {
      "image/png": "[encoded data removed]",
      "text/plain": [
       "<Figure size 576x1080 with 1 Axes>"
      ]
     },
     "metadata": {
      "needs_background": "light"
     },
     "output_type": "display_data"
    }
   ],
   "source": [
    "category_data_plots(sub_listings,'neighbourhood','long')"
   ]
  },
  {
   "cell_type": "markdown",
   "id": "referenced-specialist",
   "metadata": {},
   "source": [
    "A quick conclusion obtained from these data , the most present number within the dataset for each feature are : \n",
    "* **price : 150**\n",
    "* **bathrooms : 1**\n",
    "* **bedrooms: 1**\n",
    "* **room_type : entire home/appt**\n",
    "* **bed_type: real bed**\n",
    "* **proprety type: house**\n",
    "* **guests included: 1**\n",
    "* **neighborhood: capitol hill**"
   ]
  },
  {
   "cell_type": "markdown",
   "id": "demanding-parking",
   "metadata": {},
   "source": [
    "## 5 Feature engineering"
   ]
  },
  {
   "cell_type": "markdown",
   "id": "advance-cosmetic",
   "metadata": {},
   "source": [
    "In this part, we will take into account the results of EDA analysis and we will transform/prepare our features, prior to modeling and implementing:\n",
    "\n",
    "\n",
    "* To avoid overfitting, we will remove outliers from highly skewd price data. For that reason, we put down a function that provide a filtred datafram, for a given column and some limits on the IQR.\n",
    "* The bathroom column contains values that needs to be floord ( no meaning to 1.5 bathroms)\n",
    "* The categorical data needs to be one hot encoded. This will help to make the data usable during modeling.\n",
    "* Base line definition"
   ]
  },
  {
   "cell_type": "code",
   "execution_count": 44,
   "id": "first-hardwood",
   "metadata": {},
   "outputs": [],
   "source": [
    "#writing down the subseting function by iqr for outliers\n",
    "\n",
    "def subset_by_iqr(df, column, whisker_width=1.5):\n",
    "    \n",
    "    \"\"\"Remove outliers from a dataframe by column, including optional \n",
    "       whiskers, removing rows for which the column value are \n",
    "       less than Q1-1.5IQR or greater than Q3+1.5IQR.\n",
    "    Args:\n",
    "        df (`:obj:pd.DataFrame`): A pandas dataframe to subset\n",
    "        column (str): Name of the column to calculate the subset from.\n",
    "        whisker_width (float): Optional, loosen the IQR filter by a\n",
    "                               factor of `whisker_width` * IQR.\n",
    "    Returns:\n",
    "        (`:obj:pd.DataFrame`): Filtered dataframe\n",
    "    \"\"\"\n",
    "    # Calculate Q1, Q2 and IQR\n",
    "    q1 = df[column].quantile(0.25)                 \n",
    "    q3 = df[column].quantile(0.75)\n",
    "    iqr = q3 - q1\n",
    "    # Apply filter with respect to IQR, including optional whiskers\n",
    "    filter = (df[column] >= q1 - whisker_width*iqr) & (df[column] <= q3 + whisker_width*iqr)\n",
    "    return df.loc[filter]                                                     \n",
    "\n"
   ]
  },
  {
   "cell_type": "code",
   "execution_count": 45,
   "id": "flying-encounter",
   "metadata": {},
   "outputs": [],
   "source": [
    "#filtering data using iqr function\n",
    "\n",
    "filtred_susbet=subset_by_iqr(sub_listings,'price', whisker_width=1.5)\n",
    "filtred_susbet.reset_index(drop=True, inplace=True)"
   ]
  },
  {
   "cell_type": "code",
   "execution_count": 46,
   "id": "fresh-christopher",
   "metadata": {},
   "outputs": [
    {
     "name": "stderr",
     "output_type": "stream",
     "text": [
      "D:\\WORK\\PYTHON\\envs\\PYTHON36\\lib\\site-packages\\ipykernel_launcher.py:3: SettingWithCopyWarning: \n",
      "A value is trying to be set on a copy of a slice from a DataFrame.\n",
      "Try using .loc[row_indexer,col_indexer] = value instead\n",
      "\n",
      "See the caveats in the documentation: https://pandas.pydata.org/pandas-docs/stable/user_guide/indexing.html#returning-a-view-versus-a-copy\n",
      "  This is separate from the ipykernel package so we can avoid doing imports until\n"
     ]
    }
   ],
   "source": [
    "# The bathroom column contains values that needs to be floored\n",
    "\n",
    "filtred_susbet['bathrooms']=filtred_susbet['bathrooms'].apply(lambda x: math.floor(x))"
   ]
  },
  {
   "cell_type": "code",
   "execution_count": 47,
   "id": "aggressive-driver",
   "metadata": {},
   "outputs": [],
   "source": [
    "#We will drop the most comon values in the dataset as baseline for our regression modeling\n",
    "\n",
    "\n",
    "#House  droped as baseline\n",
    "\n",
    "proprety_type_dummied=pd.get_dummies(filtred_susbet['property_type'],prefix='property_type').\\\n",
    "drop(columns='property_type_House')\n",
    "\n",
    "#Entime home/appt  as baseline\n",
    "\n",
    "room_type_dummied=pd.get_dummies(filtred_susbet['room_type'],prefix='room_type').\\\n",
    "drop(columns='room_type_Entire home/apt')\n",
    "\n",
    "#real bed as baseline for type of bed\n",
    "\n",
    "bed_type_dummied=pd.get_dummies(filtred_susbet['bed_type'],prefix='bed_type').\\\n",
    "drop(columns='bed_type_Real Bed')\n",
    "\n",
    "#capitol hill as the baseline for neighborhoods\n",
    "neighbourhood_dummied=pd.get_dummies(filtred_susbet['neighbourhood'],prefix='neighbourhood').\\\n",
    "drop(columns=['neighbourhood_Capitol Hill','neighbourhood_Fairmount Park'])"
   ]
  },
  {
   "cell_type": "code",
   "execution_count": 48,
   "id": "elect-execution",
   "metadata": {},
   "outputs": [],
   "source": [
    "\n",
    "#Lets make our final needed frames and arrays (features , target)\n",
    "maindftoconcat=filtred_susbet.iloc[:,:5]\n",
    "\n",
    "\n",
    "\n",
    "listofframes=[maindftoconcat,neighbourhood_dummied,bed_type_dummied,room_type_dummied,proprety_type_dummied]\n",
    "\n",
    "#Features\n",
    "X=pd.concat(listofframes,axis=1)\n",
    "\n",
    "X=X[X['price']<600]\n",
    "\n",
    "#target\n",
    "y=X[['price']]\n",
    "\n",
    "\n",
    "X.drop(columns='price',inplace=True)\n",
    "\n"
   ]
  },
  {
   "cell_type": "markdown",
   "id": "local-japan",
   "metadata": {},
   "source": [
    "# 6 Modeling"
   ]
  },
  {
   "cell_type": "markdown",
   "id": "meaning-keeping",
   "metadata": {},
   "source": [
    "In this data science introduction projet, we will try to model using OLS. But we will also need to check on the multicolinearity and significance effect within the dataset.\n"
   ]
  },
  {
   "cell_type": "code",
   "execution_count": 49,
   "id": "amazing-schema",
   "metadata": {},
   "outputs": [
    {
     "data": {
      "text/html": [
       "<div>\n",
       "<style scoped>\n",
       "    .dataframe tbody tr th:only-of-type {\n",
       "        vertical-align: middle;\n",
       "    }\n",
       "\n",
       "    .dataframe tbody tr th {\n",
       "        vertical-align: top;\n",
       "    }\n",
       "\n",
       "    .dataframe thead th {\n",
       "        text-align: right;\n",
       "    }\n",
       "</style>\n",
       "<table border=\"1\" class=\"dataframe\">\n",
       "  <thead>\n",
       "    <tr style=\"text-align: right;\">\n",
       "      <th></th>\n",
       "      <th>feature</th>\n",
       "      <th>VIF</th>\n",
       "    </tr>\n",
       "  </thead>\n",
       "  <tbody>\n",
       "    <tr>\n",
       "      <th>0</th>\n",
       "      <td>bathrooms</td>\n",
       "      <td>8.206004</td>\n",
       "    </tr>\n",
       "    <tr>\n",
       "      <th>1</th>\n",
       "      <td>bedrooms</td>\n",
       "      <td>8.767945</td>\n",
       "    </tr>\n",
       "    <tr>\n",
       "      <th>2</th>\n",
       "      <td>beds</td>\n",
       "      <td>8.776728</td>\n",
       "    </tr>\n",
       "    <tr>\n",
       "      <th>3</th>\n",
       "      <td>guests_included</td>\n",
       "      <td>3.875833</td>\n",
       "    </tr>\n",
       "    <tr>\n",
       "      <th>86</th>\n",
       "      <td>room_type_Private room</td>\n",
       "      <td>1.926956</td>\n",
       "    </tr>\n",
       "    <tr>\n",
       "      <th>88</th>\n",
       "      <td>property_type_Apartment</td>\n",
       "      <td>2.424959</td>\n",
       "    </tr>\n",
       "  </tbody>\n",
       "</table>\n",
       "</div>"
      ],
      "text/plain": [
       "                    feature       VIF\n",
       "0                 bathrooms  8.206004\n",
       "1                  bedrooms  8.767945\n",
       "2                      beds  8.776728\n",
       "3           guests_included  3.875833\n",
       "86   room_type_Private room  1.926956\n",
       "88  property_type_Apartment  2.424959"
      ]
     },
     "execution_count": 49,
     "metadata": {},
     "output_type": "execute_result"
    }
   ],
   "source": [
    "vif_data = pd.DataFrame()\n",
    "vif_data[\"feature\"] = X.columns\n",
    "  \n",
    "# calculating VIF for each feature\n",
    "vif_data[\"VIF\"] = [variance_inflation_factor(X.values, i)\n",
    "                          for i in range(len(X.columns))]\n",
    "  \n",
    "vif_data[vif_data['VIF']>1.5]"
   ]
  },
  {
   "cell_type": "code",
   "execution_count": 50,
   "id": "shaped-protest",
   "metadata": {},
   "outputs": [],
   "source": [
    "X.drop(columns=['bedrooms','guests_included','bathrooms'],inplace=True)"
   ]
  },
  {
   "cell_type": "code",
   "execution_count": 51,
   "id": "cordless-harvest",
   "metadata": {
    "scrolled": false
   },
   "outputs": [
    {
     "data": {
      "text/html": [
       "<table class=\"simpletable\">\n",
       "<caption>OLS Regression Results</caption>\n",
       "<tr>\n",
       "  <th>Dep. Variable:</th>          <td>price</td>      <th>  R-squared:         </th> <td>   0.511</td> \n",
       "</tr>\n",
       "<tr>\n",
       "  <th>Model:</th>                   <td>OLS</td>       <th>  Adj. R-squared:    </th> <td>   0.495</td> \n",
       "</tr>\n",
       "<tr>\n",
       "  <th>Method:</th>             <td>Least Squares</td>  <th>  F-statistic:       </th> <td>   31.88</td> \n",
       "</tr>\n",
       "<tr>\n",
       "  <th>Date:</th>             <td>Sun, 18 Jul 2021</td> <th>  Prob (F-statistic):</th>  <td>  0.00</td>  \n",
       "</tr>\n",
       "<tr>\n",
       "  <th>Time:</th>                 <td>19:02:11</td>     <th>  Log-Likelihood:    </th> <td> -15792.</td> \n",
       "</tr>\n",
       "<tr>\n",
       "  <th>No. Observations:</th>      <td>  3155</td>      <th>  AIC:               </th> <td>3.179e+04</td>\n",
       "</tr>\n",
       "<tr>\n",
       "  <th>Df Residuals:</th>          <td>  3054</td>      <th>  BIC:               </th> <td>3.240e+04</td>\n",
       "</tr>\n",
       "<tr>\n",
       "  <th>Df Model:</th>              <td>   100</td>      <th>                     </th>     <td> </td>    \n",
       "</tr>\n",
       "<tr>\n",
       "  <th>Covariance Type:</th>      <td>nonrobust</td>    <th>                     </th>     <td> </td>    \n",
       "</tr>\n",
       "</table>\n",
       "<table class=\"simpletable\">\n",
       "<tr>\n",
       "                     <td></td>                        <th>coef</th>     <th>std err</th>      <th>t</th>      <th>P>|t|</th>  <th>[0.025</th>    <th>0.975]</th>  \n",
       "</tr>\n",
       "<tr>\n",
       "  <th>beds</th>                                    <td>   19.9619</td> <td>    0.806</td> <td>   24.772</td> <td> 0.000</td> <td>   18.382</td> <td>   21.542</td>\n",
       "</tr>\n",
       "<tr>\n",
       "  <th>neighbourhood_Alki</th>                      <td>   16.1946</td> <td>    8.727</td> <td>    1.856</td> <td> 0.064</td> <td>   -0.916</td> <td>   33.306</td>\n",
       "</tr>\n",
       "<tr>\n",
       "  <th>neighbourhood_Arbor Heights</th>             <td>  -16.0557</td> <td>   21.328</td> <td>   -0.753</td> <td> 0.452</td> <td>  -57.873</td> <td>   25.762</td>\n",
       "</tr>\n",
       "<tr>\n",
       "  <th>neighbourhood_Atlantic</th>                  <td>  -17.5840</td> <td>    5.682</td> <td>   -3.095</td> <td> 0.002</td> <td>  -28.725</td> <td>   -6.443</td>\n",
       "</tr>\n",
       "<tr>\n",
       "  <th>neighbourhood_Ballard</th>                   <td>  -24.3991</td> <td>    3.419</td> <td>   -7.136</td> <td> 0.000</td> <td>  -31.103</td> <td>  -17.695</td>\n",
       "</tr>\n",
       "<tr>\n",
       "  <th>neighbourhood_Belltown</th>                  <td>    8.2224</td> <td>    3.424</td> <td>    2.401</td> <td> 0.016</td> <td>    1.509</td> <td>   14.936</td>\n",
       "</tr>\n",
       "<tr>\n",
       "  <th>neighbourhood_Bitter Lake</th>               <td>  -29.4186</td> <td>   10.426</td> <td>   -2.822</td> <td> 0.005</td> <td>  -49.862</td> <td>   -8.976</td>\n",
       "</tr>\n",
       "<tr>\n",
       "  <th>neighbourhood_Brighton</th>                  <td>  -38.8612</td> <td>   16.576</td> <td>   -2.344</td> <td> 0.019</td> <td>  -71.363</td> <td>   -6.360</td>\n",
       "</tr>\n",
       "<tr>\n",
       "  <th>neighbourhood_Broadview</th>                 <td>  -36.0208</td> <td>    9.451</td> <td>   -3.811</td> <td> 0.000</td> <td>  -54.552</td> <td>  -17.490</td>\n",
       "</tr>\n",
       "<tr>\n",
       "  <th>neighbourhood_Broadway</th>                  <td>   -6.5777</td> <td>   18.508</td> <td>   -0.355</td> <td> 0.722</td> <td>  -42.867</td> <td>   29.712</td>\n",
       "</tr>\n",
       "<tr>\n",
       "  <th>neighbourhood_Bryant</th>                    <td>  -25.6232</td> <td>    6.880</td> <td>   -3.724</td> <td> 0.000</td> <td>  -39.113</td> <td>  -12.133</td>\n",
       "</tr>\n",
       "<tr>\n",
       "  <th>neighbourhood_Cedar Park</th>                <td>  -24.8116</td> <td>   13.199</td> <td>   -1.880</td> <td> 0.060</td> <td>  -50.691</td> <td>    1.068</td>\n",
       "</tr>\n",
       "<tr>\n",
       "  <th>neighbourhood_Central Business District</th> <td>   10.4789</td> <td>    4.894</td> <td>    2.141</td> <td> 0.032</td> <td>    0.882</td> <td>   20.076</td>\n",
       "</tr>\n",
       "<tr>\n",
       "  <th>neighbourhood_Columbia City</th>             <td>  -32.2618</td> <td>    5.290</td> <td>   -6.099</td> <td> 0.000</td> <td>  -42.634</td> <td>  -21.890</td>\n",
       "</tr>\n",
       "<tr>\n",
       "  <th>neighbourhood_Crown Hill</th>                <td>  -51.0296</td> <td>    8.436</td> <td>   -6.049</td> <td> 0.000</td> <td>  -67.570</td> <td>  -34.489</td>\n",
       "</tr>\n",
       "<tr>\n",
       "  <th>neighbourhood_Dunlap</th>                    <td>  -28.3886</td> <td>   11.105</td> <td>   -2.556</td> <td> 0.011</td> <td>  -50.162</td> <td>   -6.615</td>\n",
       "</tr>\n",
       "<tr>\n",
       "  <th>neighbourhood_Eastlake</th>                  <td>   -8.5601</td> <td>    6.082</td> <td>   -1.407</td> <td> 0.159</td> <td>  -20.486</td> <td>    3.366</td>\n",
       "</tr>\n",
       "<tr>\n",
       "  <th>neighbourhood_Fauntleroy</th>                <td>  -20.3896</td> <td>   13.170</td> <td>   -1.548</td> <td> 0.122</td> <td>  -46.213</td> <td>    5.434</td>\n",
       "</tr>\n",
       "<tr>\n",
       "  <th>neighbourhood_First Hill</th>                <td>    8.4759</td> <td>    4.151</td> <td>    2.042</td> <td> 0.041</td> <td>    0.336</td> <td>   16.616</td>\n",
       "</tr>\n",
       "<tr>\n",
       "  <th>neighbourhood_Fremont</th>                   <td>  -14.6293</td> <td>    3.751</td> <td>   -3.900</td> <td> 0.000</td> <td>  -21.984</td> <td>   -7.275</td>\n",
       "</tr>\n",
       "<tr>\n",
       "  <th>neighbourhood_Gatewood</th>                  <td>   -3.6588</td> <td>    9.194</td> <td>   -0.398</td> <td> 0.691</td> <td>  -21.686</td> <td>   14.368</td>\n",
       "</tr>\n",
       "<tr>\n",
       "  <th>neighbourhood_Genesee</th>                   <td>  -18.8017</td> <td>    7.434</td> <td>   -2.529</td> <td> 0.011</td> <td>  -33.377</td> <td>   -4.226</td>\n",
       "</tr>\n",
       "<tr>\n",
       "  <th>neighbourhood_Georgetown</th>                <td>  -18.3392</td> <td>   14.181</td> <td>   -1.293</td> <td> 0.196</td> <td>  -46.144</td> <td>    9.465</td>\n",
       "</tr>\n",
       "<tr>\n",
       "  <th>neighbourhood_Green Lake</th>                <td>  -10.5370</td> <td>    5.827</td> <td>   -1.808</td> <td> 0.071</td> <td>  -21.962</td> <td>    0.888</td>\n",
       "</tr>\n",
       "<tr>\n",
       "  <th>neighbourhood_Greenwood</th>                 <td>  -34.1489</td> <td>    4.802</td> <td>   -7.112</td> <td> 0.000</td> <td>  -43.564</td> <td>  -24.734</td>\n",
       "</tr>\n",
       "<tr>\n",
       "  <th>neighbourhood_Haller Lake</th>               <td>  -38.2255</td> <td>   10.110</td> <td>   -3.781</td> <td> 0.000</td> <td>  -58.049</td> <td>  -18.402</td>\n",
       "</tr>\n",
       "<tr>\n",
       "  <th>neighbourhood_Harrison/Denny-Blaine</th>     <td>   -2.3372</td> <td>   10.401</td> <td>   -0.225</td> <td> 0.822</td> <td>  -22.731</td> <td>   18.057</td>\n",
       "</tr>\n",
       "<tr>\n",
       "  <th>neighbourhood_High Point</th>                <td>  -34.4790</td> <td>   11.927</td> <td>   -2.891</td> <td> 0.004</td> <td>  -57.864</td> <td>  -11.094</td>\n",
       "</tr>\n",
       "<tr>\n",
       "  <th>neighbourhood_Highland Park</th>             <td>  -35.0798</td> <td>   10.847</td> <td>   -3.234</td> <td> 0.001</td> <td>  -56.349</td> <td>  -13.811</td>\n",
       "</tr>\n",
       "<tr>\n",
       "  <th>neighbourhood_Holly Park</th>                <td>  -29.0351</td> <td>   15.217</td> <td>   -1.908</td> <td> 0.056</td> <td>  -58.871</td> <td>    0.801</td>\n",
       "</tr>\n",
       "<tr>\n",
       "  <th>neighbourhood_Industrial District</th>       <td>   53.4038</td> <td>   38.156</td> <td>    1.400</td> <td> 0.162</td> <td>  -21.409</td> <td>  128.217</td>\n",
       "</tr>\n",
       "<tr>\n",
       "  <th>neighbourhood_Interbay</th>                  <td>  -13.5659</td> <td>   14.280</td> <td>   -0.950</td> <td> 0.342</td> <td>  -41.565</td> <td>   14.433</td>\n",
       "</tr>\n",
       "<tr>\n",
       "  <th>neighbourhood_International District</th>    <td>    2.0403</td> <td>    9.247</td> <td>    0.221</td> <td> 0.825</td> <td>  -16.090</td> <td>   20.171</td>\n",
       "</tr>\n",
       "<tr>\n",
       "  <th>neighbourhood_Laurelhurst</th>               <td>  -11.2355</td> <td>   12.497</td> <td>   -0.899</td> <td> 0.369</td> <td>  -35.738</td> <td>   13.267</td>\n",
       "</tr>\n",
       "<tr>\n",
       "  <th>neighbourhood_Leschi</th>                    <td>  -18.9213</td> <td>    6.305</td> <td>   -3.001</td> <td> 0.003</td> <td>  -31.283</td> <td>   -6.560</td>\n",
       "</tr>\n",
       "<tr>\n",
       "  <th>neighbourhood_Licton Springs</th>            <td>  -20.8397</td> <td>   10.856</td> <td>   -1.920</td> <td> 0.055</td> <td>  -42.126</td> <td>    0.446</td>\n",
       "</tr>\n",
       "<tr>\n",
       "  <th>neighbourhood_Lower Queen Anne</th>          <td>   10.9958</td> <td>    4.638</td> <td>    2.371</td> <td> 0.018</td> <td>    1.902</td> <td>   20.090</td>\n",
       "</tr>\n",
       "<tr>\n",
       "  <th>neighbourhood_Madison Park</th>              <td>   10.1453</td> <td>   10.033</td> <td>    1.011</td> <td> 0.312</td> <td>   -9.527</td> <td>   29.818</td>\n",
       "</tr>\n",
       "<tr>\n",
       "  <th>neighbourhood_Madrona</th>                   <td>  -12.9359</td> <td>    6.587</td> <td>   -1.964</td> <td> 0.050</td> <td>  -25.851</td> <td>   -0.021</td>\n",
       "</tr>\n",
       "<tr>\n",
       "  <th>neighbourhood_Magnolia</th>                  <td>   -8.5476</td> <td>    5.863</td> <td>   -1.458</td> <td> 0.145</td> <td>  -20.043</td> <td>    2.948</td>\n",
       "</tr>\n",
       "<tr>\n",
       "  <th>neighbourhood_Maple Leaf</th>                <td>  -31.6030</td> <td>    6.341</td> <td>   -4.984</td> <td> 0.000</td> <td>  -44.037</td> <td>  -19.169</td>\n",
       "</tr>\n",
       "<tr>\n",
       "  <th>neighbourhood_Mathews Beach</th>             <td>  -20.4262</td> <td>    9.174</td> <td>   -2.227</td> <td> 0.026</td> <td>  -38.414</td> <td>   -2.438</td>\n",
       "</tr>\n",
       "<tr>\n",
       "  <th>neighbourhood_Meadowbrook</th>               <td>  -27.9446</td> <td>   12.503</td> <td>   -2.235</td> <td> 0.025</td> <td>  -52.459</td> <td>   -3.430</td>\n",
       "</tr>\n",
       "<tr>\n",
       "  <th>neighbourhood_Minor</th>                     <td>   -9.3374</td> <td>    3.496</td> <td>   -2.671</td> <td> 0.008</td> <td>  -16.193</td> <td>   -2.482</td>\n",
       "</tr>\n",
       "<tr>\n",
       "  <th>neighbourhood_Montlake</th>                  <td>   -6.0395</td> <td>    9.900</td> <td>   -0.610</td> <td> 0.542</td> <td>  -25.451</td> <td>   13.372</td>\n",
       "</tr>\n",
       "<tr>\n",
       "  <th>neighbourhood_Mount Baker</th>               <td>  -29.9887</td> <td>    5.947</td> <td>   -5.043</td> <td> 0.000</td> <td>  -41.648</td> <td>  -18.329</td>\n",
       "</tr>\n",
       "<tr>\n",
       "  <th>neighbourhood_North Admiral</th>             <td>  -11.7547</td> <td>    6.146</td> <td>   -1.913</td> <td> 0.056</td> <td>  -23.804</td> <td>    0.295</td>\n",
       "</tr>\n",
       "<tr>\n",
       "  <th>neighbourhood_North Beach/Blue Ridge</th>    <td>  -19.4143</td> <td>   11.889</td> <td>   -1.633</td> <td> 0.103</td> <td>  -42.726</td> <td>    3.898</td>\n",
       "</tr>\n",
       "<tr>\n",
       "  <th>neighbourhood_North Beacon Hill</th>         <td>  -31.2129</td> <td>    4.439</td> <td>   -7.032</td> <td> 0.000</td> <td>  -39.916</td> <td>  -22.510</td>\n",
       "</tr>\n",
       "<tr>\n",
       "  <th>neighbourhood_North Delridge</th>            <td>  -43.9431</td> <td>    7.397</td> <td>   -5.941</td> <td> 0.000</td> <td>  -58.446</td> <td>  -29.440</td>\n",
       "</tr>\n",
       "<tr>\n",
       "  <th>neighbourhood_Olympic Hills</th>             <td>  -39.7506</td> <td>   10.862</td> <td>   -3.660</td> <td> 0.000</td> <td>  -61.048</td> <td>  -18.453</td>\n",
       "</tr>\n",
       "<tr>\n",
       "  <th>neighbourhood_Phinney Ridge</th>             <td>  -21.7246</td> <td>    5.528</td> <td>   -3.930</td> <td> 0.000</td> <td>  -32.565</td> <td>  -10.885</td>\n",
       "</tr>\n",
       "<tr>\n",
       "  <th>neighbourhood_Pike Market</th>               <td>  -47.5364</td> <td>   26.038</td> <td>   -1.826</td> <td> 0.068</td> <td>  -98.590</td> <td>    3.517</td>\n",
       "</tr>\n",
       "<tr>\n",
       "  <th>neighbourhood_Pike Place Market</th>         <td>   15.3436</td> <td>    7.020</td> <td>    2.186</td> <td> 0.029</td> <td>    1.579</td> <td>   29.109</td>\n",
       "</tr>\n",
       "<tr>\n",
       "  <th>neighbourhood_Pinehurst</th>                 <td>    0.0479</td> <td>   21.292</td> <td>    0.002</td> <td> 0.998</td> <td>  -41.701</td> <td>   41.797</td>\n",
       "</tr>\n",
       "<tr>\n",
       "  <th>neighbourhood_Pioneer Square</th>            <td>   37.5747</td> <td>   10.090</td> <td>    3.724</td> <td> 0.000</td> <td>   17.791</td> <td>   57.358</td>\n",
       "</tr>\n",
       "<tr>\n",
       "  <th>neighbourhood_Portage Bay</th>               <td>    9.2297</td> <td>   11.803</td> <td>    0.782</td> <td> 0.434</td> <td>  -13.913</td> <td>   32.372</td>\n",
       "</tr>\n",
       "<tr>\n",
       "  <th>neighbourhood_Queen Anne</th>                <td>   -4.1721</td> <td>    3.585</td> <td>   -1.164</td> <td> 0.245</td> <td>  -11.201</td> <td>    2.857</td>\n",
       "</tr>\n",
       "<tr>\n",
       "  <th>neighbourhood_Rainier Beach</th>             <td>  -29.8437</td> <td>    9.006</td> <td>   -3.314</td> <td> 0.001</td> <td>  -47.502</td> <td>  -12.185</td>\n",
       "</tr>\n",
       "<tr>\n",
       "  <th>neighbourhood_Ravenna</th>                   <td>  -35.3741</td> <td>    5.412</td> <td>   -6.536</td> <td> 0.000</td> <td>  -45.985</td> <td>  -24.763</td>\n",
       "</tr>\n",
       "<tr>\n",
       "  <th>neighbourhood_Riverview</th>                 <td>  -48.6970</td> <td>   13.195</td> <td>   -3.691</td> <td> 0.000</td> <td>  -74.569</td> <td>  -22.825</td>\n",
       "</tr>\n",
       "<tr>\n",
       "  <th>neighbourhood_Roosevelt</th>                 <td>  -24.7482</td> <td>    7.405</td> <td>   -3.342</td> <td> 0.001</td> <td>  -39.267</td> <td>  -10.229</td>\n",
       "</tr>\n",
       "<tr>\n",
       "  <th>neighbourhood_Roxhill</th>                   <td>  -32.6764</td> <td>   36.787</td> <td>   -0.888</td> <td> 0.374</td> <td> -104.807</td> <td>   39.454</td>\n",
       "</tr>\n",
       "<tr>\n",
       "  <th>neighbourhood_Seaview</th>                   <td>  -13.0240</td> <td>   12.453</td> <td>   -1.046</td> <td> 0.296</td> <td>  -37.442</td> <td>   11.394</td>\n",
       "</tr>\n",
       "<tr>\n",
       "  <th>neighbourhood_Seward Park</th>               <td>  -45.7912</td> <td>    7.078</td> <td>   -6.470</td> <td> 0.000</td> <td>  -59.669</td> <td>  -31.914</td>\n",
       "</tr>\n",
       "<tr>\n",
       "  <th>neighbourhood_South Beacon Hill</th>         <td>  -37.2453</td> <td>   26.076</td> <td>   -1.428</td> <td> 0.153</td> <td>  -88.374</td> <td>   13.884</td>\n",
       "</tr>\n",
       "<tr>\n",
       "  <th>neighbourhood_South Delridge</th>            <td>  -53.2857</td> <td>   14.096</td> <td>   -3.780</td> <td> 0.000</td> <td>  -80.923</td> <td>  -25.648</td>\n",
       "</tr>\n",
       "<tr>\n",
       "  <th>neighbourhood_South Lake Union</th>          <td>   21.3349</td> <td>    8.476</td> <td>    2.517</td> <td> 0.012</td> <td>    4.716</td> <td>   37.953</td>\n",
       "</tr>\n",
       "<tr>\n",
       "  <th>neighbourhood_South Park</th>                <td>  -72.2073</td> <td>   26.088</td> <td>   -2.768</td> <td> 0.006</td> <td> -123.358</td> <td>  -21.056</td>\n",
       "</tr>\n",
       "<tr>\n",
       "  <th>neighbourhood_Stevens</th>                   <td>   -5.2971</td> <td>    4.443</td> <td>   -1.192</td> <td> 0.233</td> <td>  -14.008</td> <td>    3.414</td>\n",
       "</tr>\n",
       "<tr>\n",
       "  <th>neighbourhood_The Junction</th>              <td>  -26.4051</td> <td>    6.683</td> <td>   -3.951</td> <td> 0.000</td> <td>  -39.509</td> <td>  -13.301</td>\n",
       "</tr>\n",
       "<tr>\n",
       "  <th>neighbourhood_University District</th>       <td>  -30.3985</td> <td>    4.159</td> <td>   -7.308</td> <td> 0.000</td> <td>  -38.554</td> <td>  -22.243</td>\n",
       "</tr>\n",
       "<tr>\n",
       "  <th>neighbourhood_Victory Heights</th>           <td>  -27.6778</td> <td>   10.441</td> <td>   -2.651</td> <td> 0.008</td> <td>  -48.150</td> <td>   -7.205</td>\n",
       "</tr>\n",
       "<tr>\n",
       "  <th>neighbourhood_View Ridge</th>                <td>   -0.5502</td> <td>   15.192</td> <td>   -0.036</td> <td> 0.971</td> <td>  -30.337</td> <td>   29.237</td>\n",
       "</tr>\n",
       "<tr>\n",
       "  <th>neighbourhood_Wallingford</th>               <td>  -16.3223</td> <td>    3.855</td> <td>   -4.234</td> <td> 0.000</td> <td>  -23.881</td> <td>   -8.764</td>\n",
       "</tr>\n",
       "<tr>\n",
       "  <th>neighbourhood_Wedgewood</th>                 <td>  -24.6800</td> <td>   10.094</td> <td>   -2.445</td> <td> 0.015</td> <td>  -44.472</td> <td>   -4.888</td>\n",
       "</tr>\n",
       "<tr>\n",
       "  <th>neighbourhood_Westlake</th>                  <td>   14.2953</td> <td>   11.956</td> <td>    1.196</td> <td> 0.232</td> <td>   -9.148</td> <td>   37.738</td>\n",
       "</tr>\n",
       "<tr>\n",
       "  <th>neighbourhood_Windermere</th>                <td>    6.7371</td> <td>   13.143</td> <td>    0.513</td> <td> 0.608</td> <td>  -19.033</td> <td>   32.508</td>\n",
       "</tr>\n",
       "<tr>\n",
       "  <th>neighbourhood_Yesler Terrace</th>            <td>   20.3382</td> <td>   10.812</td> <td>    1.881</td> <td> 0.060</td> <td>   -0.861</td> <td>   41.537</td>\n",
       "</tr>\n",
       "<tr>\n",
       "  <th>bed_type_Airbed</th>                         <td>   -8.9593</td> <td>    8.327</td> <td>   -1.076</td> <td> 0.282</td> <td>  -25.287</td> <td>    7.368</td>\n",
       "</tr>\n",
       "<tr>\n",
       "  <th>bed_type_Couch</th>                          <td>    7.7143</td> <td>   11.697</td> <td>    0.659</td> <td> 0.510</td> <td>  -15.221</td> <td>   30.650</td>\n",
       "</tr>\n",
       "<tr>\n",
       "  <th>bed_type_Futon</th>                          <td>   -4.1066</td> <td>    4.608</td> <td>   -0.891</td> <td> 0.373</td> <td>  -13.142</td> <td>    4.929</td>\n",
       "</tr>\n",
       "<tr>\n",
       "  <th>bed_type_Pull-out Sofa</th>                  <td>   -8.6557</td> <td>    5.836</td> <td>   -1.483</td> <td> 0.138</td> <td>  -20.099</td> <td>    2.788</td>\n",
       "</tr>\n",
       "<tr>\n",
       "  <th>room_type_Private room</th>                  <td>  -42.1070</td> <td>    1.777</td> <td>  -23.699</td> <td> 0.000</td> <td>  -45.591</td> <td>  -38.623</td>\n",
       "</tr>\n",
       "<tr>\n",
       "  <th>room_type_Shared room</th>                   <td>  -72.8652</td> <td>    4.221</td> <td>  -17.264</td> <td> 0.000</td> <td>  -81.141</td> <td>  -64.590</td>\n",
       "</tr>\n",
       "<tr>\n",
       "  <th>property_type_Apartment</th>                 <td>  -15.2089</td> <td>    1.811</td> <td>   -8.398</td> <td> 0.000</td> <td>  -18.760</td> <td>  -11.658</td>\n",
       "</tr>\n",
       "<tr>\n",
       "  <th>property_type_Bed & Breakfast</th>           <td>   27.0224</td> <td>    6.580</td> <td>    4.107</td> <td> 0.000</td> <td>   14.121</td> <td>   39.924</td>\n",
       "</tr>\n",
       "<tr>\n",
       "  <th>property_type_Boat</th>                      <td>   20.1413</td> <td>   17.111</td> <td>    1.177</td> <td> 0.239</td> <td>  -13.409</td> <td>   53.692</td>\n",
       "</tr>\n",
       "<tr>\n",
       "  <th>property_type_Bungalow</th>                  <td>  -21.9635</td> <td>   11.239</td> <td>   -1.954</td> <td> 0.051</td> <td>  -44.001</td> <td>    0.074</td>\n",
       "</tr>\n",
       "<tr>\n",
       "  <th>property_type_Cabin</th>                     <td>  -20.7861</td> <td>    8.632</td> <td>   -2.408</td> <td> 0.016</td> <td>  -37.712</td> <td>   -3.860</td>\n",
       "</tr>\n",
       "<tr>\n",
       "  <th>property_type_Camper/RV</th>                 <td>  -33.9942</td> <td>   13.137</td> <td>   -2.588</td> <td> 0.010</td> <td>  -59.752</td> <td>   -8.236</td>\n",
       "</tr>\n",
       "<tr>\n",
       "  <th>property_type_Chalet</th>                    <td>  -27.9525</td> <td>   37.162</td> <td>   -0.752</td> <td> 0.452</td> <td> -100.817</td> <td>   44.912</td>\n",
       "</tr>\n",
       "<tr>\n",
       "  <th>property_type_Condominium</th>               <td>  -10.4617</td> <td>    4.581</td> <td>   -2.284</td> <td> 0.022</td> <td>  -19.444</td> <td>   -1.479</td>\n",
       "</tr>\n",
       "<tr>\n",
       "  <th>property_type_Dorm</th>                      <td> -177.4953</td> <td>   27.679</td> <td>   -6.413</td> <td> 0.000</td> <td> -231.766</td> <td> -123.224</td>\n",
       "</tr>\n",
       "<tr>\n",
       "  <th>property_type_Loft</th>                      <td>   -7.4248</td> <td>    6.748</td> <td>   -1.100</td> <td> 0.271</td> <td>  -20.656</td> <td>    5.807</td>\n",
       "</tr>\n",
       "<tr>\n",
       "  <th>property_type_Other</th>                     <td>  -16.0421</td> <td>   10.125</td> <td>   -1.584</td> <td> 0.113</td> <td>  -35.894</td> <td>    3.810</td>\n",
       "</tr>\n",
       "<tr>\n",
       "  <th>property_type_Tent</th>                      <td>  -28.5200</td> <td>   17.378</td> <td>   -1.641</td> <td> 0.101</td> <td>  -62.593</td> <td>    5.553</td>\n",
       "</tr>\n",
       "<tr>\n",
       "  <th>property_type_Townhouse</th>                 <td>    5.5606</td> <td>    3.998</td> <td>    1.391</td> <td> 0.164</td> <td>   -2.279</td> <td>   13.400</td>\n",
       "</tr>\n",
       "<tr>\n",
       "  <th>property_type_Treehouse</th>                 <td>   27.4842</td> <td>   26.995</td> <td>    1.018</td> <td> 0.309</td> <td>  -25.445</td> <td>   80.414</td>\n",
       "</tr>\n",
       "<tr>\n",
       "  <th>property_type_Yurt</th>                      <td>  -42.9906</td> <td>   37.162</td> <td>   -1.157</td> <td> 0.247</td> <td> -115.855</td> <td>   29.874</td>\n",
       "</tr>\n",
       "<tr>\n",
       "  <th>intercept</th>                               <td>  114.8215</td> <td>    3.037</td> <td>   37.809</td> <td> 0.000</td> <td>  108.867</td> <td>  120.776</td>\n",
       "</tr>\n",
       "</table>\n",
       "<table class=\"simpletable\">\n",
       "<tr>\n",
       "  <th>Omnibus:</th>       <td>305.478</td> <th>  Durbin-Watson:     </th> <td>   2.019</td>\n",
       "</tr>\n",
       "<tr>\n",
       "  <th>Prob(Omnibus):</th> <td> 0.000</td>  <th>  Jarque-Bera (JB):  </th> <td> 437.908</td>\n",
       "</tr>\n",
       "<tr>\n",
       "  <th>Skew:</th>          <td> 0.753</td>  <th>  Prob(JB):          </th> <td>8.12e-96</td>\n",
       "</tr>\n",
       "<tr>\n",
       "  <th>Kurtosis:</th>      <td> 4.032</td>  <th>  Cond. No.          </th> <td>    125.</td>\n",
       "</tr>\n",
       "</table><br/><br/>Notes:<br/>[1] Standard Errors assume that the covariance matrix of the errors is correctly specified."
      ],
      "text/plain": [
       "<class 'statsmodels.iolib.summary.Summary'>\n",
       "\"\"\"\n",
       "                            OLS Regression Results                            \n",
       "==============================================================================\n",
       "Dep. Variable:                  price   R-squared:                       0.511\n",
       "Model:                            OLS   Adj. R-squared:                  0.495\n",
       "Method:                 Least Squares   F-statistic:                     31.88\n",
       "Date:                Sun, 18 Jul 2021   Prob (F-statistic):               0.00\n",
       "Time:                        19:02:11   Log-Likelihood:                -15792.\n",
       "No. Observations:                3155   AIC:                         3.179e+04\n",
       "Df Residuals:                    3054   BIC:                         3.240e+04\n",
       "Df Model:                         100                                         \n",
       "Covariance Type:            nonrobust                                         \n",
       "===========================================================================================================\n",
       "                                              coef    std err          t      P>|t|      [0.025      0.975]\n",
       "-----------------------------------------------------------------------------------------------------------\n",
       "beds                                       19.9619      0.806     24.772      0.000      18.382      21.542\n",
       "neighbourhood_Alki                         16.1946      8.727      1.856      0.064      -0.916      33.306\n",
       "neighbourhood_Arbor Heights               -16.0557     21.328     -0.753      0.452     -57.873      25.762\n",
       "neighbourhood_Atlantic                    -17.5840      5.682     -3.095      0.002     -28.725      -6.443\n",
       "neighbourhood_Ballard                     -24.3991      3.419     -7.136      0.000     -31.103     -17.695\n",
       "neighbourhood_Belltown                      8.2224      3.424      2.401      0.016       1.509      14.936\n",
       "neighbourhood_Bitter Lake                 -29.4186     10.426     -2.822      0.005     -49.862      -8.976\n",
       "neighbourhood_Brighton                    -38.8612     16.576     -2.344      0.019     -71.363      -6.360\n",
       "neighbourhood_Broadview                   -36.0208      9.451     -3.811      0.000     -54.552     -17.490\n",
       "neighbourhood_Broadway                     -6.5777     18.508     -0.355      0.722     -42.867      29.712\n",
       "neighbourhood_Bryant                      -25.6232      6.880     -3.724      0.000     -39.113     -12.133\n",
       "neighbourhood_Cedar Park                  -24.8116     13.199     -1.880      0.060     -50.691       1.068\n",
       "neighbourhood_Central Business District    10.4789      4.894      2.141      0.032       0.882      20.076\n",
       "neighbourhood_Columbia City               -32.2618      5.290     -6.099      0.000     -42.634     -21.890\n",
       "neighbourhood_Crown Hill                  -51.0296      8.436     -6.049      0.000     -67.570     -34.489\n",
       "neighbourhood_Dunlap                      -28.3886     11.105     -2.556      0.011     -50.162      -6.615\n",
       "neighbourhood_Eastlake                     -8.5601      6.082     -1.407      0.159     -20.486       3.366\n",
       "neighbourhood_Fauntleroy                  -20.3896     13.170     -1.548      0.122     -46.213       5.434\n",
       "neighbourhood_First Hill                    8.4759      4.151      2.042      0.041       0.336      16.616\n",
       "neighbourhood_Fremont                     -14.6293      3.751     -3.900      0.000     -21.984      -7.275\n",
       "neighbourhood_Gatewood                     -3.6588      9.194     -0.398      0.691     -21.686      14.368\n",
       "neighbourhood_Genesee                     -18.8017      7.434     -2.529      0.011     -33.377      -4.226\n",
       "neighbourhood_Georgetown                  -18.3392     14.181     -1.293      0.196     -46.144       9.465\n",
       "neighbourhood_Green Lake                  -10.5370      5.827     -1.808      0.071     -21.962       0.888\n",
       "neighbourhood_Greenwood                   -34.1489      4.802     -7.112      0.000     -43.564     -24.734\n",
       "neighbourhood_Haller Lake                 -38.2255     10.110     -3.781      0.000     -58.049     -18.402\n",
       "neighbourhood_Harrison/Denny-Blaine        -2.3372     10.401     -0.225      0.822     -22.731      18.057\n",
       "neighbourhood_High Point                  -34.4790     11.927     -2.891      0.004     -57.864     -11.094\n",
       "neighbourhood_Highland Park               -35.0798     10.847     -3.234      0.001     -56.349     -13.811\n",
       "neighbourhood_Holly Park                  -29.0351     15.217     -1.908      0.056     -58.871       0.801\n",
       "neighbourhood_Industrial District          53.4038     38.156      1.400      0.162     -21.409     128.217\n",
       "neighbourhood_Interbay                    -13.5659     14.280     -0.950      0.342     -41.565      14.433\n",
       "neighbourhood_International District        2.0403      9.247      0.221      0.825     -16.090      20.171\n",
       "neighbourhood_Laurelhurst                 -11.2355     12.497     -0.899      0.369     -35.738      13.267\n",
       "neighbourhood_Leschi                      -18.9213      6.305     -3.001      0.003     -31.283      -6.560\n",
       "neighbourhood_Licton Springs              -20.8397     10.856     -1.920      0.055     -42.126       0.446\n",
       "neighbourhood_Lower Queen Anne             10.9958      4.638      2.371      0.018       1.902      20.090\n",
       "neighbourhood_Madison Park                 10.1453     10.033      1.011      0.312      -9.527      29.818\n",
       "neighbourhood_Madrona                     -12.9359      6.587     -1.964      0.050     -25.851      -0.021\n",
       "neighbourhood_Magnolia                     -8.5476      5.863     -1.458      0.145     -20.043       2.948\n",
       "neighbourhood_Maple Leaf                  -31.6030      6.341     -4.984      0.000     -44.037     -19.169\n",
       "neighbourhood_Mathews Beach               -20.4262      9.174     -2.227      0.026     -38.414      -2.438\n",
       "neighbourhood_Meadowbrook                 -27.9446     12.503     -2.235      0.025     -52.459      -3.430\n",
       "neighbourhood_Minor                        -9.3374      3.496     -2.671      0.008     -16.193      -2.482\n",
       "neighbourhood_Montlake                     -6.0395      9.900     -0.610      0.542     -25.451      13.372\n",
       "neighbourhood_Mount Baker                 -29.9887      5.947     -5.043      0.000     -41.648     -18.329\n",
       "neighbourhood_North Admiral               -11.7547      6.146     -1.913      0.056     -23.804       0.295\n",
       "neighbourhood_North Beach/Blue Ridge      -19.4143     11.889     -1.633      0.103     -42.726       3.898\n",
       "neighbourhood_North Beacon Hill           -31.2129      4.439     -7.032      0.000     -39.916     -22.510\n",
       "neighbourhood_North Delridge              -43.9431      7.397     -5.941      0.000     -58.446     -29.440\n",
       "neighbourhood_Olympic Hills               -39.7506     10.862     -3.660      0.000     -61.048     -18.453\n",
       "neighbourhood_Phinney Ridge               -21.7246      5.528     -3.930      0.000     -32.565     -10.885\n",
       "neighbourhood_Pike Market                 -47.5364     26.038     -1.826      0.068     -98.590       3.517\n",
       "neighbourhood_Pike Place Market            15.3436      7.020      2.186      0.029       1.579      29.109\n",
       "neighbourhood_Pinehurst                     0.0479     21.292      0.002      0.998     -41.701      41.797\n",
       "neighbourhood_Pioneer Square               37.5747     10.090      3.724      0.000      17.791      57.358\n",
       "neighbourhood_Portage Bay                   9.2297     11.803      0.782      0.434     -13.913      32.372\n",
       "neighbourhood_Queen Anne                   -4.1721      3.585     -1.164      0.245     -11.201       2.857\n",
       "neighbourhood_Rainier Beach               -29.8437      9.006     -3.314      0.001     -47.502     -12.185\n",
       "neighbourhood_Ravenna                     -35.3741      5.412     -6.536      0.000     -45.985     -24.763\n",
       "neighbourhood_Riverview                   -48.6970     13.195     -3.691      0.000     -74.569     -22.825\n",
       "neighbourhood_Roosevelt                   -24.7482      7.405     -3.342      0.001     -39.267     -10.229\n",
       "neighbourhood_Roxhill                     -32.6764     36.787     -0.888      0.374    -104.807      39.454\n",
       "neighbourhood_Seaview                     -13.0240     12.453     -1.046      0.296     -37.442      11.394\n",
       "neighbourhood_Seward Park                 -45.7912      7.078     -6.470      0.000     -59.669     -31.914\n",
       "neighbourhood_South Beacon Hill           -37.2453     26.076     -1.428      0.153     -88.374      13.884\n",
       "neighbourhood_South Delridge              -53.2857     14.096     -3.780      0.000     -80.923     -25.648\n",
       "neighbourhood_South Lake Union             21.3349      8.476      2.517      0.012       4.716      37.953\n",
       "neighbourhood_South Park                  -72.2073     26.088     -2.768      0.006    -123.358     -21.056\n",
       "neighbourhood_Stevens                      -5.2971      4.443     -1.192      0.233     -14.008       3.414\n",
       "neighbourhood_The Junction                -26.4051      6.683     -3.951      0.000     -39.509     -13.301\n",
       "neighbourhood_University District         -30.3985      4.159     -7.308      0.000     -38.554     -22.243\n",
       "neighbourhood_Victory Heights             -27.6778     10.441     -2.651      0.008     -48.150      -7.205\n",
       "neighbourhood_View Ridge                   -0.5502     15.192     -0.036      0.971     -30.337      29.237\n",
       "neighbourhood_Wallingford                 -16.3223      3.855     -4.234      0.000     -23.881      -8.764\n",
       "neighbourhood_Wedgewood                   -24.6800     10.094     -2.445      0.015     -44.472      -4.888\n",
       "neighbourhood_Westlake                     14.2953     11.956      1.196      0.232      -9.148      37.738\n",
       "neighbourhood_Windermere                    6.7371     13.143      0.513      0.608     -19.033      32.508\n",
       "neighbourhood_Yesler Terrace               20.3382     10.812      1.881      0.060      -0.861      41.537\n",
       "bed_type_Airbed                            -8.9593      8.327     -1.076      0.282     -25.287       7.368\n",
       "bed_type_Couch                              7.7143     11.697      0.659      0.510     -15.221      30.650\n",
       "bed_type_Futon                             -4.1066      4.608     -0.891      0.373     -13.142       4.929\n",
       "bed_type_Pull-out Sofa                     -8.6557      5.836     -1.483      0.138     -20.099       2.788\n",
       "room_type_Private room                    -42.1070      1.777    -23.699      0.000     -45.591     -38.623\n",
       "room_type_Shared room                     -72.8652      4.221    -17.264      0.000     -81.141     -64.590\n",
       "property_type_Apartment                   -15.2089      1.811     -8.398      0.000     -18.760     -11.658\n",
       "property_type_Bed & Breakfast              27.0224      6.580      4.107      0.000      14.121      39.924\n",
       "property_type_Boat                         20.1413     17.111      1.177      0.239     -13.409      53.692\n",
       "property_type_Bungalow                    -21.9635     11.239     -1.954      0.051     -44.001       0.074\n",
       "property_type_Cabin                       -20.7861      8.632     -2.408      0.016     -37.712      -3.860\n",
       "property_type_Camper/RV                   -33.9942     13.137     -2.588      0.010     -59.752      -8.236\n",
       "property_type_Chalet                      -27.9525     37.162     -0.752      0.452    -100.817      44.912\n",
       "property_type_Condominium                 -10.4617      4.581     -2.284      0.022     -19.444      -1.479\n",
       "property_type_Dorm                       -177.4953     27.679     -6.413      0.000    -231.766    -123.224\n",
       "property_type_Loft                         -7.4248      6.748     -1.100      0.271     -20.656       5.807\n",
       "property_type_Other                       -16.0421     10.125     -1.584      0.113     -35.894       3.810\n",
       "property_type_Tent                        -28.5200     17.378     -1.641      0.101     -62.593       5.553\n",
       "property_type_Townhouse                     5.5606      3.998      1.391      0.164      -2.279      13.400\n",
       "property_type_Treehouse                    27.4842     26.995      1.018      0.309     -25.445      80.414\n",
       "property_type_Yurt                        -42.9906     37.162     -1.157      0.247    -115.855      29.874\n",
       "intercept                                 114.8215      3.037     37.809      0.000     108.867     120.776\n",
       "==============================================================================\n",
       "Omnibus:                      305.478   Durbin-Watson:                   2.019\n",
       "Prob(Omnibus):                  0.000   Jarque-Bera (JB):              437.908\n",
       "Skew:                           0.753   Prob(JB):                     8.12e-96\n",
       "Kurtosis:                       4.032   Cond. No.                         125.\n",
       "==============================================================================\n",
       "\n",
       "Notes:\n",
       "[1] Standard Errors assume that the covariance matrix of the errors is correctly specified.\n",
       "\"\"\""
      ]
     },
     "execution_count": 51,
     "metadata": {},
     "output_type": "execute_result"
    }
   ],
   "source": [
    "#Intercept\n",
    "X['intercept']=1\n",
    "\n",
    "model=sm.OLS(y,X)\n",
    "\n",
    "results=model.fit()\n",
    "results.summary()"
   ]
  },
  {
   "cell_type": "markdown",
   "id": "adjusted-coalition",
   "metadata": {},
   "source": [
    "This dataset contains a lot of columns and such it has a lot of independent variables. We will keep only significant featurs so  We will pick columns with p values less than 5%"
   ]
  },
  {
   "cell_type": "code",
   "execution_count": 52,
   "id": "upper-passion",
   "metadata": {
    "scrolled": false
   },
   "outputs": [
    {
     "data": {
      "text/html": [
       "<table class=\"simpletable\">\n",
       "<caption>OLS Regression Results</caption>\n",
       "<tr>\n",
       "  <th>Dep. Variable:</th>          <td>price</td>      <th>  R-squared:         </th> <td>   0.499</td> \n",
       "</tr>\n",
       "<tr>\n",
       "  <th>Model:</th>                   <td>OLS</td>       <th>  Adj. R-squared:    </th> <td>   0.491</td> \n",
       "</tr>\n",
       "<tr>\n",
       "  <th>Method:</th>             <td>Least Squares</td>  <th>  F-statistic:       </th> <td>   57.27</td> \n",
       "</tr>\n",
       "<tr>\n",
       "  <th>Date:</th>             <td>Sun, 18 Jul 2021</td> <th>  Prob (F-statistic):</th>  <td>  0.00</td>  \n",
       "</tr>\n",
       "<tr>\n",
       "  <th>Time:</th>                 <td>19:02:21</td>     <th>  Log-Likelihood:    </th> <td> -15828.</td> \n",
       "</tr>\n",
       "<tr>\n",
       "  <th>No. Observations:</th>      <td>  3155</td>      <th>  AIC:               </th> <td>3.177e+04</td>\n",
       "</tr>\n",
       "<tr>\n",
       "  <th>Df Residuals:</th>          <td>  3100</td>      <th>  BIC:               </th> <td>3.210e+04</td>\n",
       "</tr>\n",
       "<tr>\n",
       "  <th>Df Model:</th>              <td>    54</td>      <th>                     </th>     <td> </td>    \n",
       "</tr>\n",
       "<tr>\n",
       "  <th>Covariance Type:</th>      <td>nonrobust</td>    <th>                     </th>     <td> </td>    \n",
       "</tr>\n",
       "</table>\n",
       "<table class=\"simpletable\">\n",
       "<tr>\n",
       "                     <td></td>                        <th>coef</th>     <th>std err</th>      <th>t</th>      <th>P>|t|</th>  <th>[0.025</th>    <th>0.975]</th>  \n",
       "</tr>\n",
       "<tr>\n",
       "  <th>beds</th>                                    <td>   20.1170</td> <td>    0.797</td> <td>   25.230</td> <td> 0.000</td> <td>   18.554</td> <td>   21.680</td>\n",
       "</tr>\n",
       "<tr>\n",
       "  <th>neighbourhood_Atlantic</th>                  <td>  -13.6800</td> <td>    5.411</td> <td>   -2.528</td> <td> 0.012</td> <td>  -24.290</td> <td>   -3.070</td>\n",
       "</tr>\n",
       "<tr>\n",
       "  <th>neighbourhood_Ballard</th>                   <td>  -20.2066</td> <td>    2.916</td> <td>   -6.929</td> <td> 0.000</td> <td>  -25.924</td> <td>  -14.489</td>\n",
       "</tr>\n",
       "<tr>\n",
       "  <th>neighbourhood_Belltown</th>                  <td>   11.0518</td> <td>    3.044</td> <td>    3.630</td> <td> 0.000</td> <td>    5.082</td> <td>   17.021</td>\n",
       "</tr>\n",
       "<tr>\n",
       "  <th>neighbourhood_Bitter Lake</th>               <td>  -24.8496</td> <td>   10.309</td> <td>   -2.410</td> <td> 0.016</td> <td>  -45.063</td> <td>   -4.636</td>\n",
       "</tr>\n",
       "<tr>\n",
       "  <th>neighbourhood_Brighton</th>                  <td>  -35.3596</td> <td>   16.533</td> <td>   -2.139</td> <td> 0.033</td> <td>  -67.777</td> <td>   -2.943</td>\n",
       "</tr>\n",
       "<tr>\n",
       "  <th>neighbourhood_Broadview</th>                 <td>  -31.5061</td> <td>    9.310</td> <td>   -3.384</td> <td> 0.001</td> <td>  -49.760</td> <td>  -13.252</td>\n",
       "</tr>\n",
       "<tr>\n",
       "  <th>neighbourhood_Bryant</th>                    <td>  -21.6847</td> <td>    6.651</td> <td>   -3.260</td> <td> 0.001</td> <td>  -34.725</td> <td>   -8.644</td>\n",
       "</tr>\n",
       "<tr>\n",
       "  <th>neighbourhood_Central Business District</th> <td>   12.8016</td> <td>    4.641</td> <td>    2.758</td> <td> 0.006</td> <td>    3.702</td> <td>   21.902</td>\n",
       "</tr>\n",
       "<tr>\n",
       "  <th>neighbourhood_Columbia City</th>             <td>  -27.9631</td> <td>    4.983</td> <td>   -5.612</td> <td> 0.000</td> <td>  -37.733</td> <td>  -18.193</td>\n",
       "</tr>\n",
       "<tr>\n",
       "  <th>neighbourhood_Crown Hill</th>                <td>  -44.9701</td> <td>    8.207</td> <td>   -5.479</td> <td> 0.000</td> <td>  -61.062</td> <td>  -28.878</td>\n",
       "</tr>\n",
       "<tr>\n",
       "  <th>neighbourhood_Dunlap</th>                    <td>  -20.7134</td> <td>   10.734</td> <td>   -1.930</td> <td> 0.054</td> <td>  -41.760</td> <td>    0.333</td>\n",
       "</tr>\n",
       "<tr>\n",
       "  <th>neighbourhood_First Hill</th>                <td>   11.2821</td> <td>    3.863</td> <td>    2.921</td> <td> 0.004</td> <td>    3.708</td> <td>   18.856</td>\n",
       "</tr>\n",
       "<tr>\n",
       "  <th>neighbourhood_Fremont</th>                   <td>  -10.5994</td> <td>    3.357</td> <td>   -3.157</td> <td> 0.002</td> <td>  -17.181</td> <td>   -4.017</td>\n",
       "</tr>\n",
       "<tr>\n",
       "  <th>neighbourhood_Genesee</th>                   <td>  -14.4616</td> <td>    7.221</td> <td>   -2.003</td> <td> 0.045</td> <td>  -28.620</td> <td>   -0.303</td>\n",
       "</tr>\n",
       "<tr>\n",
       "  <th>neighbourhood_Greenwood</th>                 <td>  -30.4003</td> <td>    4.466</td> <td>   -6.807</td> <td> 0.000</td> <td>  -39.157</td> <td>  -21.644</td>\n",
       "</tr>\n",
       "<tr>\n",
       "  <th>neighbourhood_Haller Lake</th>               <td>  -33.0695</td> <td>    9.975</td> <td>   -3.315</td> <td> 0.001</td> <td>  -52.628</td> <td>  -13.511</td>\n",
       "</tr>\n",
       "<tr>\n",
       "  <th>neighbourhood_High Point</th>                <td>  -27.4958</td> <td>   11.753</td> <td>   -2.339</td> <td> 0.019</td> <td>  -50.541</td> <td>   -4.451</td>\n",
       "</tr>\n",
       "<tr>\n",
       "  <th>neighbourhood_Highland Park</th>             <td>  -29.6751</td> <td>   10.730</td> <td>   -2.766</td> <td> 0.006</td> <td>  -50.714</td> <td>   -8.636</td>\n",
       "</tr>\n",
       "<tr>\n",
       "  <th>neighbourhood_Leschi</th>                    <td>  -13.8459</td> <td>    6.042</td> <td>   -2.292</td> <td> 0.022</td> <td>  -25.693</td> <td>   -1.999</td>\n",
       "</tr>\n",
       "<tr>\n",
       "  <th>neighbourhood_Lower Queen Anne</th>          <td>   14.5560</td> <td>    4.366</td> <td>    3.334</td> <td> 0.001</td> <td>    5.995</td> <td>   23.117</td>\n",
       "</tr>\n",
       "<tr>\n",
       "  <th>neighbourhood_Madrona</th>                   <td>   -9.5211</td> <td>    6.355</td> <td>   -1.498</td> <td> 0.134</td> <td>  -21.981</td> <td>    2.939</td>\n",
       "</tr>\n",
       "<tr>\n",
       "  <th>neighbourhood_Maple Leaf</th>                <td>  -29.3051</td> <td>    6.103</td> <td>   -4.802</td> <td> 0.000</td> <td>  -41.271</td> <td>  -17.339</td>\n",
       "</tr>\n",
       "<tr>\n",
       "  <th>neighbourhood_Mathews Beach</th>             <td>  -15.8250</td> <td>    9.029</td> <td>   -1.753</td> <td> 0.080</td> <td>  -33.529</td> <td>    1.879</td>\n",
       "</tr>\n",
       "<tr>\n",
       "  <th>neighbourhood_Meadowbrook</th>               <td>  -23.3599</td> <td>   12.398</td> <td>   -1.884</td> <td> 0.060</td> <td>  -47.669</td> <td>    0.949</td>\n",
       "</tr>\n",
       "<tr>\n",
       "  <th>neighbourhood_Minor</th>                     <td>   -5.0181</td> <td>    3.030</td> <td>   -1.656</td> <td> 0.098</td> <td>  -10.960</td> <td>    0.924</td>\n",
       "</tr>\n",
       "<tr>\n",
       "  <th>neighbourhood_Mount Baker</th>               <td>  -25.8593</td> <td>    5.698</td> <td>   -4.538</td> <td> 0.000</td> <td>  -37.031</td> <td>  -14.687</td>\n",
       "</tr>\n",
       "<tr>\n",
       "  <th>neighbourhood_North Beacon Hill</th>         <td>  -28.0172</td> <td>    4.036</td> <td>   -6.942</td> <td> 0.000</td> <td>  -35.931</td> <td>  -20.103</td>\n",
       "</tr>\n",
       "<tr>\n",
       "  <th>neighbourhood_North Delridge</th>            <td>  -39.1616</td> <td>    7.205</td> <td>   -5.436</td> <td> 0.000</td> <td>  -53.288</td> <td>  -25.035</td>\n",
       "</tr>\n",
       "<tr>\n",
       "  <th>neighbourhood_Olympic Hills</th>             <td>  -34.9241</td> <td>   10.743</td> <td>   -3.251</td> <td> 0.001</td> <td>  -55.988</td> <td>  -13.860</td>\n",
       "</tr>\n",
       "<tr>\n",
       "  <th>neighbourhood_Phinney Ridge</th>             <td>  -17.8090</td> <td>    5.256</td> <td>   -3.388</td> <td> 0.001</td> <td>  -28.115</td> <td>   -7.503</td>\n",
       "</tr>\n",
       "<tr>\n",
       "  <th>neighbourhood_Pike Place Market</th>         <td>   18.4417</td> <td>    6.872</td> <td>    2.684</td> <td> 0.007</td> <td>    4.968</td> <td>   31.916</td>\n",
       "</tr>\n",
       "<tr>\n",
       "  <th>neighbourhood_Pioneer Square</th>            <td>   38.3430</td> <td>    9.954</td> <td>    3.852</td> <td> 0.000</td> <td>   18.825</td> <td>   57.861</td>\n",
       "</tr>\n",
       "<tr>\n",
       "  <th>neighbourhood_Rainier Beach</th>             <td>  -25.7589</td> <td>    8.824</td> <td>   -2.919</td> <td> 0.004</td> <td>  -43.059</td> <td>   -8.458</td>\n",
       "</tr>\n",
       "<tr>\n",
       "  <th>neighbourhood_Ravenna</th>                   <td>  -31.3494</td> <td>    5.101</td> <td>   -6.146</td> <td> 0.000</td> <td>  -41.351</td> <td>  -21.348</td>\n",
       "</tr>\n",
       "<tr>\n",
       "  <th>neighbourhood_Riverview</th>                 <td>  -45.6903</td> <td>   13.090</td> <td>   -3.491</td> <td> 0.000</td> <td>  -71.356</td> <td>  -20.025</td>\n",
       "</tr>\n",
       "<tr>\n",
       "  <th>neighbourhood_Roosevelt</th>                 <td>  -19.9038</td> <td>    7.207</td> <td>   -2.762</td> <td> 0.006</td> <td>  -34.034</td> <td>   -5.774</td>\n",
       "</tr>\n",
       "<tr>\n",
       "  <th>neighbourhood_Seward Park</th>               <td>  -41.1167</td> <td>    6.861</td> <td>   -5.993</td> <td> 0.000</td> <td>  -54.569</td> <td>  -27.664</td>\n",
       "</tr>\n",
       "<tr>\n",
       "  <th>neighbourhood_South Delridge</th>            <td>  -48.2812</td> <td>   14.024</td> <td>   -3.443</td> <td> 0.001</td> <td>  -75.779</td> <td>  -20.784</td>\n",
       "</tr>\n",
       "<tr>\n",
       "  <th>neighbourhood_South Lake Union</th>          <td>   24.1831</td> <td>    8.356</td> <td>    2.894</td> <td> 0.004</td> <td>    7.798</td> <td>   40.568</td>\n",
       "</tr>\n",
       "<tr>\n",
       "  <th>neighbourhood_South Park</th>                <td>  -67.1616</td> <td>   26.116</td> <td>   -2.572</td> <td> 0.010</td> <td> -118.367</td> <td>  -15.956</td>\n",
       "</tr>\n",
       "<tr>\n",
       "  <th>neighbourhood_The Junction</th>              <td>  -21.6827</td> <td>    6.452</td> <td>   -3.360</td> <td> 0.001</td> <td>  -34.334</td> <td>   -9.031</td>\n",
       "</tr>\n",
       "<tr>\n",
       "  <th>neighbourhood_University District</th>       <td>  -27.0908</td> <td>    3.847</td> <td>   -7.043</td> <td> 0.000</td> <td>  -34.633</td> <td>  -19.548</td>\n",
       "</tr>\n",
       "<tr>\n",
       "  <th>neighbourhood_Victory Heights</th>           <td>  -23.7032</td> <td>   10.308</td> <td>   -2.300</td> <td> 0.022</td> <td>  -43.914</td> <td>   -3.493</td>\n",
       "</tr>\n",
       "<tr>\n",
       "  <th>neighbourhood_Wallingford</th>               <td>  -12.1833</td> <td>    3.444</td> <td>   -3.537</td> <td> 0.000</td> <td>  -18.936</td> <td>   -5.430</td>\n",
       "</tr>\n",
       "<tr>\n",
       "  <th>neighbourhood_Wedgewood</th>                 <td>  -20.2324</td> <td>    9.951</td> <td>   -2.033</td> <td> 0.042</td> <td>  -39.743</td> <td>   -0.721</td>\n",
       "</tr>\n",
       "<tr>\n",
       "  <th>room_type_Private room</th>                  <td>  -41.7237</td> <td>    1.741</td> <td>  -23.960</td> <td> 0.000</td> <td>  -45.138</td> <td>  -38.309</td>\n",
       "</tr>\n",
       "<tr>\n",
       "  <th>room_type_Shared room</th>                   <td>  -72.6548</td> <td>    3.973</td> <td>  -18.288</td> <td> 0.000</td> <td>  -80.444</td> <td>  -64.865</td>\n",
       "</tr>\n",
       "<tr>\n",
       "  <th>property_type_Apartment</th>                 <td>  -13.1561</td> <td>    1.680</td> <td>   -7.830</td> <td> 0.000</td> <td>  -16.451</td> <td>   -9.862</td>\n",
       "</tr>\n",
       "<tr>\n",
       "  <th>property_type_Bed & Breakfast</th>           <td>   26.2703</td> <td>    6.509</td> <td>    4.036</td> <td> 0.000</td> <td>   13.509</td> <td>   39.032</td>\n",
       "</tr>\n",
       "<tr>\n",
       "  <th>property_type_Cabin</th>                     <td>  -20.4168</td> <td>    8.610</td> <td>   -2.371</td> <td> 0.018</td> <td>  -37.298</td> <td>   -3.535</td>\n",
       "</tr>\n",
       "<tr>\n",
       "  <th>property_type_Camper/RV</th>                 <td>  -33.6983</td> <td>   13.144</td> <td>   -2.564</td> <td> 0.010</td> <td>  -59.470</td> <td>   -7.927</td>\n",
       "</tr>\n",
       "<tr>\n",
       "  <th>property_type_Condominium</th>               <td>   -7.3907</td> <td>    4.515</td> <td>   -1.637</td> <td> 0.102</td> <td>  -16.243</td> <td>    1.462</td>\n",
       "</tr>\n",
       "<tr>\n",
       "  <th>property_type_Dorm</th>                      <td> -176.5335</td> <td>   27.750</td> <td>   -6.362</td> <td> 0.000</td> <td> -230.943</td> <td> -122.124</td>\n",
       "</tr>\n",
       "<tr>\n",
       "  <th>intercept</th>                               <td>  109.3106</td> <td>    2.378</td> <td>   45.963</td> <td> 0.000</td> <td>  104.647</td> <td>  113.974</td>\n",
       "</tr>\n",
       "</table>\n",
       "<table class=\"simpletable\">\n",
       "<tr>\n",
       "  <th>Omnibus:</th>       <td>321.483</td> <th>  Durbin-Watson:     </th> <td>   1.999</td> \n",
       "</tr>\n",
       "<tr>\n",
       "  <th>Prob(Omnibus):</th> <td> 0.000</td>  <th>  Jarque-Bera (JB):  </th> <td> 466.268</td> \n",
       "</tr>\n",
       "<tr>\n",
       "  <th>Skew:</th>          <td> 0.779</td>  <th>  Prob(JB):          </th> <td>5.64e-102</td>\n",
       "</tr>\n",
       "<tr>\n",
       "  <th>Kurtosis:</th>      <td> 4.059</td>  <th>  Cond. No.          </th> <td>    90.4</td> \n",
       "</tr>\n",
       "</table><br/><br/>Notes:<br/>[1] Standard Errors assume that the covariance matrix of the errors is correctly specified."
      ],
      "text/plain": [
       "<class 'statsmodels.iolib.summary.Summary'>\n",
       "\"\"\"\n",
       "                            OLS Regression Results                            \n",
       "==============================================================================\n",
       "Dep. Variable:                  price   R-squared:                       0.499\n",
       "Model:                            OLS   Adj. R-squared:                  0.491\n",
       "Method:                 Least Squares   F-statistic:                     57.27\n",
       "Date:                Sun, 18 Jul 2021   Prob (F-statistic):               0.00\n",
       "Time:                        19:02:21   Log-Likelihood:                -15828.\n",
       "No. Observations:                3155   AIC:                         3.177e+04\n",
       "Df Residuals:                    3100   BIC:                         3.210e+04\n",
       "Df Model:                          54                                         \n",
       "Covariance Type:            nonrobust                                         \n",
       "===========================================================================================================\n",
       "                                              coef    std err          t      P>|t|      [0.025      0.975]\n",
       "-----------------------------------------------------------------------------------------------------------\n",
       "beds                                       20.1170      0.797     25.230      0.000      18.554      21.680\n",
       "neighbourhood_Atlantic                    -13.6800      5.411     -2.528      0.012     -24.290      -3.070\n",
       "neighbourhood_Ballard                     -20.2066      2.916     -6.929      0.000     -25.924     -14.489\n",
       "neighbourhood_Belltown                     11.0518      3.044      3.630      0.000       5.082      17.021\n",
       "neighbourhood_Bitter Lake                 -24.8496     10.309     -2.410      0.016     -45.063      -4.636\n",
       "neighbourhood_Brighton                    -35.3596     16.533     -2.139      0.033     -67.777      -2.943\n",
       "neighbourhood_Broadview                   -31.5061      9.310     -3.384      0.001     -49.760     -13.252\n",
       "neighbourhood_Bryant                      -21.6847      6.651     -3.260      0.001     -34.725      -8.644\n",
       "neighbourhood_Central Business District    12.8016      4.641      2.758      0.006       3.702      21.902\n",
       "neighbourhood_Columbia City               -27.9631      4.983     -5.612      0.000     -37.733     -18.193\n",
       "neighbourhood_Crown Hill                  -44.9701      8.207     -5.479      0.000     -61.062     -28.878\n",
       "neighbourhood_Dunlap                      -20.7134     10.734     -1.930      0.054     -41.760       0.333\n",
       "neighbourhood_First Hill                   11.2821      3.863      2.921      0.004       3.708      18.856\n",
       "neighbourhood_Fremont                     -10.5994      3.357     -3.157      0.002     -17.181      -4.017\n",
       "neighbourhood_Genesee                     -14.4616      7.221     -2.003      0.045     -28.620      -0.303\n",
       "neighbourhood_Greenwood                   -30.4003      4.466     -6.807      0.000     -39.157     -21.644\n",
       "neighbourhood_Haller Lake                 -33.0695      9.975     -3.315      0.001     -52.628     -13.511\n",
       "neighbourhood_High Point                  -27.4958     11.753     -2.339      0.019     -50.541      -4.451\n",
       "neighbourhood_Highland Park               -29.6751     10.730     -2.766      0.006     -50.714      -8.636\n",
       "neighbourhood_Leschi                      -13.8459      6.042     -2.292      0.022     -25.693      -1.999\n",
       "neighbourhood_Lower Queen Anne             14.5560      4.366      3.334      0.001       5.995      23.117\n",
       "neighbourhood_Madrona                      -9.5211      6.355     -1.498      0.134     -21.981       2.939\n",
       "neighbourhood_Maple Leaf                  -29.3051      6.103     -4.802      0.000     -41.271     -17.339\n",
       "neighbourhood_Mathews Beach               -15.8250      9.029     -1.753      0.080     -33.529       1.879\n",
       "neighbourhood_Meadowbrook                 -23.3599     12.398     -1.884      0.060     -47.669       0.949\n",
       "neighbourhood_Minor                        -5.0181      3.030     -1.656      0.098     -10.960       0.924\n",
       "neighbourhood_Mount Baker                 -25.8593      5.698     -4.538      0.000     -37.031     -14.687\n",
       "neighbourhood_North Beacon Hill           -28.0172      4.036     -6.942      0.000     -35.931     -20.103\n",
       "neighbourhood_North Delridge              -39.1616      7.205     -5.436      0.000     -53.288     -25.035\n",
       "neighbourhood_Olympic Hills               -34.9241     10.743     -3.251      0.001     -55.988     -13.860\n",
       "neighbourhood_Phinney Ridge               -17.8090      5.256     -3.388      0.001     -28.115      -7.503\n",
       "neighbourhood_Pike Place Market            18.4417      6.872      2.684      0.007       4.968      31.916\n",
       "neighbourhood_Pioneer Square               38.3430      9.954      3.852      0.000      18.825      57.861\n",
       "neighbourhood_Rainier Beach               -25.7589      8.824     -2.919      0.004     -43.059      -8.458\n",
       "neighbourhood_Ravenna                     -31.3494      5.101     -6.146      0.000     -41.351     -21.348\n",
       "neighbourhood_Riverview                   -45.6903     13.090     -3.491      0.000     -71.356     -20.025\n",
       "neighbourhood_Roosevelt                   -19.9038      7.207     -2.762      0.006     -34.034      -5.774\n",
       "neighbourhood_Seward Park                 -41.1167      6.861     -5.993      0.000     -54.569     -27.664\n",
       "neighbourhood_South Delridge              -48.2812     14.024     -3.443      0.001     -75.779     -20.784\n",
       "neighbourhood_South Lake Union             24.1831      8.356      2.894      0.004       7.798      40.568\n",
       "neighbourhood_South Park                  -67.1616     26.116     -2.572      0.010    -118.367     -15.956\n",
       "neighbourhood_The Junction                -21.6827      6.452     -3.360      0.001     -34.334      -9.031\n",
       "neighbourhood_University District         -27.0908      3.847     -7.043      0.000     -34.633     -19.548\n",
       "neighbourhood_Victory Heights             -23.7032     10.308     -2.300      0.022     -43.914      -3.493\n",
       "neighbourhood_Wallingford                 -12.1833      3.444     -3.537      0.000     -18.936      -5.430\n",
       "neighbourhood_Wedgewood                   -20.2324      9.951     -2.033      0.042     -39.743      -0.721\n",
       "room_type_Private room                    -41.7237      1.741    -23.960      0.000     -45.138     -38.309\n",
       "room_type_Shared room                     -72.6548      3.973    -18.288      0.000     -80.444     -64.865\n",
       "property_type_Apartment                   -13.1561      1.680     -7.830      0.000     -16.451      -9.862\n",
       "property_type_Bed & Breakfast              26.2703      6.509      4.036      0.000      13.509      39.032\n",
       "property_type_Cabin                       -20.4168      8.610     -2.371      0.018     -37.298      -3.535\n",
       "property_type_Camper/RV                   -33.6983     13.144     -2.564      0.010     -59.470      -7.927\n",
       "property_type_Condominium                  -7.3907      4.515     -1.637      0.102     -16.243       1.462\n",
       "property_type_Dorm                       -176.5335     27.750     -6.362      0.000    -230.943    -122.124\n",
       "intercept                                 109.3106      2.378     45.963      0.000     104.647     113.974\n",
       "==============================================================================\n",
       "Omnibus:                      321.483   Durbin-Watson:                   1.999\n",
       "Prob(Omnibus):                  0.000   Jarque-Bera (JB):              466.268\n",
       "Skew:                           0.779   Prob(JB):                    5.64e-102\n",
       "Kurtosis:                       4.059   Cond. No.                         90.4\n",
       "==============================================================================\n",
       "\n",
       "Notes:\n",
       "[1] Standard Errors assume that the covariance matrix of the errors is correctly specified.\n",
       "\"\"\""
      ]
     },
     "execution_count": 52,
     "metadata": {},
     "output_type": "execute_result"
    }
   ],
   "source": [
    "selected_by_pvalue=[x for x in results.pvalues[results.pvalues<0.05].index]\n",
    "subset_X=X[selected_by_pvalue]\n",
    "\n",
    "model2=sm.OLS(y,subset_X)\n",
    "\n",
    "results2=model2.fit()\n",
    "results2.summary()"
   ]
  },
  {
   "cell_type": "code",
   "execution_count": 162,
   "id": "rubber-kazakhstan",
   "metadata": {},
   "outputs": [
    {
     "data": {
      "text/plain": [
       "(2541, 50)"
      ]
     },
     "execution_count": 162,
     "metadata": {},
     "output_type": "execute_result"
    }
   ],
   "source": [
    "subset_X.shape"
   ]
  },
  {
   "cell_type": "markdown",
   "id": "responsible-cotton",
   "metadata": {},
   "source": [
    "# 7 Results"
   ]
  },
  {
   "cell_type": "code",
   "execution_count": 57,
   "id": "elementary-request",
   "metadata": {
    "scrolled": false
   },
   "outputs": [
    {
     "data": {
      "image/png": "[encoded data removed]",
      "text/plain": [
       "<Figure size 648x3600 with 1 Axes>"
      ]
     },
     "metadata": {
      "needs_background": "light"
     },
     "output_type": "display_data"
    }
   ],
   "source": [
    "df_ols2=pd.DataFrame(results2.summary().tables[1].data)\n",
    "\n",
    "df_final_coeficients=df_ols2.set_index(df_ols2.iloc[:,0]).iloc[1:105,1].astype(float)\n",
    "\n",
    "df_final_coeficients.plot(kind='barh', figsize=(9, 50));"
   ]
  },
  {
   "cell_type": "code",
   "execution_count": 61,
   "id": "scheduled-drawing",
   "metadata": {},
   "outputs": [],
   "source": [
    "linreg_results_table=df_ols2.set_index(df_ols2.iloc[:,0])[[1]].reset_index().iloc[1:,:].reset_index().drop(columns='index')\n",
    "linreg_results_table.columns=['features','coef']\n",
    "linreg_results_table['coef']=linreg_results_table['coef'].astype(float)"
   ]
  },
  {
   "cell_type": "code",
   "execution_count": 84,
   "id": "potential-position",
   "metadata": {},
   "outputs": [
    {
     "data": {
      "text/plain": [
       "<AxesSubplot:ylabel='features'>"
      ]
     },
     "execution_count": 84,
     "metadata": {},
     "output_type": "execute_result"
    },
    {
     "data": {
      "image/png": "[encoded data removed]",
      "text/plain": [
       "<Figure size 648x1080 with 1 Axes>"
      ]
     },
     "metadata": {
      "needs_background": "light"
     },
     "output_type": "display_data"
    }
   ],
   "source": [
    "neighborhood_coefs_table=linreg_results_table[linreg_results_table['features'].str.contains('neighbourhood')]\n",
    "neighborhood_coefs_table.set_index('features',inplace=True)\n",
    "neighborhood_coefs_table.plot(kind=('barh'),figsize=(9, 15))"
   ]
  },
  {
   "cell_type": "code",
   "execution_count": 80,
   "id": "naked-spokesman",
   "metadata": {
    "scrolled": false
   },
   "outputs": [
    {
     "data": {
      "text/plain": [
       "<AxesSubplot:ylabel='features'>"
      ]
     },
     "execution_count": 80,
     "metadata": {},
     "output_type": "execute_result"
    },
    {
     "data": {
      "image/png": "[encoded data removed]",
      "text/plain": [
       "<Figure size 648x360 with 1 Axes>"
      ]
     },
     "metadata": {
      "needs_background": "light"
     },
     "output_type": "display_data"
    }
   ],
   "source": [
    "proprety_coefs_table=linreg_results_table[linreg_results_table['features'].str.contains('property')]\n",
    "proprety_coefs_table.set_index('features',inplace=True)\n",
    "proprety_coefs_table.plot(kind=('barh'),figsize=(9, 5))"
   ]
  },
  {
   "cell_type": "code",
   "execution_count": 83,
   "id": "reasonable-nancy",
   "metadata": {},
   "outputs": [
    {
     "data": {
      "text/plain": [
       "<AxesSubplot:ylabel='features'>"
      ]
     },
     "execution_count": 83,
     "metadata": {},
     "output_type": "execute_result"
    },
    {
     "data": {
      "image/png": "[encoded data removed]",
      "text/plain": [
       "<Figure size 648x360 with 1 Axes>"
      ]
     },
     "metadata": {
      "needs_background": "light"
     },
     "output_type": "display_data"
    }
   ],
   "source": [
    "bedtype_coefs_table=linreg_results_table[linreg_results_table['features'].str.contains('room')]\n",
    "bedtype_coefs_table.set_index('features',inplace=True)\n",
    "bedtype_coefs_table.plot(kind=('barh'),figsize=(9, 5))"
   ]
  },
  {
   "cell_type": "code",
   "execution_count": 85,
   "id": "superior-carter",
   "metadata": {},
   "outputs": [
    {
     "data": {
      "text/plain": [
       "<AxesSubplot:ylabel='features'>"
      ]
     },
     "execution_count": 85,
     "metadata": {},
     "output_type": "execute_result"
    },
    {
     "data": {
      "image/png": "[encoded data removed]",
      "text/plain": [
       "<Figure size 648x360 with 1 Axes>"
      ]
     },
     "metadata": {
      "needs_background": "light"
     },
     "output_type": "display_data"
    }
   ],
   "source": [
    "bedtype_coefs_table=linreg_results_table[linreg_results_table['features'].str.contains('bed')]\n",
    "bedtype_coefs_table.set_index('features',inplace=True)\n",
    "bedtype_coefs_table.plot(kind=('barh'),figsize=(9, 5))"
   ]
  },
  {
   "cell_type": "markdown",
   "id": "incorrect-pointer",
   "metadata": {},
   "source": [
    "So how can we read this ? \n",
    "\n",
    "we can say that being pioneer square , given that all other factors are kept constant, we would get a price higher with 38.28 dolars that being in capitol hill.\n",
    "\n",
    "Propreties listed as bed & breakfast have a positive skew on price, aswell as the number of bedrooms, followed by bathrooms, beds and lastly guests number.\n"
   ]
  },
  {
   "cell_type": "markdown",
   "id": "crude-technical",
   "metadata": {},
   "source": [
    "It seems like listing a dorm or a house in South park are both very bad for the price, aswell as many other features and how they can be affecting price"
   ]
  },
  {
   "cell_type": "markdown",
   "id": "recorded-equality",
   "metadata": {},
   "source": [
    "# 8 Deploy"
   ]
  },
  {
   "cell_type": "markdown",
   "id": "parliamentary-latino",
   "metadata": {},
   "source": [
    "You are the end user and you want a tool to compare your available choices. You can use this model to predict how the price might vary from one place to the other before even checking up on the lists\n",
    "\n",
    "You also can be a home owner and you want to estimate how much you should realisticly ask as a price. Pretty handy analysis ? "
   ]
  },
  {
   "cell_type": "markdown",
   "id": "selective-plaza",
   "metadata": {},
   "source": [
    "![image info](https://revenue-hub.com/wp-content/uploads/2019/10/airbnb-france-paris-1024x568.jpg)"
   ]
  },
  {
   "cell_type": "code",
   "execution_count": null,
   "id": "beautiful-nirvana",
   "metadata": {},
   "outputs": [],
   "source": []
  },
  {
   "cell_type": "code",
   "execution_count": null,
   "id": "unknown-thumbnail",
   "metadata": {},
   "outputs": [],
   "source": []
  }
 ],
 "metadata": {
  "kernelspec": {
   "display_name": "Python 3",
   "language": "python",
   "name": "python3"
  },
  "language_info": {
   "codemirror_mode": {
    "name": "ipython",
    "version": 3
   },
   "file_extension": ".py",
   "mimetype": "text/x-python",
   "name": "python",
   "nbconvert_exporter": "python",
   "pygments_lexer": "ipython3",
   "version": "3.6.12"
  }
 },
 "nbformat": 4,
 "nbformat_minor": 5
}
